{
 "cells": [
  {
   "cell_type": "code",
   "execution_count": 26,
   "metadata": {},
   "outputs": [],
   "source": [
    "import pandas as pd\n",
    "from geopy.geocoders import Nominatim\n",
    "import geopandas as gpd"
   ]
  },
  {
   "cell_type": "code",
   "execution_count": 27,
   "metadata": {},
   "outputs": [
    {
     "data": {
      "text/html": [
       "<div>\n",
       "<style scoped>\n",
       "    .dataframe tbody tr th:only-of-type {\n",
       "        vertical-align: middle;\n",
       "    }\n",
       "\n",
       "    .dataframe tbody tr th {\n",
       "        vertical-align: top;\n",
       "    }\n",
       "\n",
       "    .dataframe thead th {\n",
       "        text-align: right;\n",
       "    }\n",
       "</style>\n",
       "<table border=\"1\" class=\"dataframe\">\n",
       "  <thead>\n",
       "    <tr style=\"text-align: right;\">\n",
       "      <th></th>\n",
       "      <th>Location</th>\n",
       "      <th>Latitude</th>\n",
       "      <th>Longitude</th>\n",
       "    </tr>\n",
       "  </thead>\n",
       "  <tbody>\n",
       "    <tr>\n",
       "      <th>0</th>\n",
       "      <td>Kuala Lumpur</td>\n",
       "      <td>3.151696</td>\n",
       "      <td>101.694237</td>\n",
       "    </tr>\n",
       "  </tbody>\n",
       "</table>\n",
       "</div>"
      ],
      "text/plain": [
       "       Location  Latitude   Longitude\n",
       "0  Kuala Lumpur  3.151696  101.694237"
      ]
     },
     "execution_count": 27,
     "metadata": {},
     "output_type": "execute_result"
    }
   ],
   "source": [
    "def my_geocoder(address):\n",
    "            try:\n",
    "                point = geolocator.geocode(address).point\n",
    "                return pd.Series({'Latitude': point.latitude, 'Longitude': point.longitude})\n",
    "            except:\n",
    "                return pd.Series({'Latitude': None, 'Longitude': None})\n",
    "\n",
    "geolocator = Nominatim(user_agent=\"u2004763@siswa.um.edu.my\")\n",
    "your_address = \"Kuala Lumpur\"\n",
    "data = pd.DataFrame({'Location': [your_address],})\n",
    "data[['Latitude', 'Longitude']] = data.apply(lambda x: my_geocoder(x['Location']), axis=1)\n",
    "data"
   ]
  },
  {
   "cell_type": "code",
   "execution_count": 28,
   "metadata": {},
   "outputs": [
    {
     "name": "stderr",
     "output_type": "stream",
     "text": [
      "c:\\Users\\Khor Kean Teng\\AppData\\Local\\Programs\\Python\\Python311\\Lib\\site-packages\\pyproj\\crs\\crs.py:141: FutureWarning: '+init=<authority>:<code>' syntax is deprecated. '<authority>:<code>' is the preferred initialization method. When making the change, be mindful of axis order changes: https://pyproj4.github.io/pyproj/stable/gotchas.html#axis-order-changes-in-proj-6\n",
      "  in_crs_string = _prepare_from_proj_string(in_crs_string)\n"
     ]
    },
    {
     "data": {
      "text/plain": [
       "61.362896148359454"
      ]
     },
     "execution_count": 28,
     "metadata": {},
     "output_type": "execute_result"
    }
   ],
   "source": [
    "# distance function\n",
    "def distance_to_nearest_flood_point(data):\n",
    "    flood_points = pd.read_csv('data/all_states_all_years_geocoded.csv')\n",
    "    data = gpd.GeoDataFrame(data, geometry = gpd.points_from_xy(data.Longitude, data.Latitude), crs = \"EPSG:4326\").to_crs('EPSG:3857')\n",
    "    flood_points_data = gpd.GeoDataFrame(flood_points, geometry = gpd.points_from_xy(flood_points.Longitude, flood_points.Latitude), crs = \"EPSG:4326\").to_crs('EPSG:3857')\n",
    "    \n",
    "    # write a function to compute for the minimum distances from any flood point\n",
    "    for i in range(0, len(data)):\n",
    "        distances = flood_points_data.geometry.distance(data.iloc[i].geometry)\n",
    "        data.loc[i, 'distance'] = distances.min()\n",
    "\n",
    "    return data\n",
    "\n",
    "data = gpd.GeoDataFrame(data, geometry=gpd.points_from_xy(data.Longitude, data.Latitude))\n",
    "data.crs = {'init': 'epsg:4326'}\n",
    "            \n",
    "new_data = distance_to_nearest_flood_point(data)\n",
    "new_data['distance'][0]"
   ]
  },
  {
   "cell_type": "code",
   "execution_count": 29,
   "metadata": {},
   "outputs": [
    {
     "data": {
      "text/plain": [
       "0.47794162"
      ]
     },
     "execution_count": 29,
     "metadata": {},
     "output_type": "execute_result"
    }
   ],
   "source": [
    "\n",
    "def determineCoefficient(your_state):\n",
    "    new =  [4.77941620e-01, 1.22460645e-01, 1.37677540e-03,\n",
    "            1.52185371e+00, 5.30927351e-02, 9.10748035e-01, 5.44494671e-01,\n",
    "            8.31631218e-01, 6.50728294e-01, 2.67305790e-01, 1.99053696e-01,\n",
    "            1.45960340e+00, 1.12335137e+00, 1.95290287e-02] \n",
    "    if your_address == \"Kuala Lumpur\":\n",
    "        return new[0]\n",
    "    elif your_address == \"Johor\":\n",
    "        return new[1]\n",
    "    elif your_address == \"Selangor\":\n",
    "        return new[2]\n",
    "    elif your_address == \"Penang\":\n",
    "        return new[3]\n",
    "    elif your_address == \"Perak\":\n",
    "        return new[4]\n",
    "    elif your_address == \"Sarawak\":\n",
    "        return new[5]\n",
    "    elif your_address == \"Sabah\":\n",
    "        return new[6]\n",
    "    elif your_address == \"Pahang\":\n",
    "        return new[7]\n",
    "    elif your_address == \"Negeri Sembilan\":\n",
    "        return new[8]\n",
    "    elif your_address == \"Terengganu\":\n",
    "        return new[9]\n",
    "    elif your_address == \"Melaka\":\n",
    "        return new[10]\n",
    "    elif your_address == \"Kedah\":\n",
    "        return new[11]\n",
    "    elif your_address == \"Kelantan\":\n",
    "        return new[12]\n",
    "    elif your_address == \"Labuan\":\n",
    "        return new[13]\n",
    "    \n",
    "determineCoefficient(\"Labuan\")"
   ]
  },
  {
   "cell_type": "code",
   "execution_count": 31,
   "metadata": {},
   "outputs": [],
   "source": [
    "a = -1.89407693e-02*new_data['distance'][0] + 8.18317099 + determineCoefficient(\"Labuan\")"
   ]
  }
 ],
 "metadata": {
  "kernelspec": {
   "display_name": "Python 3",
   "language": "python",
   "name": "python3"
  },
  "language_info": {
   "codemirror_mode": {
    "name": "ipython",
    "version": 3
   },
   "file_extension": ".py",
   "mimetype": "text/x-python",
   "name": "python",
   "nbconvert_exporter": "python",
   "pygments_lexer": "ipython3",
   "version": "3.11.4"
  },
  "orig_nbformat": 4
 },
 "nbformat": 4,
 "nbformat_minor": 2
}
