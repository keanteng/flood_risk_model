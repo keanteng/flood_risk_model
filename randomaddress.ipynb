{
 "cells": [
  {
   "cell_type": "code",
   "execution_count": 1,
   "metadata": {},
   "outputs": [],
   "source": [
    "from selenium import webdriver\n",
    "from selenium.webdriver.common.by import By\n",
    "import time\n",
    "import pandas as pd\n",
    "import random"
   ]
  },
  {
   "cell_type": "code",
   "execution_count": 2,
   "metadata": {},
   "outputs": [],
   "source": [
    "# url = 'https://www.bestrandoms.com/random-address-in-my?quantity=20'\n",
    "\n",
    "# a function to get an address, with nested function to convert multiline to one line string\n",
    "def get_address(url):\n",
    "    driver = webdriver.Chrome()\n",
    "    driver.get(url)\n",
    "    time.sleep(2)\n",
    "\n",
    "    container1 = driver.find_element(By.XPATH, \"/html/body/section[2]/div/div[2]/div[2]/ul/li[1]\")\n",
    "    container2 = driver.find_element(By.XPATH, \"/html/body/section[2]/div/div[2]/div[2]/ul/li[2]\")\n",
    "    container3 = driver.find_element(By.XPATH, \"/html/body/section[2]/div/div[2]/div[2]/ul/li[3]\")\n",
    "    container4 = driver.find_element(By.XPATH, \"/html/body/section[2]/div/div[2]/div[2]/ul/li[4]\")\n",
    "    container5 = driver.find_element(By.XPATH, \"/html/body/section[2]/div/div[2]/div[2]/ul/li[5]\")\n",
    "    container6 = driver.find_element(By.XPATH, \"/html/body/section[2]/div/div[2]/div[2]/ul/li[6]\")\n",
    "    container7 = driver.find_element(By.XPATH, \"/html/body/section[2]/div/div[2]/div[2]/ul/li[7]\")\n",
    "    container8 = driver.find_element(By.XPATH, \"/html/body/section[2]/div/div[2]/div[2]/ul/li[8]\")\n",
    "    container9 = driver.find_element(By.XPATH, \"/html/body/section[2]/div/div[2]/div[2]/ul/li[9]\")\n",
    "    container10 = driver.find_element(By.XPATH, \"/html/body/section[2]/div/div[2]/div[2]/ul/li[10]\")\n",
    "    container11 = driver.find_element(By.XPATH, \"/html/body/section[2]/div/div[2]/div[2]/ul/li[11]\")\n",
    "    container12 = driver.find_element(By.XPATH, \"/html/body/section[2]/div/div[2]/div[2]/ul/li[12]\")\n",
    "    container13 = driver.find_element(By.XPATH, \"/html/body/section[2]/div/div[2]/div[2]/ul/li[13]\")\n",
    "    container14 = driver.find_element(By.XPATH, \"/html/body/section[2]/div/div[2]/div[2]/ul/li[14]\")\n",
    "    container15 = driver.find_element(By.XPATH, \"/html/body/section[2]/div/div[2]/div[2]/ul/li[15]\")\n",
    "    container16 = driver.find_element(By.XPATH, \"/html/body/section[2]/div/div[2]/div[2]/ul/li[16]\")\n",
    "    container17 = driver.find_element(By.XPATH, \"/html/body/section[2]/div/div[2]/div[2]/ul/li[17]\")\n",
    "    container18 = driver.find_element(By.XPATH, \"/html/body/section[2]/div/div[2]/div[2]/ul/li[18]\")\n",
    "    container19 = driver.find_element(By.XPATH, \"/html/body/section[2]/div/div[2]/div[2]/ul/li[19]\")\n",
    "    container20 = driver.find_element(By.XPATH, \"/html/body/section[2]/div/div[2]/div[2]/ul/li[20]\")\n",
    "    \n",
    "    def textLine(poem):\n",
    "        lst=list(poem)\n",
    "        string=''\n",
    "        for i in lst:\n",
    "            string+=i\n",
    "        # print(string)\n",
    "        lst1=string.split(\"\\n\")\n",
    "        str1=\"\"\n",
    "\n",
    "        for i in lst1:\n",
    "            str1+=i+\" ;\"\n",
    "        str2=str1[:-2]\n",
    "        return str2\n",
    "    \n",
    "    location1 = textLine(container1.text)\n",
    "    location2 = textLine(container2.text)\n",
    "    location3 = textLine(container3.text)\n",
    "    location4 = textLine(container4.text)\n",
    "    location5 = textLine(container5.text)\n",
    "    location6 = textLine(container6.text)\n",
    "    location7 = textLine(container7.text)\n",
    "    location8 = textLine(container8.text)\n",
    "    location9 = textLine(container9.text)\n",
    "    location10 = textLine(container10.text)\n",
    "    location11 = textLine(container11.text)\n",
    "    location12 = textLine(container12.text)\n",
    "    location13 = textLine(container13.text)\n",
    "    location14 = textLine(container14.text)\n",
    "    location15 = textLine(container15.text)\n",
    "    location16 = textLine(container16.text)\n",
    "    location17 = textLine(container17.text)\n",
    "    location18 = textLine(container18.text)\n",
    "    location19 = textLine(container19.text)\n",
    "    location20 = textLine(container20.text)\n",
    "    \n",
    "    driver.close()\n",
    "    \n",
    "    temp = [location1, location2, location3, location4, location5, location6, location7, location8, location9, location10, location11, location12, location13, location14, location15, location16, location17, location18, location19, location20]\n",
    "    return temp\n",
    "\n",
    "# get_address(url)"
   ]
  },
  {
   "cell_type": "code",
   "execution_count": 3,
   "metadata": {},
   "outputs": [
    {
     "ename": "NameError",
     "evalue": "name 'temp' is not defined",
     "output_type": "error",
     "traceback": [
      "\u001b[1;31m---------------------------------------------------------------------------\u001b[0m",
      "\u001b[1;31mNameError\u001b[0m                                 Traceback (most recent call last)",
      "Cell \u001b[1;32mIn[3], line 5\u001b[0m\n\u001b[0;32m      1\u001b[0m \u001b[39m# testing to add the function output to dataframe\u001b[39;00m\n\u001b[0;32m      2\u001b[0m \u001b[39m# note: we do not need to add the output to the dataframe with links, we create a new dataframe\u001b[39;00m\n\u001b[0;32m      3\u001b[0m \u001b[39m# because one link will result in 20 outputs\u001b[39;00m\n\u001b[0;32m      4\u001b[0m data \u001b[39m=\u001b[39m pd\u001b[39m.\u001b[39mDataFrame()\n\u001b[1;32m----> 5\u001b[0m data[\u001b[39m'\u001b[39m\u001b[39mtest\u001b[39m\u001b[39m'\u001b[39m] \u001b[39m=\u001b[39m temp\n\u001b[0;32m      6\u001b[0m data\u001b[39m.\u001b[39mhead()\n",
      "\u001b[1;31mNameError\u001b[0m: name 'temp' is not defined"
     ]
    }
   ],
   "source": [
    "# testing to add the function output to dataframe\n",
    "# note: we do not need to add the output to the dataframe with links, we create a new dataframe\n",
    "# because one link will result in 20 outputs\n",
    "data = pd.DataFrame()\n",
    "data['test'] = temp\n",
    "data.head()"
   ]
  },
  {
   "cell_type": "code",
   "execution_count": 4,
   "metadata": {},
   "outputs": [
    {
     "data": {
      "text/plain": [
       "'https://www.bestrandoms.com/random-address-in-my?quantity=104'"
      ]
     },
     "execution_count": 4,
     "metadata": {},
     "output_type": "execute_result"
    }
   ],
   "source": [
    "# a function to merge URLs\n",
    "def mergeURL(key):\n",
    "    baseURL = 'https://www.bestrandoms.com/random-address-in-my?quantity='\n",
    "    return baseURL + str(key)\n",
    "\n",
    "# testing\n",
    "mergeURL(104)"
   ]
  },
  {
   "cell_type": "code",
   "execution_count": 5,
   "metadata": {},
   "outputs": [
    {
     "data": {
      "text/plain": [
       "94442"
      ]
     },
     "execution_count": 5,
     "metadata": {},
     "output_type": "execute_result"
    }
   ],
   "source": [
    "# testing generation of a random key\n",
    "key = random.random()\n",
    "int(key*1e6)"
   ]
  },
  {
   "cell_type": "code",
   "execution_count": 8,
   "metadata": {},
   "outputs": [
    {
     "name": "stdout",
     "output_type": "stream",
     "text": [
      "   index      key                                       concated_url\n",
      "0      0  55822.0  https://www.bestrandoms.com/random-address-in-...\n",
      "1      1  89881.0  https://www.bestrandoms.com/random-address-in-...\n",
      "2      2      NaN                                               None\n",
      "3\n"
     ]
    }
   ],
   "source": [
    "# create a list of 100 index\n",
    "index = list(range(0,3))\n",
    "df = pd.DataFrame()\n",
    "df['index'] = index\n",
    "\n",
    "# concate the index with the base url\n",
    "new1 = [None]*len(df)\n",
    "new2 = [None]*len(df)\n",
    "\n",
    "for i in range(0,2):\n",
    "    new2[i] = int(random.random()*1e5)\n",
    "    new1[i] = mergeURL(new2[i])\n",
    "    \n",
    "# append the concated link list to the dataframe\n",
    "df['key'] = new2\n",
    "df['concated_url'] = new1\n",
    "\n",
    "# show the first 5 rows of the dataframe\n",
    "print(df.tail())\n",
    "print(len(df))"
   ]
  },
  {
   "cell_type": "code",
   "execution_count": 10,
   "metadata": {},
   "outputs": [
    {
     "data": {
      "text/plain": [
       "['Street:  6641 Jalan Raja Uda ;City:   Butterworth ;State/province/area:    Pulau Pinang ;Phone number  6048829988 ;Zip code  12300 ;Country calling code  +60 ;Country  Malaysia',\n",
       " 'Street:  Plot 17 Hilir Sungai Keluang 3 Bayan Lepas Free Industrial Zone Phase Iv ;City:  Bayan Lepas ;State/province/area:    Penang ;Phone number  604-6436754 ;Zip code  11900 ;Country calling code  +60 ;Country  Malaysia']"
      ]
     },
     "execution_count": 10,
     "metadata": {},
     "output_type": "execute_result"
    }
   ],
   "source": [
    "a = get_address(df['concated_url'][i])\n",
    "\n",
    "for i in range(1, len(df) - 1):\n",
    "    a1 = get_address(df['concated_url'][i])\n",
    "    a.extend(a1)\n",
    "    \n",
    "a[0:2]"
   ]
  },
  {
   "cell_type": "code",
   "execution_count": null,
   "metadata": {},
   "outputs": [],
   "source": [
    "df2 = pd.DataFrame()\n",
    "df2[\"Address\"] = a\n",
    "\n",
    "# export csv\n",
    "df2.to_excel('random_address7.xlsx', index=False)"
   ]
  },
  {
   "cell_type": "code",
   "execution_count": null,
   "metadata": {},
   "outputs": [],
   "source": [
    "len(a)"
   ]
  }
 ],
 "metadata": {
  "kernelspec": {
   "display_name": "Python 3",
   "language": "python",
   "name": "python3"
  },
  "language_info": {
   "codemirror_mode": {
    "name": "ipython",
    "version": 3
   },
   "file_extension": ".py",
   "mimetype": "text/x-python",
   "name": "python",
   "nbconvert_exporter": "python",
   "pygments_lexer": "ipython3",
   "version": "3.11.4"
  },
  "orig_nbformat": 4
 },
 "nbformat": 4,
 "nbformat_minor": 2
}
