{
 "cells": [
  {
   "cell_type": "code",
   "execution_count": 1,
   "metadata": {},
   "outputs": [],
   "source": [
    "from selenium import webdriver\n",
    "from selenium.webdriver.common.by import By\n",
    "import time\n",
    "import pandas as pd\n",
    "import random"
   ]
  },
  {
   "cell_type": "code",
   "execution_count": 12,
   "metadata": {},
   "outputs": [
    {
     "data": {
      "text/plain": [
       "['Street:  G Blok A Damansara Suria Taman Perindustrian Kip Mala ;City:   Kuala Lumpur ;State/province/area:    Wilayah Persekutuan ;Phone number  036275-3031 ;Zip code  52200 ;Country calling code  +60 ;Country  Malaysia',\n",
       " 'Street:  205 JLN TUJUH TAMAN JAYA ;City:   Kajang ;State/province/area:    Selangor ;Phone number  038736-0837 ;Zip code  43000 ;Country calling code  +60 ;Country  Malaysia',\n",
       " 'Street:  41 Jalan 1/23F Teratai Mewah ;City:   Kuala Lumpur ;State/province/area:    Wilayah Persekutuan ;Phone number  (603) 40226285 ;Zip code  53000 ;Country calling code  +60 ;Country  Malaysia',\n",
       " 'Street:  4 10 Jln 1/82B Bangsar Utama ;City:   Kuala Lumpur ;State/province/area:    Wilayah Persekutuan ;Phone number  032457-6245 ;Zip code  59000 ;Country calling code  +60 ;Country  Malaysia',\n",
       " 'Street:  No. 15 ;City:   Laksamana Cheng Ho ;State/province/area:    Air Leleh ;Phone number  06-286-3779 ;Zip code  75050 ;Country calling code  +60 ;Country  Malaysia',\n",
       " 'Street:  5 Persiaran Pegaga Taman Bayu Perdana ;City:   Klang ;State/province/area:    Selangor ;Phone number  (603) 33237935 ;Zip code  41200 ;Country calling code  +60 ;Country  Malaysia',\n",
       " 'Street:  Lot 24 Tasek Industrial Estate Darul Ridzuan ;City:  Ipoh ;State/province/area:    Perak ;Phone number  05-5452448 ;Zip code  31400 ;Country calling code  +60 ;Country  Malaysia',\n",
       " 'Street:  13 Wisma Nusantara Jln Punchak ;City:   Kuala Lumpur ;State/province/area:    Wilayah Persekutuan ;Phone number  032031-7731 ;Zip code  50250 ;Country calling code  +60 ;Country  Malaysia',\n",
       " 'Street:  No. 8 Jln Air Panas ;City:   Kuala Lumpur ;State/province/area:    Wilayah Persekutuan ;Phone number  034022-2264 ;Zip code  53200 ;Country calling code  +60 ;Country  Malaysia',\n",
       " 'Street:  11 Lorong Sungai Rasau 27-C ;City:   Klang ;State/province/area:    Selangor ;Phone number  (603) 33371437 ;Zip code  41300 ;Country calling code  +60 ;Country  Malaysia',\n",
       " 'Street:  12Th Floor, Menara Bgi Plaza Berjaya, Jalan Imbi ;City:   Kuala Lumpur ;State/province/area:    Wilayah Persekutuan ;Phone number  03-21444848 ;Zip code  55100 ;Country calling code  +60 ;Country  Malaysia',\n",
       " 'Street:  No. 31 Jalan 8/1 ;City:   Shah Alam ;State/province/area:    Selangor ;Phone number  +60 (0)3 3393-1765 ;Zip code  40000 ;Country calling code  +60 ;Country  Malaysia',\n",
       " 'Street:  No.5 1St Floor Jalan 46B/26 Pusat Bandar Sri Rampai Setapak. 5330 ;City:   Kuala Lumpur ;State/province/area:    Wilayah Persekutuan ;Phone number  034142-6941 ;Zip code  53300 ;Country calling code  +60 ;Country  Malaysia',\n",
       " 'Street:  No. 229 Jln Bayan Lepas Bayan Lepas ;City:   Bayan Lepas ;State/province/area:    Pulau Pinang ;Phone number  6046430762 ;Zip code  11900 ;Country calling code  +60 ;Country  Malaysia',\n",
       " 'Street:  1St Floor, Taman Shang Shophouse, ;City:   Miri ;State/province/area:    Sarawak ;Phone number  +60 (0)85 414061 ;Zip code  98000 ;Country calling code  +60 ;Country  Malaysia',\n",
       " 'Street:  Crown Regency Service Apartment, Jalan P. Ramlee, ;City:   Kuala Lumpur ;State/province/area:    Wilayah Persekutuan ;Phone number  03-2163-2376 ;Zip code  50250 ;Country calling code  +60 ;Country  Malaysia',\n",
       " 'Street:  Lf Hotel Nikko Jln Ampang ;City:   Kuala Lumpur ;State/province/area:    Wilayah Persekutuan ;Phone number  032163-2921 ;Zip code  50450 ;Country calling code  +60 ;Country  Malaysia',\n",
       " 'Street:  1 Lbh Sultan Hishamuddin 2 Kaw 20 Kaw Indust Bdr Sultan Suleiman Pelabuhan Pela ;City:   Klang ;State/province/area:    Selangor ;Phone number  033546-2054 ;Zip code  42000 ;Country calling code  +60 ;Country  Malaysia',\n",
       " 'Street:  No. 98 Jln 11/34B Off Jln Kepong Sri Edaran Industrial Park ;City:   Kuala Lumpur ;State/province/area:    Wilayah Persekutuan ;Phone number  036251-4378 ;Zip code  52100 ;Country calling code  +60 ;Country  Malaysia',\n",
       " 'Street:  5 Bangunan Sgms Jln Chow Kit ;City:   Kuala Lumpur ;State/province/area:    Wilayah Persekutuan ;Phone number  034042-4480 ;Zip code  50350 ;Country calling code  +60 ;Country  Malaysia']"
      ]
     },
     "execution_count": 12,
     "metadata": {},
     "output_type": "execute_result"
    }
   ],
   "source": [
    "# url = 'https://www.bestrandoms.com/random-address-in-my?quantity=20'\n",
    "\n",
    "# a function to get an address, with nested function to convert multiline to one line string\n",
    "def get_address(url):\n",
    "    driver = webdriver.Chrome()\n",
    "    driver.get(url)\n",
    "    time.sleep(2)\n",
    "\n",
    "    container1 = driver.find_element(By.XPATH, \"/html/body/section[2]/div/div[2]/div[2]/ul/li[1]\")\n",
    "    container2 = driver.find_element(By.XPATH, \"/html/body/section[2]/div/div[2]/div[2]/ul/li[2]\")\n",
    "    container3 = driver.find_element(By.XPATH, \"/html/body/section[2]/div/div[2]/div[2]/ul/li[3]\")\n",
    "    container4 = driver.find_element(By.XPATH, \"/html/body/section[2]/div/div[2]/div[2]/ul/li[4]\")\n",
    "    container5 = driver.find_element(By.XPATH, \"/html/body/section[2]/div/div[2]/div[2]/ul/li[5]\")\n",
    "    container6 = driver.find_element(By.XPATH, \"/html/body/section[2]/div/div[2]/div[2]/ul/li[6]\")\n",
    "    container7 = driver.find_element(By.XPATH, \"/html/body/section[2]/div/div[2]/div[2]/ul/li[7]\")\n",
    "    container8 = driver.find_element(By.XPATH, \"/html/body/section[2]/div/div[2]/div[2]/ul/li[8]\")\n",
    "    container9 = driver.find_element(By.XPATH, \"/html/body/section[2]/div/div[2]/div[2]/ul/li[9]\")\n",
    "    container10 = driver.find_element(By.XPATH, \"/html/body/section[2]/div/div[2]/div[2]/ul/li[10]\")\n",
    "    container11 = driver.find_element(By.XPATH, \"/html/body/section[2]/div/div[2]/div[2]/ul/li[11]\")\n",
    "    container12 = driver.find_element(By.XPATH, \"/html/body/section[2]/div/div[2]/div[2]/ul/li[12]\")\n",
    "    container13 = driver.find_element(By.XPATH, \"/html/body/section[2]/div/div[2]/div[2]/ul/li[13]\")\n",
    "    container14 = driver.find_element(By.XPATH, \"/html/body/section[2]/div/div[2]/div[2]/ul/li[14]\")\n",
    "    container15 = driver.find_element(By.XPATH, \"/html/body/section[2]/div/div[2]/div[2]/ul/li[15]\")\n",
    "    container16 = driver.find_element(By.XPATH, \"/html/body/section[2]/div/div[2]/div[2]/ul/li[16]\")\n",
    "    container17 = driver.find_element(By.XPATH, \"/html/body/section[2]/div/div[2]/div[2]/ul/li[17]\")\n",
    "    container18 = driver.find_element(By.XPATH, \"/html/body/section[2]/div/div[2]/div[2]/ul/li[18]\")\n",
    "    container19 = driver.find_element(By.XPATH, \"/html/body/section[2]/div/div[2]/div[2]/ul/li[19]\")\n",
    "    container20 = driver.find_element(By.XPATH, \"/html/body/section[2]/div/div[2]/div[2]/ul/li[20]\")\n",
    "    \n",
    "    def textLine(poem):\n",
    "        lst=list(poem)\n",
    "        string=''\n",
    "        for i in lst:\n",
    "            string+=i\n",
    "        # print(string)\n",
    "        lst1=string.split(\"\\n\")\n",
    "        str1=\"\"\n",
    "\n",
    "        for i in lst1:\n",
    "            str1+=i+\" ;\"\n",
    "        str2=str1[:-2]\n",
    "        return str2\n",
    "    \n",
    "    location1 = textLine(container1.text)\n",
    "    location2 = textLine(container2.text)\n",
    "    location3 = textLine(container3.text)\n",
    "    location4 = textLine(container4.text)\n",
    "    location5 = textLine(container5.text)\n",
    "    location6 = textLine(container6.text)\n",
    "    location7 = textLine(container7.text)\n",
    "    location8 = textLine(container8.text)\n",
    "    location9 = textLine(container9.text)\n",
    "    location10 = textLine(container10.text)\n",
    "    location11 = textLine(container11.text)\n",
    "    location12 = textLine(container12.text)\n",
    "    location13 = textLine(container13.text)\n",
    "    location14 = textLine(container14.text)\n",
    "    location15 = textLine(container15.text)\n",
    "    location16 = textLine(container16.text)\n",
    "    location17 = textLine(container17.text)\n",
    "    location18 = textLine(container18.text)\n",
    "    location19 = textLine(container19.text)\n",
    "    location20 = textLine(container20.text)\n",
    "    \n",
    "    driver.close()\n",
    "    \n",
    "    temp = [location1, location2, location3, location4, location5, location6, location7, location8, location9, location10, location11, location12, location13, location14, location15, location16, location17, location18, location19, location20]\n",
    "    return temp\n",
    "\n",
    "# get_address(url)"
   ]
  },
  {
   "cell_type": "code",
   "execution_count": 4,
   "metadata": {},
   "outputs": [
    {
     "ename": "NameError",
     "evalue": "name 'temp' is not defined",
     "output_type": "error",
     "traceback": [
      "\u001b[1;31m---------------------------------------------------------------------------\u001b[0m",
      "\u001b[1;31mNameError\u001b[0m                                 Traceback (most recent call last)",
      "Cell \u001b[1;32mIn[4], line 5\u001b[0m\n\u001b[0;32m      1\u001b[0m \u001b[39m# testing to add the function output to dataframe\u001b[39;00m\n\u001b[0;32m      2\u001b[0m \u001b[39m# note: we do not need to add the output to the dataframe with links, we create a new dataframe\u001b[39;00m\n\u001b[0;32m      3\u001b[0m \u001b[39m# because one link will result in 20 outputs\u001b[39;00m\n\u001b[0;32m      4\u001b[0m data \u001b[39m=\u001b[39m pd\u001b[39m.\u001b[39mDataFrame()\n\u001b[1;32m----> 5\u001b[0m data[\u001b[39m'\u001b[39m\u001b[39mtest\u001b[39m\u001b[39m'\u001b[39m] \u001b[39m=\u001b[39m temp\n\u001b[0;32m      6\u001b[0m data\u001b[39m.\u001b[39mhead()\n",
      "\u001b[1;31mNameError\u001b[0m: name 'temp' is not defined"
     ]
    }
   ],
   "source": [
    "# testing to add the function output to dataframe\n",
    "# note: we do not need to add the output to the dataframe with links, we create a new dataframe\n",
    "# because one link will result in 20 outputs\n",
    "data = pd.DataFrame()\n",
    "data['test'] = temp\n",
    "data.head()"
   ]
  },
  {
   "cell_type": "code",
   "execution_count": 5,
   "metadata": {},
   "outputs": [
    {
     "data": {
      "text/plain": [
       "'https://www.bestrandoms.com/random-address-in-my?quantity=104'"
      ]
     },
     "execution_count": 5,
     "metadata": {},
     "output_type": "execute_result"
    }
   ],
   "source": [
    "# a function to merge URLs\n",
    "def mergeURL(key):\n",
    "    baseURL = 'https://www.bestrandoms.com/random-address-in-my?quantity='\n",
    "    return baseURL + str(key)\n",
    "\n",
    "# testing\n",
    "mergeURL(104)"
   ]
  },
  {
   "cell_type": "code",
   "execution_count": 13,
   "metadata": {},
   "outputs": [
    {
     "data": {
      "text/plain": [
       "22201"
      ]
     },
     "execution_count": 13,
     "metadata": {},
     "output_type": "execute_result"
    }
   ],
   "source": [
    "# testing generation of a random key\n",
    "key = random.random()\n",
    "int(key*1e6)"
   ]
  },
  {
   "cell_type": "code",
   "execution_count": 40,
   "metadata": {},
   "outputs": [
    {
     "name": "stdout",
     "output_type": "stream",
     "text": [
      "     index    key                                       concated_url\n",
      "495    496  61234  https://www.bestrandoms.com/random-address-in-...\n",
      "496    497  62327  https://www.bestrandoms.com/random-address-in-...\n",
      "497    498  75421  https://www.bestrandoms.com/random-address-in-...\n",
      "498    499  25246  https://www.bestrandoms.com/random-address-in-...\n",
      "499    500  38243  https://www.bestrandoms.com/random-address-in-...\n",
      "500\n"
     ]
    }
   ],
   "source": [
    "# create a list of 100 index\n",
    "index = list(range(1,501))\n",
    "df = pd.DataFrame()\n",
    "df['index'] = index\n",
    "\n",
    "# concate the index with the base url\n",
    "new1 = [None]*len(df)\n",
    "new2 = [None]*len(df)\n",
    "\n",
    "for i in range(0,500):\n",
    "    new2[i] = int(random.random()*1e5)\n",
    "    new1[i] = mergeURL(new2[i])\n",
    "    \n",
    "# append the concated link list to the dataframe\n",
    "df['key'] = new2\n",
    "df['concated_url'] = new1\n",
    "\n",
    "# show the first 5 rows of the dataframe\n",
    "print(df.tail())\n",
    "print(len(df))"
   ]
  },
  {
   "cell_type": "code",
   "execution_count": 41,
   "metadata": {},
   "outputs": [
    {
     "ename": "NoSuchElementException",
     "evalue": "Message: no such element: Unable to locate element: {\"method\":\"xpath\",\"selector\":\"/html/body/section[2]/div/div[2]/div[2]/ul/li[12]\"}\n  (Session info: chrome=115.0.5790.170); For documentation on this error, please visit: https://www.selenium.dev/documentation/webdriver/troubleshooting/errors#no-such-element-exception\nStacktrace:\nBacktrace:\n\tGetHandleVerifier [0x00007FF63C1A4A62+57106]\n\t(No symbol) [0x00007FF63C11CF52]\n\t(No symbol) [0x00007FF63BFEE2CB]\n\t(No symbol) [0x00007FF63C02786E]\n\t(No symbol) [0x00007FF63C02795C]\n\t(No symbol) [0x00007FF63C060477]\n\t(No symbol) [0x00007FF63C0469FF]\n\t(No symbol) [0x00007FF63C05E522]\n\t(No symbol) [0x00007FF63C046793]\n\t(No symbol) [0x00007FF63C01CE81]\n\t(No symbol) [0x00007FF63C01E064]\n\tGetHandleVerifier [0x00007FF63C454222+2873042]\n\tGetHandleVerifier [0x00007FF63C4A6590+3209792]\n\tGetHandleVerifier [0x00007FF63C49F3AF+3180639]\n\tGetHandleVerifier [0x00007FF63C235F25+652245]\n\t(No symbol) [0x00007FF63C128618]\n\t(No symbol) [0x00007FF63C1247C4]\n\t(No symbol) [0x00007FF63C1248BC]\n\t(No symbol) [0x00007FF63C114C33]\n\tBaseThreadInitThunk [0x00007FFDF9FE26AD+29]\n\tRtlUserThreadStart [0x00007FFDFB64AA68+40]\n",
     "output_type": "error",
     "traceback": [
      "\u001b[1;31m---------------------------------------------------------------------------\u001b[0m",
      "\u001b[1;31mNoSuchElementException\u001b[0m                    Traceback (most recent call last)",
      "Cell \u001b[1;32mIn[41], line 4\u001b[0m\n\u001b[0;32m      1\u001b[0m a \u001b[39m=\u001b[39m get_address(df[\u001b[39m'\u001b[39m\u001b[39mconcated_url\u001b[39m\u001b[39m'\u001b[39m][i])\n\u001b[0;32m      3\u001b[0m \u001b[39mfor\u001b[39;00m i \u001b[39min\u001b[39;00m \u001b[39mrange\u001b[39m(\u001b[39m1\u001b[39m, \u001b[39mlen\u001b[39m(df) \u001b[39m-\u001b[39m \u001b[39m1\u001b[39m):\n\u001b[1;32m----> 4\u001b[0m     a1 \u001b[39m=\u001b[39m get_address(df[\u001b[39m'\u001b[39;49m\u001b[39mconcated_url\u001b[39;49m\u001b[39m'\u001b[39;49m][i])\n\u001b[0;32m      5\u001b[0m     a\u001b[39m.\u001b[39mextend(a1)\n\u001b[0;32m      7\u001b[0m a[\u001b[39m0\u001b[39m:\u001b[39m2\u001b[39m]\n",
      "Cell \u001b[1;32mIn[12], line 20\u001b[0m, in \u001b[0;36mget_address\u001b[1;34m(url)\u001b[0m\n\u001b[0;32m     18\u001b[0m container10 \u001b[39m=\u001b[39m driver\u001b[39m.\u001b[39mfind_element(By\u001b[39m.\u001b[39mXPATH, \u001b[39m\"\u001b[39m\u001b[39m/html/body/section[2]/div/div[2]/div[2]/ul/li[10]\u001b[39m\u001b[39m\"\u001b[39m)\n\u001b[0;32m     19\u001b[0m container11 \u001b[39m=\u001b[39m driver\u001b[39m.\u001b[39mfind_element(By\u001b[39m.\u001b[39mXPATH, \u001b[39m\"\u001b[39m\u001b[39m/html/body/section[2]/div/div[2]/div[2]/ul/li[11]\u001b[39m\u001b[39m\"\u001b[39m)\n\u001b[1;32m---> 20\u001b[0m container12 \u001b[39m=\u001b[39m driver\u001b[39m.\u001b[39;49mfind_element(By\u001b[39m.\u001b[39;49mXPATH, \u001b[39m\"\u001b[39;49m\u001b[39m/html/body/section[2]/div/div[2]/div[2]/ul/li[12]\u001b[39;49m\u001b[39m\"\u001b[39;49m)\n\u001b[0;32m     21\u001b[0m container13 \u001b[39m=\u001b[39m driver\u001b[39m.\u001b[39mfind_element(By\u001b[39m.\u001b[39mXPATH, \u001b[39m\"\u001b[39m\u001b[39m/html/body/section[2]/div/div[2]/div[2]/ul/li[13]\u001b[39m\u001b[39m\"\u001b[39m)\n\u001b[0;32m     22\u001b[0m container14 \u001b[39m=\u001b[39m driver\u001b[39m.\u001b[39mfind_element(By\u001b[39m.\u001b[39mXPATH, \u001b[39m\"\u001b[39m\u001b[39m/html/body/section[2]/div/div[2]/div[2]/ul/li[14]\u001b[39m\u001b[39m\"\u001b[39m)\n",
      "File \u001b[1;32mc:\\Users\\Khor Kean Teng\\AppData\\Local\\Programs\\Python\\Python311\\Lib\\site-packages\\selenium\\webdriver\\remote\\webdriver.py:739\u001b[0m, in \u001b[0;36mWebDriver.find_element\u001b[1;34m(self, by, value)\u001b[0m\n\u001b[0;32m    736\u001b[0m     by \u001b[39m=\u001b[39m By\u001b[39m.\u001b[39mCSS_SELECTOR\n\u001b[0;32m    737\u001b[0m     value \u001b[39m=\u001b[39m \u001b[39mf\u001b[39m\u001b[39m'\u001b[39m\u001b[39m[name=\u001b[39m\u001b[39m\"\u001b[39m\u001b[39m{\u001b[39;00mvalue\u001b[39m}\u001b[39;00m\u001b[39m\"\u001b[39m\u001b[39m]\u001b[39m\u001b[39m'\u001b[39m\n\u001b[1;32m--> 739\u001b[0m \u001b[39mreturn\u001b[39;00m \u001b[39mself\u001b[39;49m\u001b[39m.\u001b[39;49mexecute(Command\u001b[39m.\u001b[39;49mFIND_ELEMENT, {\u001b[39m\"\u001b[39;49m\u001b[39musing\u001b[39;49m\u001b[39m\"\u001b[39;49m: by, \u001b[39m\"\u001b[39;49m\u001b[39mvalue\u001b[39;49m\u001b[39m\"\u001b[39;49m: value})[\u001b[39m\"\u001b[39m\u001b[39mvalue\u001b[39m\u001b[39m\"\u001b[39m]\n",
      "File \u001b[1;32mc:\\Users\\Khor Kean Teng\\AppData\\Local\\Programs\\Python\\Python311\\Lib\\site-packages\\selenium\\webdriver\\remote\\webdriver.py:345\u001b[0m, in \u001b[0;36mWebDriver.execute\u001b[1;34m(self, driver_command, params)\u001b[0m\n\u001b[0;32m    343\u001b[0m response \u001b[39m=\u001b[39m \u001b[39mself\u001b[39m\u001b[39m.\u001b[39mcommand_executor\u001b[39m.\u001b[39mexecute(driver_command, params)\n\u001b[0;32m    344\u001b[0m \u001b[39mif\u001b[39;00m response:\n\u001b[1;32m--> 345\u001b[0m     \u001b[39mself\u001b[39;49m\u001b[39m.\u001b[39;49merror_handler\u001b[39m.\u001b[39;49mcheck_response(response)\n\u001b[0;32m    346\u001b[0m     response[\u001b[39m\"\u001b[39m\u001b[39mvalue\u001b[39m\u001b[39m\"\u001b[39m] \u001b[39m=\u001b[39m \u001b[39mself\u001b[39m\u001b[39m.\u001b[39m_unwrap_value(response\u001b[39m.\u001b[39mget(\u001b[39m\"\u001b[39m\u001b[39mvalue\u001b[39m\u001b[39m\"\u001b[39m, \u001b[39mNone\u001b[39;00m))\n\u001b[0;32m    347\u001b[0m     \u001b[39mreturn\u001b[39;00m response\n",
      "File \u001b[1;32mc:\\Users\\Khor Kean Teng\\AppData\\Local\\Programs\\Python\\Python311\\Lib\\site-packages\\selenium\\webdriver\\remote\\errorhandler.py:229\u001b[0m, in \u001b[0;36mErrorHandler.check_response\u001b[1;34m(self, response)\u001b[0m\n\u001b[0;32m    227\u001b[0m         alert_text \u001b[39m=\u001b[39m value[\u001b[39m\"\u001b[39m\u001b[39malert\u001b[39m\u001b[39m\"\u001b[39m]\u001b[39m.\u001b[39mget(\u001b[39m\"\u001b[39m\u001b[39mtext\u001b[39m\u001b[39m\"\u001b[39m)\n\u001b[0;32m    228\u001b[0m     \u001b[39mraise\u001b[39;00m exception_class(message, screen, stacktrace, alert_text)  \u001b[39m# type: ignore[call-arg]  # mypy is not smart enough here\u001b[39;00m\n\u001b[1;32m--> 229\u001b[0m \u001b[39mraise\u001b[39;00m exception_class(message, screen, stacktrace)\n",
      "\u001b[1;31mNoSuchElementException\u001b[0m: Message: no such element: Unable to locate element: {\"method\":\"xpath\",\"selector\":\"/html/body/section[2]/div/div[2]/div[2]/ul/li[12]\"}\n  (Session info: chrome=115.0.5790.170); For documentation on this error, please visit: https://www.selenium.dev/documentation/webdriver/troubleshooting/errors#no-such-element-exception\nStacktrace:\nBacktrace:\n\tGetHandleVerifier [0x00007FF63C1A4A62+57106]\n\t(No symbol) [0x00007FF63C11CF52]\n\t(No symbol) [0x00007FF63BFEE2CB]\n\t(No symbol) [0x00007FF63C02786E]\n\t(No symbol) [0x00007FF63C02795C]\n\t(No symbol) [0x00007FF63C060477]\n\t(No symbol) [0x00007FF63C0469FF]\n\t(No symbol) [0x00007FF63C05E522]\n\t(No symbol) [0x00007FF63C046793]\n\t(No symbol) [0x00007FF63C01CE81]\n\t(No symbol) [0x00007FF63C01E064]\n\tGetHandleVerifier [0x00007FF63C454222+2873042]\n\tGetHandleVerifier [0x00007FF63C4A6590+3209792]\n\tGetHandleVerifier [0x00007FF63C49F3AF+3180639]\n\tGetHandleVerifier [0x00007FF63C235F25+652245]\n\t(No symbol) [0x00007FF63C128618]\n\t(No symbol) [0x00007FF63C1247C4]\n\t(No symbol) [0x00007FF63C1248BC]\n\t(No symbol) [0x00007FF63C114C33]\n\tBaseThreadInitThunk [0x00007FFDF9FE26AD+29]\n\tRtlUserThreadStart [0x00007FFDFB64AA68+40]\n"
     ]
    }
   ],
   "source": [
    "a = get_address(df['concated_url'][i])\n",
    "\n",
    "for i in range(1, len(df) - 1):\n",
    "    a1 = get_address(df['concated_url'][i])\n",
    "    a.extend(a1)\n",
    "    \n",
    "a[0:2]"
   ]
  },
  {
   "cell_type": "code",
   "execution_count": 43,
   "metadata": {},
   "outputs": [],
   "source": [
    "df2 = pd.DataFrame()\n",
    "df2[\"Address\"] = a\n",
    "\n",
    "# export csv\n",
    "df2.to_excel('random_address7.xlsx', index=False)"
   ]
  },
  {
   "cell_type": "code",
   "execution_count": 42,
   "metadata": {},
   "outputs": [
    {
     "data": {
      "text/plain": [
       "4720"
      ]
     },
     "execution_count": 42,
     "metadata": {},
     "output_type": "execute_result"
    }
   ],
   "source": [
    "len(a)"
   ]
  }
 ],
 "metadata": {
  "kernelspec": {
   "display_name": "Python 3",
   "language": "python",
   "name": "python3"
  },
  "language_info": {
   "codemirror_mode": {
    "name": "ipython",
    "version": 3
   },
   "file_extension": ".py",
   "mimetype": "text/x-python",
   "name": "python",
   "nbconvert_exporter": "python",
   "pygments_lexer": "ipython3",
   "version": "3.11.4"
  },
  "orig_nbformat": 4
 },
 "nbformat": 4,
 "nbformat_minor": 2
}
