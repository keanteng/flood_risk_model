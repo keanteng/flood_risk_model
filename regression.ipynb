{
 "cells": [
  {
   "cell_type": "markdown",
   "metadata": {},
   "source": [
    "# Flood Risk Modelling Using Logistic Regression\n",
    "\n",
    "### A. Assumptions\n",
    "- Response variable is binary\n",
    "- Independent variables have little or no multicollinearity\n",
    "- No extreme outliers\n",
    "- Linear relationship between predictor and log-odds of response variable\n",
    "- Large sample sizes\n",
    "\n",
    "### B. Workflow\n",
    "- Importing packages\n",
    "- Loading and cleaning the data\n",
    "- Exploratory data analysis\n",
    "- Model fitting\n",
    "- Model prediction\n",
    "- Model evaluation"
   ]
  },
  {
   "cell_type": "markdown",
   "metadata": {},
   "source": [
    "## 1. Importing Libraries"
   ]
  },
  {
   "cell_type": "code",
   "execution_count": 1,
   "metadata": {},
   "outputs": [],
   "source": [
    "# importing libraries\n",
    "import pandas as pd\n",
    "import numpy as np\n",
    "from sklearn import preprocessing\n",
    "import matplotlib.pyplot as plt\n",
    "from sklearn.linear_model import LogisticRegression\n",
    "from sklearn.model_selection import train_test_split\n",
    "import seaborn as sns\n",
    "from sklearn.preprocessing import OneHotEncoder"
   ]
  },
  {
   "cell_type": "markdown",
   "metadata": {},
   "source": [
    "## 2. Loading Data"
   ]
  },
  {
   "cell_type": "code",
   "execution_count": 2,
   "metadata": {},
   "outputs": [
    {
     "data": {
      "text/html": [
       "<div>\n",
       "<style scoped>\n",
       "    .dataframe tbody tr th:only-of-type {\n",
       "        vertical-align: middle;\n",
       "    }\n",
       "\n",
       "    .dataframe tbody tr th {\n",
       "        vertical-align: top;\n",
       "    }\n",
       "\n",
       "    .dataframe thead th {\n",
       "        text-align: right;\n",
       "    }\n",
       "</style>\n",
       "<table border=\"1\" class=\"dataframe\">\n",
       "  <thead>\n",
       "    <tr style=\"text-align: right;\">\n",
       "      <th></th>\n",
       "      <th>distance</th>\n",
       "      <th>city</th>\n",
       "      <th>state</th>\n",
       "      <th>zip</th>\n",
       "      <th>flood_risk</th>\n",
       "    </tr>\n",
       "  </thead>\n",
       "  <tbody>\n",
       "    <tr>\n",
       "      <th>0</th>\n",
       "      <td>0.000000</td>\n",
       "      <td>Kuala Lumpur</td>\n",
       "      <td>Wilayah Persekutuan</td>\n",
       "      <td>50050</td>\n",
       "      <td>1</td>\n",
       "    </tr>\n",
       "    <tr>\n",
       "      <th>1</th>\n",
       "      <td>1267.271558</td>\n",
       "      <td>Johor Bahru</td>\n",
       "      <td>Johor</td>\n",
       "      <td>80400</td>\n",
       "      <td>0</td>\n",
       "    </tr>\n",
       "  </tbody>\n",
       "</table>\n",
       "</div>"
      ],
      "text/plain": [
       "      distance          city                state    zip  flood_risk\n",
       "0     0.000000  Kuala Lumpur  Wilayah Persekutuan  50050           1\n",
       "1  1267.271558   Johor Bahru                Johor  80400           0"
      ]
     },
     "execution_count": 2,
     "metadata": {},
     "output_type": "execute_result"
    }
   ],
   "source": [
    "# load data\n",
    "data = pd.read_csv('data/predictor.csv')\n",
    "data.head(2)"
   ]
  },
  {
   "cell_type": "markdown",
   "metadata": {},
   "source": [
    "## 3. EDA"
   ]
  },
  {
   "cell_type": "code",
   "execution_count": 3,
   "metadata": {},
   "outputs": [
    {
     "data": {
      "text/plain": [
       "flood_risk\n",
       "0    2887\n",
       "1    1292\n",
       "Name: count, dtype: int64"
      ]
     },
     "execution_count": 3,
     "metadata": {},
     "output_type": "execute_result"
    }
   ],
   "source": [
    "data['flood_risk'].value_counts()"
   ]
  },
  {
   "cell_type": "code",
   "execution_count": 4,
   "metadata": {},
   "outputs": [
    {
     "data": {
      "image/png": "[encoded data removed]",
      "text/plain": [
       "<Figure size 640x480 with 1 Axes>"
      ]
     },
     "metadata": {},
     "output_type": "display_data"
    }
   ],
   "source": [
    "sns.countplot(x = 'flood_risk', data = data, palette='hls')\n",
    "plt.show()"
   ]
  },
  {
   "cell_type": "code",
   "execution_count": 5,
   "metadata": {},
   "outputs": [
    {
     "name": "stdout",
     "output_type": "stream",
     "text": [
      "Percentage of non flood point: 69.08351280210576 %\n",
      "Percentage of flood point: 30.91648719789423 %\n"
     ]
    }
   ],
   "source": [
    "total = data['flood_risk'].value_counts()[0] + data['flood_risk'].value_counts()[1]\n",
    "n1 = data['flood_risk'].value_counts()[0]\n",
    "n2 = data['flood_risk'].value_counts()[1]\n",
    "r1 = n1/total*100\n",
    "r2 = n2/total*100\n",
    "\n",
    "print(\"Percentage of non flood point: {} %\".format(r1))\n",
    "print(\"Percentage of flood point: {} %\".format(r2))"
   ]
  },
  {
   "cell_type": "markdown",
   "metadata": {},
   "source": [
    "## 4. Data Cleaning"
   ]
  },
  {
   "cell_type": "code",
   "execution_count": 6,
   "metadata": {},
   "outputs": [
    {
     "name": "stdout",
     "output_type": "stream",
     "text": [
      "['Kuala Lumpur' 'Johor Bahru' 'Muar' 'Puchong' 'Petaling Jaya' 'Klang'\n",
      " 'Subang Jaya' 'Cheras' 'Butterworth' 'Batu Caves' 'Seri Kembangan' 'Ipoh'\n",
      " 'Tasek Gelugor' 'Kuching' 'Kajang' 'Kota Kinabalu' 'Kuantan' 'Seremban'\n",
      " 'Kuala Terengganu' 'Ampang' 'Kapit' 'City:  Taman Peringgit Jaya' 'Miri'\n",
      " 'Sepang' 'Kulai' 'Padang Lalang' 'Bandar Baru Bangi' 'Png' 'Alor Setar'\n",
      " 'Sandakan' 'Bukit Mertajam' 'Mlk' 'Melaka' 'Shah Alam' 'Lumut'\n",
      " 'Sungai Petani' 'Labis' 'Pangkor' 'Kuala Lipis' 'Kluang'\n",
      " 'Wilayah Persekutuan' 'Port Dickson' 'Beaufort' 'Segamat' 'Kemaman'\n",
      " 'Cukai' 'Ulu Tiram' 'Kulim' 'Georgetown' 'Skudai' 'Taiping' 'Bentong'\n",
      " 'City:  Bandar Melaka' 'Limbang' 'Perai' 'Jalan Kuching' 'Bayan Lepas'\n",
      " 'Kota Bharu' 'Jalan Selat' 'Parit Buntar' 'Medan Mutiara' 'Penang'\n",
      " 'Selayang Baru' 'Tapah' 'Kuala Kangsar' 'Sibu' 'Sungai Buloh' 'City:  W'\n",
      " 'Kota Tinggi' 'Temerloh' 'Teluk Intan' 'Lintang Angsana'\n",
      " 'Jalan Hang Tuah' 'Kubang Semang' 'Jalan Pauh Indah' 'Kepala Batas'\n",
      " 'Pahang' 'Persiaran Janggus' 'Langkawi' 'Malaysia' 'Papar' 'Kerteh'\n",
      " 'Jitra' 'City:  Mentakab' 'City:  Jalan Bandar Hilir' 'Senai'\n",
      " 'Kampung Valdor' 'Mentakab' 'Port Klang' 'Wangsa Maju' 'Tawau' 'Penaga'\n",
      " 'Kampung Besar' 'Lunas' 'City:  Kuala Lumpur' 'Mersing' 'Petaling'\n",
      " 'Jalan Sungai Rambai' 'Prk']\n",
      "['Wilayah Persekutuan' 'Johor' 'Selangor' 'Pulau Pinang' 'Perak'\n",
      " 'Seberang Perai Utara' 'Sarawak' 'Sabah' 'Pahang' 'Negeri Sembilan'\n",
      " 'Terengganu' 'Peringgit Jaya' 'Bukit Mertajam Penang' 'Bukit Mertajam'\n",
      " 'Kedah' 'Melaka' 'Malacca' 'Taman Tunku' 'Kelantan' 'Taman Selat'\n",
      " 'Sungai Nibong' 'Labuan' 'Bandar Baru' 'Bandar Melaka Malacca'\n",
      " 'Taman Pauh Indah' 'Malaysia' 'Taman Mutiara Penang' 'Johor Bahru'\n",
      " 'Bandar Hilir' 'Sungai Bakap' 'Kuala Lumpur' 'Persekutuan' 'Berapit'\n",
      " 'Selangor Darul Ehsan' 'Taiping']\n"
     ]
    }
   ],
   "source": [
    "# check for unique values in city and state columns\n",
    "print(data['city'].unique())\n",
    "print(data['state'].unique())"
   ]
  },
  {
   "cell_type": "markdown",
   "metadata": {},
   "source": [
    "We can see that is the state column, some states are repeated. Also, some regions are being labelled as state. \n",
    "We will drop the city column but cleaned up the state column."
   ]
  },
  {
   "cell_type": "code",
   "execution_count": 7,
   "metadata": {},
   "outputs": [
    {
     "data": {
      "text/plain": [
       "array(['Kuala Lumpur', 'Johor Bahru', 'Muar', 'Puchong', 'Petaling Jaya',\n",
       "       'Klang', 'Subang Jaya', 'Cheras', 'Butterworth', 'Batu Caves',\n",
       "       'Seri Kembangan', 'Ipoh', 'Tasek Gelugor', 'Kuching', 'Kajang',\n",
       "       'Kota Kinabalu', 'Kuantan', 'Seremban', 'Kuala Terengganu',\n",
       "       'Ampang', 'Kapit', 'Taman Peringgit Jaya', 'Miri', 'Sepang',\n",
       "       'Kulai', 'Padang Lalang', 'Bandar Baru Bangi', 'Png', 'Alor Setar',\n",
       "       'Sandakan', 'Bukit Mertajam', 'Mlk', 'Melaka', 'Shah Alam',\n",
       "       'Lumut', 'Sungai Petani', 'Labis', 'Pangkor', 'Kuala Lipis',\n",
       "       'Kluang', 'Wilayah Persekutuan', 'Port Dickson', 'Beaufort',\n",
       "       'Segamat', 'Kemaman', 'Cukai', 'Ulu Tiram', 'Kulim', 'Georgetown',\n",
       "       'Skudai', 'Taiping', 'Bentong', 'Bandar Melaka', 'Limbang',\n",
       "       'Perai', 'Jalan Kuching', 'Bayan Lepas', 'Kota Bharu',\n",
       "       'Jalan Selat', 'Parit Buntar', 'Medan Mutiara', 'Penang',\n",
       "       'Selayang Baru', 'Tapah', 'Kuala Kangsar', 'Sibu', 'Sungai Buloh',\n",
       "       'W', 'Kota Tinggi', 'Temerloh', 'Teluk Intan', 'Lintang Angsana',\n",
       "       'Jalan Hang Tuah', 'Kubang Semang', 'Jalan Pauh Indah',\n",
       "       'Kepala Batas', 'Pahang', 'Persiaran Janggus', 'Langkawi',\n",
       "       'Malaysia', 'Papar', 'Kerteh', 'Jitra', 'Mentakab',\n",
       "       'Jalan Bandar Hilir', 'Senai', 'Kampung Valdor', 'Port Klang',\n",
       "       'Wangsa Maju', 'Tawau', 'Penaga', 'Kampung Besar', 'Lunas',\n",
       "       'Mersing', 'Petaling', 'Jalan Sungai Rambai', 'Prk'], dtype=object)"
      ]
     },
     "execution_count": 7,
     "metadata": {},
     "output_type": "execute_result"
    }
   ],
   "source": [
    "# remove the 'City: ' from the city column\n",
    "# this is due to some error in the data collection process\n",
    "new1 = [None]*len(data)\n",
    "for i in range(0, len(data)):\n",
    "    new1[i] = data['city'][i].replace('City:  ', '')\n",
    "    \n",
    "data['city'] = new1\n",
    "data['city'].unique()"
   ]
  },
  {
   "cell_type": "code",
   "execution_count": 8,
   "metadata": {},
   "outputs": [
    {
     "name": "stdout",
     "output_type": "stream",
     "text": [
      "['Kuala Lumpur' 'Johor' 'Selangor' 'Penang' 'Perak' 'Sarawak' 'Sabah'\n",
      " 'Pahang' 'Negeri Sembilan' 'Terengganu' 'Melaka' 'Kedah' 'Kelantan'\n",
      " 'Labuan']\n"
     ]
    }
   ],
   "source": [
    "# renaming certain states in the state column\n",
    "def replaceString(string1, string2, data, length):\n",
    "    new = [None]*len(data)\n",
    "    for i in range(0, len(data)):\n",
    "        new[i] = data['state'][i].replace(string1, string2)\n",
    "    data['state'] = new\n",
    "    return data\n",
    "\n",
    "replaceString(\"Seberang Perai Utara\", \"Penang\",data, len(data))\n",
    "replaceString('Bukit Mertajam Penang', 'Penang',data, len(data))\n",
    "replaceString('Malacca', 'Melaka',data, len(data))\n",
    "replaceString('Peringgit Jaya', 'Melaka',data, len(data))\n",
    "replaceString('Wilayah Persekutuan', 'Kuala Lumpur',data, len(data))\n",
    "replaceString('Persekutuan', 'Kuala Lumpur',data, len(data))\n",
    "replaceString('Taman Tunku', 'Kuala Lumpur',data, len(data))\n",
    "replaceString('Taman Selat', 'Penang',data, len(data))\n",
    "replaceString('Sungai Nibong', 'Penang',data, len(data))\n",
    "replaceString('Bandar Baru', 'Selangor',data, len(data))\n",
    "replaceString('Bandar Melaka Malacca', 'Melaka',data, len(data))\n",
    "replaceString('Bandar Melaka Melaka', 'Melaka',data, len(data))\n",
    "replaceString('Taman Pauh Indah', 'Penang',data, len(data))\n",
    "replaceString('Taman Mutiara Penang', 'Penang',data, len(data))\n",
    "replaceString('Bandar Hilir', 'Melaka',data, len(data))\n",
    "replaceString('Sungai Bakap', 'Penang',data, len(data))\n",
    "replaceString('Taiping', 'Perak',data, len(data))\n",
    "replaceString('Selangor Darul Ehsan', 'Selangor',data, len(data))\n",
    "replaceString('Berapit', 'Penang',data, len(data))\n",
    "replaceString('Bukit Mertajam', 'Penang',data, len(data))\n",
    "replaceString('Pulau Pinang', 'Penang',data, len(data))\n",
    "replaceString('Malaysia', 'Pahang',data, len(data))\n",
    "replaceString('Johor Bahru', 'Johor',data, len(data))\n",
    "\n",
    "print(data['state'].unique())\n"
   ]
  },
  {
   "cell_type": "markdown",
   "metadata": {},
   "source": [
    "We are now left with only 14 states (no data from the state of Perlis)"
   ]
  },
  {
   "cell_type": "markdown",
   "metadata": {},
   "source": [
    "## 5. Model Fitting\n",
    "We will perform a train-test split on our data set. The model used require more than one column of independent variable.\n",
    "Thus, we apply one hot encoding to the state data. "
   ]
  },
  {
   "cell_type": "code",
   "execution_count": 29,
   "metadata": {},
   "outputs": [
    {
     "data": {
      "text/plain": [
       "((3343, 2), (836, 2), (3343,), (836,))"
      ]
     },
     "execution_count": 29,
     "metadata": {},
     "output_type": "execute_result"
    }
   ],
   "source": [
    "# train test split\n",
    "X = data[['distance','state']]\n",
    "\n",
    "y = data['flood_risk']\n",
    "\n",
    "X_train, X_valid, y_train, y_valid = train_test_split(X, y, test_size = 0.2, random_state = 0)\n",
    "\n",
    "X_train.shape, X_valid.shape, y_train.shape, y_valid.shape"
   ]
  },
  {
   "cell_type": "code",
   "execution_count": 30,
   "metadata": {},
   "outputs": [],
   "source": [
    "# Apply one-hot encoder to each column with categorical data\n",
    "OH_encoder = OneHotEncoder(handle_unknown='ignore', sparse_output=False) # ori: spare = False\n",
    "\n",
    "# Get list of categorical variables\n",
    "s = (X_train.dtypes == 'object')\n",
    "object_cols = list(s[s].index)\n",
    "\n",
    "OH_cols_train = pd.DataFrame(OH_encoder.fit_transform(X_train[object_cols]))\n",
    "OH_cols_valid = pd.DataFrame(OH_encoder.transform(X_valid[object_cols]))\n",
    "\n",
    "# One-hot encoding removed index; put it back\n",
    "OH_cols_train.index = X_train.index\n",
    "OH_cols_valid.index = X_valid.index\n",
    "\n",
    "# Remove categorical columns (will replace with one-hot encoding)\n",
    "num_X_train = X_train.drop(object_cols, axis=1)\n",
    "num_X_valid = X_valid.drop(object_cols, axis=1)\n",
    "\n",
    "# Add one-hot encoded columns to numerical features\n",
    "OH_X_train = pd.concat([num_X_train, OH_cols_train], axis=1)\n",
    "OH_X_valid = pd.concat([num_X_valid, OH_cols_valid], axis=1)"
   ]
  },
  {
   "cell_type": "code",
   "execution_count": 31,
   "metadata": {},
   "outputs": [
    {
     "data": {
      "text/html": [
       "<div>\n",
       "<style scoped>\n",
       "    .dataframe tbody tr th:only-of-type {\n",
       "        vertical-align: middle;\n",
       "    }\n",
       "\n",
       "    .dataframe tbody tr th {\n",
       "        vertical-align: top;\n",
       "    }\n",
       "\n",
       "    .dataframe thead th {\n",
       "        text-align: right;\n",
       "    }\n",
       "</style>\n",
       "<table border=\"1\" class=\"dataframe\">\n",
       "  <thead>\n",
       "    <tr style=\"text-align: right;\">\n",
       "      <th></th>\n",
       "      <th>distance</th>\n",
       "      <th>Kuala Lumpur</th>\n",
       "      <th>Johor</th>\n",
       "      <th>Selangor</th>\n",
       "      <th>Penang</th>\n",
       "      <th>Perak</th>\n",
       "      <th>Sarawak</th>\n",
       "      <th>Sabah</th>\n",
       "      <th>Pahang</th>\n",
       "      <th>Negeri Sembilan</th>\n",
       "      <th>Terengganu</th>\n",
       "      <th>Melaka</th>\n",
       "      <th>Kedah</th>\n",
       "      <th>Kelantan</th>\n",
       "      <th>Labuan</th>\n",
       "    </tr>\n",
       "  </thead>\n",
       "  <tbody>\n",
       "    <tr>\n",
       "      <th>1515</th>\n",
       "      <td>406.429619</td>\n",
       "      <td>0.0</td>\n",
       "      <td>0.0</td>\n",
       "      <td>0.0</td>\n",
       "      <td>0.0</td>\n",
       "      <td>0.0</td>\n",
       "      <td>0.0</td>\n",
       "      <td>0.0</td>\n",
       "      <td>0.0</td>\n",
       "      <td>0.0</td>\n",
       "      <td>0.0</td>\n",
       "      <td>1.0</td>\n",
       "      <td>0.0</td>\n",
       "      <td>0.0</td>\n",
       "      <td>0.0</td>\n",
       "    </tr>\n",
       "    <tr>\n",
       "      <th>2433</th>\n",
       "      <td>1277.058713</td>\n",
       "      <td>0.0</td>\n",
       "      <td>0.0</td>\n",
       "      <td>0.0</td>\n",
       "      <td>1.0</td>\n",
       "      <td>0.0</td>\n",
       "      <td>0.0</td>\n",
       "      <td>0.0</td>\n",
       "      <td>0.0</td>\n",
       "      <td>0.0</td>\n",
       "      <td>0.0</td>\n",
       "      <td>0.0</td>\n",
       "      <td>0.0</td>\n",
       "      <td>0.0</td>\n",
       "      <td>0.0</td>\n",
       "    </tr>\n",
       "    <tr>\n",
       "      <th>2558</th>\n",
       "      <td>779.839293</td>\n",
       "      <td>0.0</td>\n",
       "      <td>0.0</td>\n",
       "      <td>0.0</td>\n",
       "      <td>1.0</td>\n",
       "      <td>0.0</td>\n",
       "      <td>0.0</td>\n",
       "      <td>0.0</td>\n",
       "      <td>0.0</td>\n",
       "      <td>0.0</td>\n",
       "      <td>0.0</td>\n",
       "      <td>0.0</td>\n",
       "      <td>0.0</td>\n",
       "      <td>0.0</td>\n",
       "      <td>0.0</td>\n",
       "    </tr>\n",
       "    <tr>\n",
       "      <th>3617</th>\n",
       "      <td>314.436809</td>\n",
       "      <td>0.0</td>\n",
       "      <td>0.0</td>\n",
       "      <td>0.0</td>\n",
       "      <td>0.0</td>\n",
       "      <td>0.0</td>\n",
       "      <td>0.0</td>\n",
       "      <td>1.0</td>\n",
       "      <td>0.0</td>\n",
       "      <td>0.0</td>\n",
       "      <td>0.0</td>\n",
       "      <td>0.0</td>\n",
       "      <td>0.0</td>\n",
       "      <td>0.0</td>\n",
       "      <td>0.0</td>\n",
       "    </tr>\n",
       "    <tr>\n",
       "      <th>1742</th>\n",
       "      <td>573.489954</td>\n",
       "      <td>0.0</td>\n",
       "      <td>0.0</td>\n",
       "      <td>0.0</td>\n",
       "      <td>1.0</td>\n",
       "      <td>0.0</td>\n",
       "      <td>0.0</td>\n",
       "      <td>0.0</td>\n",
       "      <td>0.0</td>\n",
       "      <td>0.0</td>\n",
       "      <td>0.0</td>\n",
       "      <td>0.0</td>\n",
       "      <td>0.0</td>\n",
       "      <td>0.0</td>\n",
       "      <td>0.0</td>\n",
       "    </tr>\n",
       "  </tbody>\n",
       "</table>\n",
       "</div>"
      ],
      "text/plain": [
       "         distance  Kuala Lumpur  Johor  Selangor  Penang  Perak  Sarawak  \\\n",
       "1515   406.429619           0.0    0.0       0.0     0.0    0.0      0.0   \n",
       "2433  1277.058713           0.0    0.0       0.0     1.0    0.0      0.0   \n",
       "2558   779.839293           0.0    0.0       0.0     1.0    0.0      0.0   \n",
       "3617   314.436809           0.0    0.0       0.0     0.0    0.0      0.0   \n",
       "1742   573.489954           0.0    0.0       0.0     1.0    0.0      0.0   \n",
       "\n",
       "      Sabah  Pahang  Negeri Sembilan  Terengganu  Melaka  Kedah  Kelantan  \\\n",
       "1515    0.0     0.0              0.0         0.0     1.0    0.0       0.0   \n",
       "2433    0.0     0.0              0.0         0.0     0.0    0.0       0.0   \n",
       "2558    0.0     0.0              0.0         0.0     0.0    0.0       0.0   \n",
       "3617    1.0     0.0              0.0         0.0     0.0    0.0       0.0   \n",
       "1742    0.0     0.0              0.0         0.0     0.0    0.0       0.0   \n",
       "\n",
       "      Labuan  \n",
       "1515     0.0  \n",
       "2433     0.0  \n",
       "2558     0.0  \n",
       "3617     0.0  \n",
       "1742     0.0  "
      ]
     },
     "execution_count": 31,
     "metadata": {},
     "output_type": "execute_result"
    }
   ],
   "source": [
    "# one hot encoding will rename column as number, we will rename back to original name\n",
    "OH_X_train.columns = ['distance', 'Kuala Lumpur', 'Johor', 'Selangor', 'Penang', 'Perak', 'Sarawak', 'Sabah',\n",
    " 'Pahang', 'Negeri Sembilan', 'Terengganu', 'Melaka', 'Kedah', 'Kelantan',\n",
    " 'Labuan']\n",
    "\n",
    "OH_X_train.head()"
   ]
  },
  {
   "cell_type": "code",
   "execution_count": 32,
   "metadata": {},
   "outputs": [
    {
     "data": {
      "text/html": [
       "<div>\n",
       "<style scoped>\n",
       "    .dataframe tbody tr th:only-of-type {\n",
       "        vertical-align: middle;\n",
       "    }\n",
       "\n",
       "    .dataframe tbody tr th {\n",
       "        vertical-align: top;\n",
       "    }\n",
       "\n",
       "    .dataframe thead th {\n",
       "        text-align: right;\n",
       "    }\n",
       "</style>\n",
       "<table border=\"1\" class=\"dataframe\">\n",
       "  <thead>\n",
       "    <tr style=\"text-align: right;\">\n",
       "      <th></th>\n",
       "      <th>distance</th>\n",
       "      <th>Kuala Lumpur</th>\n",
       "      <th>Johor</th>\n",
       "      <th>Selangor</th>\n",
       "      <th>Penang</th>\n",
       "      <th>Perak</th>\n",
       "      <th>Sarawak</th>\n",
       "      <th>Sabah</th>\n",
       "      <th>Pahang</th>\n",
       "      <th>Negeri Sembilan</th>\n",
       "      <th>Terengganu</th>\n",
       "      <th>Melaka</th>\n",
       "      <th>Kedah</th>\n",
       "      <th>Kelantan</th>\n",
       "      <th>Labuan</th>\n",
       "    </tr>\n",
       "  </thead>\n",
       "  <tbody>\n",
       "    <tr>\n",
       "      <th>3004</th>\n",
       "      <td>217.281156</td>\n",
       "      <td>0.0</td>\n",
       "      <td>0.0</td>\n",
       "      <td>0.0</td>\n",
       "      <td>1.0</td>\n",
       "      <td>0.0</td>\n",
       "      <td>0.0</td>\n",
       "      <td>0.0</td>\n",
       "      <td>0.0</td>\n",
       "      <td>0.0</td>\n",
       "      <td>0.0</td>\n",
       "      <td>0.0</td>\n",
       "      <td>0.0</td>\n",
       "      <td>0.0</td>\n",
       "      <td>0.0</td>\n",
       "    </tr>\n",
       "    <tr>\n",
       "      <th>888</th>\n",
       "      <td>244.799012</td>\n",
       "      <td>1.0</td>\n",
       "      <td>0.0</td>\n",
       "      <td>0.0</td>\n",
       "      <td>0.0</td>\n",
       "      <td>0.0</td>\n",
       "      <td>0.0</td>\n",
       "      <td>0.0</td>\n",
       "      <td>0.0</td>\n",
       "      <td>0.0</td>\n",
       "      <td>0.0</td>\n",
       "      <td>0.0</td>\n",
       "      <td>0.0</td>\n",
       "      <td>0.0</td>\n",
       "      <td>0.0</td>\n",
       "    </tr>\n",
       "    <tr>\n",
       "      <th>2717</th>\n",
       "      <td>254.861137</td>\n",
       "      <td>0.0</td>\n",
       "      <td>0.0</td>\n",
       "      <td>0.0</td>\n",
       "      <td>0.0</td>\n",
       "      <td>0.0</td>\n",
       "      <td>0.0</td>\n",
       "      <td>1.0</td>\n",
       "      <td>0.0</td>\n",
       "      <td>0.0</td>\n",
       "      <td>0.0</td>\n",
       "      <td>0.0</td>\n",
       "      <td>0.0</td>\n",
       "      <td>0.0</td>\n",
       "      <td>0.0</td>\n",
       "    </tr>\n",
       "    <tr>\n",
       "      <th>3016</th>\n",
       "      <td>36.470273</td>\n",
       "      <td>0.0</td>\n",
       "      <td>0.0</td>\n",
       "      <td>0.0</td>\n",
       "      <td>1.0</td>\n",
       "      <td>0.0</td>\n",
       "      <td>0.0</td>\n",
       "      <td>0.0</td>\n",
       "      <td>0.0</td>\n",
       "      <td>0.0</td>\n",
       "      <td>0.0</td>\n",
       "      <td>0.0</td>\n",
       "      <td>0.0</td>\n",
       "      <td>0.0</td>\n",
       "      <td>0.0</td>\n",
       "    </tr>\n",
       "    <tr>\n",
       "      <th>2432</th>\n",
       "      <td>1271.408095</td>\n",
       "      <td>0.0</td>\n",
       "      <td>0.0</td>\n",
       "      <td>0.0</td>\n",
       "      <td>0.0</td>\n",
       "      <td>0.0</td>\n",
       "      <td>0.0</td>\n",
       "      <td>0.0</td>\n",
       "      <td>0.0</td>\n",
       "      <td>0.0</td>\n",
       "      <td>0.0</td>\n",
       "      <td>0.0</td>\n",
       "      <td>0.0</td>\n",
       "      <td>1.0</td>\n",
       "      <td>0.0</td>\n",
       "    </tr>\n",
       "  </tbody>\n",
       "</table>\n",
       "</div>"
      ],
      "text/plain": [
       "         distance  Kuala Lumpur  Johor  Selangor  Penang  Perak  Sarawak  \\\n",
       "3004   217.281156           0.0    0.0       0.0     1.0    0.0      0.0   \n",
       "888    244.799012           1.0    0.0       0.0     0.0    0.0      0.0   \n",
       "2717   254.861137           0.0    0.0       0.0     0.0    0.0      0.0   \n",
       "3016    36.470273           0.0    0.0       0.0     1.0    0.0      0.0   \n",
       "2432  1271.408095           0.0    0.0       0.0     0.0    0.0      0.0   \n",
       "\n",
       "      Sabah  Pahang  Negeri Sembilan  Terengganu  Melaka  Kedah  Kelantan  \\\n",
       "3004    0.0     0.0              0.0         0.0     0.0    0.0       0.0   \n",
       "888     0.0     0.0              0.0         0.0     0.0    0.0       0.0   \n",
       "2717    1.0     0.0              0.0         0.0     0.0    0.0       0.0   \n",
       "3016    0.0     0.0              0.0         0.0     0.0    0.0       0.0   \n",
       "2432    0.0     0.0              0.0         0.0     0.0    0.0       1.0   \n",
       "\n",
       "      Labuan  \n",
       "3004     0.0  \n",
       "888      0.0  \n",
       "2717     0.0  \n",
       "3016     0.0  \n",
       "2432     0.0  "
      ]
     },
     "execution_count": 32,
     "metadata": {},
     "output_type": "execute_result"
    }
   ],
   "source": [
    "OH_X_valid.columns = ['distance', 'Kuala Lumpur', 'Johor', 'Selangor', 'Penang', 'Perak', 'Sarawak', 'Sabah',\n",
    " 'Pahang', 'Negeri Sembilan', 'Terengganu', 'Melaka', 'Kedah', 'Kelantan',\n",
    " 'Labuan']\n",
    "\n",
    "OH_X_valid.head()"
   ]
  },
  {
   "cell_type": "code",
   "execution_count": 33,
   "metadata": {},
   "outputs": [
    {
     "name": "stdout",
     "output_type": "stream",
     "text": [
      "<class 'pandas.core.frame.DataFrame'>\n",
      "Index: 836 entries, 3004 to 3172\n",
      "Data columns (total 15 columns):\n",
      " #   Column           Non-Null Count  Dtype  \n",
      "---  ------           --------------  -----  \n",
      " 0   distance         836 non-null    float64\n",
      " 1   Kuala Lumpur     836 non-null    float64\n",
      " 2   Johor            836 non-null    float64\n",
      " 3   Selangor         836 non-null    float64\n",
      " 4   Penang           836 non-null    float64\n",
      " 5   Perak            836 non-null    float64\n",
      " 6   Sarawak          836 non-null    float64\n",
      " 7   Sabah            836 non-null    float64\n",
      " 8   Pahang           836 non-null    float64\n",
      " 9   Negeri Sembilan  836 non-null    float64\n",
      " 10  Terengganu       836 non-null    float64\n",
      " 11  Melaka           836 non-null    float64\n",
      " 12  Kedah            836 non-null    float64\n",
      " 13  Kelantan         836 non-null    float64\n",
      " 14  Labuan           836 non-null    float64\n",
      "dtypes: float64(15)\n",
      "memory usage: 104.5 KB\n"
     ]
    }
   ],
   "source": [
    "# get some information about the data that will use for fitting the model\n",
    "OH_X_valid.info()"
   ]
  },
  {
   "cell_type": "code",
   "execution_count": 34,
   "metadata": {},
   "outputs": [
    {
     "data": {
      "text/html": [
       "<style>#sk-container-id-5 {color: black;}#sk-container-id-5 pre{padding: 0;}#sk-container-id-5 div.sk-toggleable {background-color: white;}#sk-container-id-5 label.sk-toggleable__label {cursor: pointer;display: block;width: 100%;margin-bottom: 0;padding: 0.3em;box-sizing: border-box;text-align: center;}#sk-container-id-5 label.sk-toggleable__label-arrow:before {content: \"▸\";float: left;margin-right: 0.25em;color: #696969;}#sk-container-id-5 label.sk-toggleable__label-arrow:hover:before {color: black;}#sk-container-id-5 div.sk-estimator:hover label.sk-toggleable__label-arrow:before {color: black;}#sk-container-id-5 div.sk-toggleable__content {max-height: 0;max-width: 0;overflow: hidden;text-align: left;background-color: #f0f8ff;}#sk-container-id-5 div.sk-toggleable__content pre {margin: 0.2em;color: black;border-radius: 0.25em;background-color: #f0f8ff;}#sk-container-id-5 input.sk-toggleable__control:checked~div.sk-toggleable__content {max-height: 200px;max-width: 100%;overflow: auto;}#sk-container-id-5 input.sk-toggleable__control:checked~label.sk-toggleable__label-arrow:before {content: \"▾\";}#sk-container-id-5 div.sk-estimator input.sk-toggleable__control:checked~label.sk-toggleable__label {background-color: #d4ebff;}#sk-container-id-5 div.sk-label input.sk-toggleable__control:checked~label.sk-toggleable__label {background-color: #d4ebff;}#sk-container-id-5 input.sk-hidden--visually {border: 0;clip: rect(1px 1px 1px 1px);clip: rect(1px, 1px, 1px, 1px);height: 1px;margin: -1px;overflow: hidden;padding: 0;position: absolute;width: 1px;}#sk-container-id-5 div.sk-estimator {font-family: monospace;background-color: #f0f8ff;border: 1px dotted black;border-radius: 0.25em;box-sizing: border-box;margin-bottom: 0.5em;}#sk-container-id-5 div.sk-estimator:hover {background-color: #d4ebff;}#sk-container-id-5 div.sk-parallel-item::after {content: \"\";width: 100%;border-bottom: 1px solid gray;flex-grow: 1;}#sk-container-id-5 div.sk-label:hover label.sk-toggleable__label {background-color: #d4ebff;}#sk-container-id-5 div.sk-serial::before {content: \"\";position: absolute;border-left: 1px solid gray;box-sizing: border-box;top: 0;bottom: 0;left: 50%;z-index: 0;}#sk-container-id-5 div.sk-serial {display: flex;flex-direction: column;align-items: center;background-color: white;padding-right: 0.2em;padding-left: 0.2em;position: relative;}#sk-container-id-5 div.sk-item {position: relative;z-index: 1;}#sk-container-id-5 div.sk-parallel {display: flex;align-items: stretch;justify-content: center;background-color: white;position: relative;}#sk-container-id-5 div.sk-item::before, #sk-container-id-5 div.sk-parallel-item::before {content: \"\";position: absolute;border-left: 1px solid gray;box-sizing: border-box;top: 0;bottom: 0;left: 50%;z-index: -1;}#sk-container-id-5 div.sk-parallel-item {display: flex;flex-direction: column;z-index: 1;position: relative;background-color: white;}#sk-container-id-5 div.sk-parallel-item:first-child::after {align-self: flex-end;width: 50%;}#sk-container-id-5 div.sk-parallel-item:last-child::after {align-self: flex-start;width: 50%;}#sk-container-id-5 div.sk-parallel-item:only-child::after {width: 0;}#sk-container-id-5 div.sk-dashed-wrapped {border: 1px dashed gray;margin: 0 0.4em 0.5em 0.4em;box-sizing: border-box;padding-bottom: 0.4em;background-color: white;}#sk-container-id-5 div.sk-label label {font-family: monospace;font-weight: bold;display: inline-block;line-height: 1.2em;}#sk-container-id-5 div.sk-label-container {text-align: center;}#sk-container-id-5 div.sk-container {/* jupyter's `normalize.less` sets `[hidden] { display: none; }` but bootstrap.min.css set `[hidden] { display: none !important; }` so we also need the `!important` here to be able to override the default hidden behavior on the sphinx rendered scikit-learn.org. See: https://github.com/scikit-learn/scikit-learn/issues/21755 */display: inline-block !important;position: relative;}#sk-container-id-5 div.sk-text-repr-fallback {display: none;}</style><div id=\"sk-container-id-5\" class=\"sk-top-container\"><div class=\"sk-text-repr-fallback\"><pre>LogisticRegression(random_state=0, solver=&#x27;liblinear&#x27;)</pre><b>In a Jupyter environment, please rerun this cell to show the HTML representation or trust the notebook. <br />On GitHub, the HTML representation is unable to render, please try loading this page with nbviewer.org.</b></div><div class=\"sk-container\" hidden><div class=\"sk-item\"><div class=\"sk-estimator sk-toggleable\"><input class=\"sk-toggleable__control sk-hidden--visually\" id=\"sk-estimator-id-5\" type=\"checkbox\" checked><label for=\"sk-estimator-id-5\" class=\"sk-toggleable__label sk-toggleable__label-arrow\">LogisticRegression</label><div class=\"sk-toggleable__content\"><pre>LogisticRegression(random_state=0, solver=&#x27;liblinear&#x27;)</pre></div></div></div></div></div>"
      ],
      "text/plain": [
       "LogisticRegression(random_state=0, solver='liblinear')"
      ]
     },
     "execution_count": 34,
     "metadata": {},
     "output_type": "execute_result"
    }
   ],
   "source": [
    "# model training\n",
    "# instantiate the model, we will use liblinear since this is only a small dataset and other methods results in convergence issue\n",
    "logreg = LogisticRegression(solver='liblinear', random_state=0)\n",
    "\n",
    "# fit the model\n",
    "logreg.fit(OH_X_train, y_train)"
   ]
  },
  {
   "cell_type": "code",
   "execution_count": 35,
   "metadata": {},
   "outputs": [
    {
     "name": "stdout",
     "output_type": "stream",
     "text": [
      "Model coefficient:  [[-1.89407693e-02  4.77941620e-01  1.22460645e-01  1.37677540e-03\n",
      "   1.52185371e+00  5.30927351e-02  9.10748035e-01  5.44494671e-01\n",
      "   8.31631218e-01  6.50728294e-01  2.67305790e-01  1.99053696e-01\n",
      "   1.45960340e+00  1.12335137e+00  1.95290287e-02]]\n",
      "Model intercept:  [8.18317099]\n"
     ]
    }
   ],
   "source": [
    "# get model coefficient and intercept\n",
    "print(\"Model coefficient: \", logreg.coef_)\n",
    "print(\"Model intercept: \", logreg.intercept_)"
   ]
  },
  {
   "cell_type": "code",
   "execution_count": 36,
   "metadata": {},
   "outputs": [
    {
     "data": {
      "text/plain": [
       "array([1, 1, 1, 1, 0, 0, 0, 0, 1, 0, 0, 0, 0, 0, 1, 1, 0, 0, 0, 0, 0, 0,\n",
       "       1, 0, 0, 0, 0, 0, 0, 0, 0, 0, 1, 0, 0, 1, 1, 0, 1, 1, 1, 0, 0, 0,\n",
       "       0, 0, 1, 0, 0, 0, 0, 1, 1, 0, 0, 0, 0, 1, 0, 0, 0, 0, 0, 0, 0, 0,\n",
       "       1, 0, 0, 0, 0, 0, 0, 0, 0, 0, 1, 1, 0, 0, 0, 0, 0, 1, 1, 0, 0, 0,\n",
       "       1, 1, 1, 0, 0, 0, 0, 1, 0, 0, 0, 0, 0, 1, 0, 0, 0, 0, 0, 0, 0, 0,\n",
       "       1, 1, 0, 0, 0, 0, 0, 1, 0, 0, 0, 0, 0, 0, 0, 1, 1, 0, 1, 1, 0, 0,\n",
       "       0, 1, 0, 0, 0, 0, 0, 0, 0, 0, 0, 0, 0, 1, 0, 0, 0, 0, 0, 0, 0, 0,\n",
       "       1, 1, 1, 1, 0, 0, 1, 1, 0, 1, 0, 0, 0, 0, 0, 1, 0, 0, 0, 0, 0, 0,\n",
       "       0, 0, 1, 1, 0, 1, 0, 0, 0, 0, 1, 0, 1, 0, 0, 0, 1, 1, 0, 0, 0, 0,\n",
       "       0, 1, 1, 0, 0, 1, 0, 0, 0, 0, 1, 1, 0, 0, 0, 0, 1, 0, 0, 1, 0, 1,\n",
       "       1, 0, 1, 1, 0, 0, 0, 1, 0, 0, 1, 0, 0, 0, 0, 0, 0, 0, 0, 0, 1, 1,\n",
       "       1, 1, 0, 0, 1, 1, 0, 1, 1, 0, 1, 0, 1, 0, 1, 0, 0, 1, 1, 0, 1, 0,\n",
       "       1, 0, 0, 0, 0, 0, 1, 1, 0, 0, 0, 0, 0, 0, 0, 0, 0, 0, 0, 1, 0, 0,\n",
       "       0, 1, 1, 1, 0, 0, 0, 0, 0, 0, 1, 1, 0, 0, 0, 1, 1, 0, 1, 0, 1, 0,\n",
       "       0, 1, 0, 0, 1, 0, 1, 0, 0, 1, 0, 1, 0, 1, 1, 1, 0, 0, 0, 0, 0, 1,\n",
       "       1, 1, 0, 0, 0, 1, 0, 0, 0, 0, 0, 0, 1, 0, 1, 1, 1, 0, 0, 0, 0, 0,\n",
       "       0, 0, 0, 0, 0, 0, 1, 0, 0, 0, 0, 0, 0, 0, 0, 0, 0, 1, 1, 0, 0, 0,\n",
       "       0, 0, 1, 0, 0, 1, 0, 0, 1, 0, 0, 1, 0, 1, 0, 0, 1, 0, 0, 1, 0, 0,\n",
       "       1, 1, 1, 1, 0, 1, 0, 0, 0, 0, 1, 0, 0, 0, 1, 1, 0, 1, 0, 0, 0, 0,\n",
       "       1, 0, 1, 0, 1, 0, 1, 0, 0, 0, 0, 0, 0, 0, 1, 0, 0, 1, 0, 0, 1, 0,\n",
       "       0, 1, 1, 1, 0, 1, 1, 1, 0, 0, 0, 1, 0, 1, 0, 0, 1, 1, 0, 0, 0, 1,\n",
       "       0, 0, 1, 0, 0, 1, 0, 1, 1, 0, 0, 0, 1, 0, 0, 0, 1, 0, 1, 0, 0, 1,\n",
       "       0, 0, 0, 0, 0, 1, 1, 0, 0, 0, 0, 0, 1, 0, 1, 0, 0, 1, 0, 0, 1, 0,\n",
       "       1, 0, 1, 0, 0, 0, 0, 1, 1, 1, 0, 0, 1, 0, 0, 1, 1, 0, 0, 0, 0, 0,\n",
       "       0, 1, 0, 0, 0, 0, 0, 0, 0, 0, 0, 0, 0, 1, 0, 0, 0, 0, 0, 0, 0, 0,\n",
       "       0, 0, 0, 0, 0, 1, 0, 0, 0, 0, 0, 1, 0, 1, 0, 0, 0, 1, 0, 0, 1, 1,\n",
       "       1, 0, 1, 0, 0, 0, 0, 0, 0, 0, 0, 1, 0, 0, 0, 0, 1, 0, 0, 1, 0, 1,\n",
       "       0, 0, 1, 0, 0, 0, 1, 1, 0, 0, 0, 0, 0, 0, 0, 0, 0, 0, 1, 0, 0, 1,\n",
       "       0, 1, 0, 0, 0, 0, 1, 0, 1, 0, 0, 0, 1, 0, 0, 0, 0, 0, 0, 1, 0, 0,\n",
       "       1, 0, 1, 1, 0, 0, 0, 0, 1, 0, 0, 1, 0, 0, 0, 0, 0, 0, 0, 1, 0, 0,\n",
       "       0, 0, 0, 0, 0, 0, 0, 0, 0, 0, 0, 0, 1, 1, 0, 1, 0, 1, 0, 0, 0, 0,\n",
       "       0, 1, 0, 1, 0, 0, 0, 1, 0, 0, 0, 0, 1, 1, 1, 0, 0, 0, 1, 1, 0, 1,\n",
       "       0, 0, 0, 0, 1, 0, 0, 0, 1, 1, 0, 0, 0, 0, 1, 0, 1, 0, 0, 0, 1, 1,\n",
       "       0, 0, 1, 1, 0, 0, 0, 1, 0, 0, 1, 1, 1, 0, 0, 0, 0, 0, 0, 0, 0, 0,\n",
       "       0, 0, 1, 0, 1, 0, 1, 1, 0, 1, 0, 0, 1, 1, 0, 0, 0, 0, 0, 1, 0, 1,\n",
       "       0, 0, 0, 1, 1, 0, 0, 0, 0, 0, 1, 0, 0, 0, 0, 0, 0, 0, 1, 0, 1, 1,\n",
       "       1, 0, 0, 0, 1, 1, 0, 0, 0, 0, 1, 0, 1, 1, 1, 1, 0, 0, 0, 1, 0, 1,\n",
       "       1, 0, 0, 1, 0, 1, 0, 1, 0, 0, 1, 0, 0, 0, 0, 0, 0, 0, 0, 0, 0, 0],\n",
       "      dtype=int64)"
      ]
     },
     "execution_count": 36,
     "metadata": {},
     "output_type": "execute_result"
    }
   ],
   "source": [
    "y_pred_test = logreg.predict(OH_X_valid)\n",
    "y_pred_test"
   ]
  },
  {
   "cell_type": "code",
   "execution_count": 37,
   "metadata": {},
   "outputs": [
    {
     "data": {
      "text/plain": [
       "array([3.72278883e-03, 1.75597356e-02, 1.98325348e-02, 1.21648924e-04,\n",
       "       9.99999617e-01, 9.99389351e-01, 9.98753403e-01, 9.99978554e-01,\n",
       "       3.88472761e-01, 8.35223885e-01, 9.99944269e-01, 9.44150575e-01,\n",
       "       9.99975047e-01, 1.00000000e+00, 2.87951607e-01, 6.09726181e-05,\n",
       "       9.30390281e-01, 9.99983794e-01, 1.00000000e+00, 9.99476828e-01,\n",
       "       9.99999469e-01, 9.99999876e-01, 2.61964041e-04, 9.98110014e-01,\n",
       "       7.96130318e-01, 9.22911277e-01, 9.99999754e-01, 8.33391631e-01,\n",
       "       9.99998179e-01, 1.00000000e+00, 9.98891257e-01, 9.99764585e-01,\n",
       "       2.87951607e-01, 9.99999999e-01, 9.76201767e-01, 5.96725641e-02,\n",
       "       2.42439642e-04, 9.99999999e-01, 3.64476839e-02, 1.55054999e-03,\n",
       "       6.98864993e-04, 9.99962695e-01, 9.99999702e-01, 9.99979491e-01,\n",
       "       9.93967197e-01, 9.99853685e-01, 2.35184374e-01, 9.99525850e-01,\n",
       "       9.99999850e-01, 6.86146558e-01, 1.00000000e+00, 6.36616055e-03,\n",
       "       4.09945730e-03, 9.99838698e-01, 9.99999999e-01, 9.99999988e-01,\n",
       "       9.99967601e-01, 1.98928808e-03, 9.13343965e-01, 1.00000000e+00,\n",
       "       9.93643176e-01, 9.89201840e-01, 9.99999987e-01, 9.99999982e-01,\n",
       "       9.99999783e-01, 9.82127394e-01, 3.73619322e-01, 1.00000000e+00,\n",
       "       1.00000000e+00, 9.99999999e-01, 1.00000000e+00, 6.29784364e-01,\n",
       "       1.00000000e+00, 9.79627138e-01, 9.99999935e-01, 9.99999801e-01,\n",
       "       1.85635497e-01, 5.87584374e-03, 9.45578149e-01, 8.93282463e-01,\n",
       "       9.99999998e-01, 1.00000000e+00, 7.93686777e-01, 6.60029220e-02,\n",
       "       2.91151527e-02, 9.99984877e-01, 9.99999999e-01, 1.00000000e+00,\n",
       "       6.48885558e-05, 3.08034493e-01, 2.25475986e-03, 9.99998579e-01,\n",
       "       9.99997957e-01, 9.87814016e-01, 9.99999999e-01, 6.48885558e-05,\n",
       "       9.65117149e-01, 9.99999995e-01, 9.99583997e-01, 1.00000000e+00,\n",
       "       9.99974458e-01, 1.67596412e-01, 9.99999853e-01, 1.00000000e+00,\n",
       "       9.72861684e-01, 9.99999999e-01, 9.95403657e-01, 9.96878029e-01,\n",
       "       9.99999985e-01, 9.99990406e-01, 9.69170481e-03, 1.77437177e-02,\n",
       "       9.99999563e-01, 1.00000000e+00, 9.99973625e-01, 8.73030940e-01,\n",
       "       9.99999907e-01, 4.93939168e-01, 9.99948156e-01, 1.00000000e+00,\n",
       "       9.99999974e-01, 7.76615496e-01, 9.99973625e-01, 1.00000000e+00,\n",
       "       9.97405736e-01, 2.70217692e-03, 1.53654763e-03, 9.99999999e-01,\n",
       "       7.65554914e-03, 3.53759892e-03, 9.99998339e-01, 1.00000000e+00,\n",
       "       9.34900840e-01, 1.36985009e-01, 9.99911379e-01, 9.97529533e-01,\n",
       "       9.99999991e-01, 1.00000000e+00, 9.99356031e-01, 1.00000000e+00,\n",
       "       9.99999999e-01, 1.00000000e+00, 9.99999989e-01, 9.99975047e-01,\n",
       "       9.96966038e-01, 1.67836504e-02, 1.00000000e+00, 9.99852324e-01,\n",
       "       1.00000000e+00, 1.00000000e+00, 9.99999254e-01, 9.99384061e-01,\n",
       "       9.99999850e-01, 9.57127546e-01, 7.78646432e-04, 1.66658072e-01,\n",
       "       2.67471809e-01, 3.33421014e-02, 1.00000000e+00, 9.99999998e-01,\n",
       "       4.19086738e-01, 1.66661060e-04, 1.00000000e+00, 1.65613996e-01,\n",
       "       8.14909047e-01, 1.00000000e+00, 9.99897222e-01, 1.00000000e+00,\n",
       "       9.99963500e-01, 1.53824319e-01, 7.87927004e-01, 1.00000000e+00,\n",
       "       9.99911167e-01, 9.06031769e-01, 9.99999994e-01, 9.99944140e-01,\n",
       "       9.99999971e-01, 9.13343965e-01, 1.67836504e-02, 4.21154990e-02,\n",
       "       9.99956066e-01, 4.07607630e-02, 9.41494521e-01, 9.99999351e-01,\n",
       "       7.87927004e-01, 9.99419230e-01, 3.72278883e-03, 9.99998340e-01,\n",
       "       1.53824319e-01, 9.99999908e-01, 9.99999998e-01, 1.00000000e+00,\n",
       "       1.28368884e-02, 1.87487604e-02, 9.99385277e-01, 9.99998970e-01,\n",
       "       9.99973625e-01, 8.70280320e-01, 1.00000000e+00, 1.53241628e-04,\n",
       "       8.85738166e-04, 9.99993998e-01, 9.99998339e-01, 1.36985009e-01,\n",
       "       1.00000000e+00, 9.99999837e-01, 1.00000000e+00, 9.99999991e-01,\n",
       "       2.17400594e-03, 4.28879794e-02, 9.99977857e-01, 9.99991668e-01,\n",
       "       9.97381973e-01, 5.66226091e-01, 7.74655098e-04, 9.99999985e-01,\n",
       "       9.99966787e-01, 1.39972491e-01, 1.00000000e+00, 1.01955673e-01,\n",
       "       2.19890302e-02, 1.00000000e+00, 2.76367887e-02, 1.55615306e-02,\n",
       "       8.78768309e-01, 9.99999421e-01, 9.99999986e-01, 5.66471723e-02,\n",
       "       1.00000000e+00, 9.98738984e-01, 2.72914691e-01, 9.99999840e-01,\n",
       "       9.99999999e-01, 9.97338290e-01, 1.00000000e+00, 1.00000000e+00,\n",
       "       1.00000000e+00, 9.99999487e-01, 9.44150575e-01, 1.00000000e+00,\n",
       "       9.08297567e-05, 6.36616055e-03, 6.82617159e-02, 2.32302206e-03,\n",
       "       1.00000000e+00, 1.00000000e+00, 1.16724060e-03, 6.09726181e-05,\n",
       "       9.96712231e-01, 2.96591918e-03, 6.08754237e-04, 9.99771705e-01,\n",
       "       1.74190272e-01, 9.99999997e-01, 4.80565115e-04, 9.99999814e-01,\n",
       "       4.16255688e-01, 1.00000000e+00, 9.99999999e-01, 3.53759892e-03,\n",
       "       2.87951607e-01, 9.61151120e-01, 7.78646432e-04, 9.99853685e-01,\n",
       "       6.15276555e-03, 9.95368294e-01, 9.99999995e-01, 1.00000000e+00,\n",
       "       9.99973625e-01, 1.00000000e+00, 1.73161514e-04, 1.47357142e-01,\n",
       "       9.99999900e-01, 9.99999783e-01, 9.99572979e-01, 9.99978085e-01,\n",
       "       1.00000000e+00, 9.99999783e-01, 7.93686777e-01, 9.68026483e-01,\n",
       "       9.99824300e-01, 8.78768309e-01, 1.00000000e+00, 2.61964041e-04,\n",
       "       7.57493392e-01, 1.00000000e+00, 1.00000000e+00, 5.96725641e-02,\n",
       "       2.61964041e-04, 7.88194376e-04, 1.00000000e+00, 1.00000000e+00,\n",
       "       9.99999962e-01, 1.00000000e+00, 9.91661784e-01, 9.67781163e-01,\n",
       "       2.32302206e-03, 8.49698886e-02, 7.39427923e-01, 9.99999995e-01,\n",
       "       1.00000000e+00, 4.40866502e-01, 6.82617159e-02, 1.00000000e+00,\n",
       "       6.67569980e-03, 9.99999971e-01, 7.78646432e-04, 9.99992014e-01,\n",
       "       1.00000000e+00, 1.47357142e-01, 9.97405736e-01, 9.99999999e-01,\n",
       "       3.22028320e-01, 1.00000000e+00, 8.99952278e-03, 9.99667524e-01,\n",
       "       6.31404974e-01, 4.94930556e-03, 9.89408498e-01, 6.09726181e-05,\n",
       "       9.99389351e-01, 1.10772498e-02, 9.10911040e-03, 4.71440985e-04,\n",
       "       9.99999991e-01, 9.99999753e-01, 9.61209516e-01, 9.09281254e-01,\n",
       "       9.99973625e-01, 4.52280394e-03, 1.73161514e-04, 1.08347054e-03,\n",
       "       1.00000000e+00, 7.47605968e-01, 9.99902371e-01, 1.65613996e-01,\n",
       "       1.00000000e+00, 9.99978445e-01, 9.68134066e-01, 1.00000000e+00,\n",
       "       1.00000000e+00, 9.99999973e-01, 9.08216206e-05, 1.00000000e+00,\n",
       "       2.53861533e-02, 1.13856489e-03, 4.07607630e-02, 9.97788199e-01,\n",
       "       9.10955717e-01, 1.00000000e+00, 9.99942499e-01, 9.99999990e-01,\n",
       "       9.19522215e-01, 1.00000000e+00, 9.99999755e-01, 9.95049847e-01,\n",
       "       6.31404974e-01, 9.99957149e-01, 2.38549942e-03, 9.77303339e-01,\n",
       "       9.99717542e-01, 6.69219972e-01, 1.00000000e+00, 1.00000000e+00,\n",
       "       8.33670161e-01, 1.00000000e+00, 9.99996778e-01, 9.99995700e-01,\n",
       "       1.00000000e+00, 4.15427628e-01, 4.83271761e-02, 9.99999634e-01,\n",
       "       9.97455749e-01, 7.60844710e-01, 9.99999335e-01, 9.99654951e-01,\n",
       "       4.33823004e-01, 1.00000000e+00, 9.99999562e-01, 7.55703485e-03,\n",
       "       9.99059815e-01, 6.49408800e-01, 3.93412323e-01, 1.00000000e+00,\n",
       "       1.00000000e+00, 8.63516173e-03, 9.64957955e-01, 3.22728681e-01,\n",
       "       9.99987613e-01, 9.99999999e-01, 8.99952278e-03, 1.00000000e+00,\n",
       "       9.91661784e-01, 1.09653110e-03, 9.99999997e-01, 7.76615496e-01,\n",
       "       1.82189774e-01, 5.96725641e-02, 6.55148686e-02, 8.63516173e-03,\n",
       "       1.00000000e+00, 2.02715241e-02, 9.99963201e-01, 6.09066401e-01,\n",
       "       9.99933821e-01, 9.42117558e-01, 1.72269672e-01, 9.99823011e-01,\n",
       "       5.36652380e-01, 9.99999996e-01, 4.09945730e-03, 9.48459064e-04,\n",
       "       9.91689337e-01, 6.24426090e-02, 9.99999999e-01, 9.99993272e-01,\n",
       "       9.99999974e-01, 1.00000000e+00, 2.27273498e-02, 9.89680004e-01,\n",
       "       2.16003407e-01, 9.99384061e-01, 5.52637616e-02, 9.99999907e-01,\n",
       "       4.74717376e-01, 1.00000000e+00, 1.00000000e+00, 9.91978560e-01,\n",
       "       1.00000000e+00, 1.00000000e+00, 9.99935211e-01, 9.99586922e-01,\n",
       "       2.93964059e-03, 9.99548499e-01, 1.00000000e+00, 6.15276555e-03,\n",
       "       9.98847923e-01, 9.99939933e-01, 6.48885558e-05, 1.00000000e+00,\n",
       "       9.99999999e-01, 8.62354076e-02, 3.65642792e-03, 3.91894250e-03,\n",
       "       9.27478983e-01, 4.94811206e-02, 1.44078382e-03, 7.74655098e-04,\n",
       "       9.99999999e-01, 9.99999569e-01, 9.42687374e-01, 4.29274001e-03,\n",
       "       8.80312838e-01, 4.18925902e-02, 9.99914066e-01, 9.95790806e-01,\n",
       "       4.55053217e-02, 1.53241628e-04, 7.55019670e-01, 9.99776643e-01,\n",
       "       5.42093109e-01, 6.36616055e-03, 1.00000000e+00, 9.96082672e-01,\n",
       "       8.78286923e-03, 9.19522215e-01, 9.91978560e-01, 2.28623204e-03,\n",
       "       9.63105018e-01, 2.96591918e-03, 8.63516173e-03, 1.00000000e+00,\n",
       "       9.99860582e-01, 9.99999897e-01, 5.96725641e-02, 9.99999569e-01,\n",
       "       1.00000000e+00, 9.99992384e-01, 2.61964041e-04, 9.99999783e-01,\n",
       "       5.54395562e-02, 9.58281291e-01, 1.00000000e+00, 5.27854313e-03,\n",
       "       9.99999971e-01, 9.74856989e-01, 9.99999999e-01, 1.00000000e+00,\n",
       "       9.54980841e-01, 6.68820885e-02, 1.45465646e-01, 9.99999994e-01,\n",
       "       9.93967197e-01, 1.00000000e+00, 9.97541153e-01, 1.00000000e+00,\n",
       "       1.44078382e-03, 9.99985521e-01, 9.39089751e-02, 9.99999998e-01,\n",
       "       7.93686777e-01, 3.32416119e-03, 9.99327073e-01, 1.00000000e+00,\n",
       "       2.17400594e-03, 9.97338290e-01, 5.91397913e-02, 9.99948156e-01,\n",
       "       1.21241564e-01, 9.99999620e-01, 9.99966787e-01, 9.99476828e-01,\n",
       "       9.99999837e-01, 6.82617159e-02, 8.85738166e-04, 1.67836504e-02,\n",
       "       1.00000000e+00, 8.61186844e-01, 9.55789976e-04, 9.99996507e-01,\n",
       "       1.00000000e+00, 1.40867537e-02, 2.91151527e-02, 9.79627138e-01,\n",
       "       9.99935211e-01, 1.00000000e+00, 9.99844871e-01, 9.99999973e-01,\n",
       "       9.99985521e-01, 2.61593733e-04, 9.99952932e-01, 9.99634361e-01,\n",
       "       9.96082672e-01, 9.99999987e-01, 1.00000000e+00, 9.99999962e-01,\n",
       "       5.52594302e-01, 1.00000000e+00, 5.25560839e-01, 1.00000000e+00,\n",
       "       7.76615496e-01, 3.99504923e-01, 1.00000000e+00, 9.99999999e-01,\n",
       "       1.00000000e+00, 9.95940016e-01, 1.00000000e+00, 1.00000000e+00,\n",
       "       9.99997177e-01, 1.00000000e+00, 9.99999584e-01, 1.00000000e+00,\n",
       "       9.99999998e-01, 8.92296429e-01, 1.00000000e+00, 1.62590113e-03,\n",
       "       1.00000000e+00, 9.99999999e-01, 1.00000000e+00, 9.99051134e-01,\n",
       "       1.00000000e+00, 2.44053868e-01, 9.99999975e-01, 3.76987213e-01,\n",
       "       9.99999976e-01, 1.00000000e+00, 9.99999963e-01, 4.59476753e-01,\n",
       "       1.00000000e+00, 9.99999144e-01, 2.67471809e-01, 3.07256085e-03,\n",
       "       2.55143955e-03, 9.99996507e-01, 1.87487604e-02, 9.99998179e-01,\n",
       "       9.95868272e-01, 9.99995915e-01, 9.98731077e-01, 1.00000000e+00,\n",
       "       8.61186844e-01, 1.00000000e+00, 9.99999993e-01, 6.48885558e-05,\n",
       "       9.99051134e-01, 9.99997889e-01, 9.99999999e-01, 9.99861593e-01,\n",
       "       4.40866502e-01, 1.00000000e+00, 1.00000000e+00, 9.43585579e-03,\n",
       "       1.00000000e+00, 1.44078382e-03, 9.99999971e-01, 1.00000000e+00,\n",
       "       1.77591127e-04, 7.93686777e-01, 1.00000000e+00, 1.00000000e+00,\n",
       "       8.85738166e-04, 6.36616055e-03, 9.91978560e-01, 9.99999999e-01,\n",
       "       9.99999569e-01, 9.99978445e-01, 9.99999999e-01, 9.99998857e-01,\n",
       "       9.99999593e-01, 9.99586922e-01, 9.99724483e-01, 1.00000000e+00,\n",
       "       1.69373771e-01, 9.91978560e-01, 9.99986760e-01, 9.08216206e-05,\n",
       "       1.00000000e+00, 2.12315701e-02, 1.00000000e+00, 9.99981729e-01,\n",
       "       9.92307681e-01, 1.00000000e+00, 2.57529345e-01, 1.00000000e+00,\n",
       "       7.51758026e-04, 1.00000000e+00, 8.59659726e-01, 1.00000000e+00,\n",
       "       4.89003077e-01, 9.09281254e-01, 9.99999971e-01, 9.99999974e-01,\n",
       "       9.87242005e-01, 9.99999999e-01, 1.00000000e+00, 3.75158538e-01,\n",
       "       1.00000000e+00, 7.96130318e-01, 6.82617159e-02, 9.99979548e-01,\n",
       "       1.66658072e-01, 3.47861434e-03, 8.59659726e-01, 7.93686777e-01,\n",
       "       1.00000000e+00, 9.79627138e-01, 3.75741519e-02, 1.00000000e+00,\n",
       "       9.94482422e-01, 6.48885558e-05, 1.00000000e+00, 9.98891257e-01,\n",
       "       9.93413502e-01, 9.99998340e-01, 1.00000000e+00, 9.75495277e-01,\n",
       "       9.99966787e-01, 1.45687741e-04, 6.92774213e-01, 9.99999935e-01,\n",
       "       9.99999569e-01, 9.99566468e-01, 9.96783325e-01, 9.99998857e-01,\n",
       "       7.30835202e-01, 9.99717542e-01, 8.75942703e-01, 9.99991167e-01,\n",
       "       9.99830140e-01, 9.99897222e-01, 9.99586922e-01, 1.00000000e+00,\n",
       "       4.16255688e-01, 5.96725641e-02, 1.00000000e+00, 4.48099390e-02,\n",
       "       9.99998505e-01, 5.23521032e-03, 9.99999997e-01, 1.00000000e+00,\n",
       "       9.99956648e-01, 1.00000000e+00, 9.99884208e-01, 1.66658072e-01,\n",
       "       9.99440601e-01, 1.41344429e-04, 6.92774213e-01, 1.00000000e+00,\n",
       "       1.00000000e+00, 2.32302206e-03, 9.99833831e-01, 9.99999754e-01,\n",
       "       9.99825734e-01, 9.99736239e-01, 2.21655778e-02, 2.68376993e-02,\n",
       "       3.97085437e-03, 1.00000000e+00, 9.99999936e-01, 9.99998107e-01,\n",
       "       2.59051677e-03, 1.22400991e-02, 9.99897222e-01, 7.66630923e-03,\n",
       "       1.00000000e+00, 9.99897222e-01, 9.99800129e-01, 9.99771705e-01,\n",
       "       5.51951072e-03, 9.99436814e-01, 7.01093578e-01, 9.99981729e-01,\n",
       "       1.66661060e-04, 1.45687741e-04, 9.97687101e-01, 9.95427905e-01,\n",
       "       9.99771705e-01, 5.36652380e-01, 6.48885558e-05, 1.00000000e+00,\n",
       "       2.62904762e-01, 9.99999984e-01, 6.92774213e-01, 9.89680004e-01,\n",
       "       3.73900470e-03, 1.60185153e-01, 1.00000000e+00, 9.99853685e-01,\n",
       "       3.53345124e-01, 1.20307631e-01, 9.98759774e-01, 9.99736239e-01,\n",
       "       9.99861251e-01, 6.82617159e-02, 9.99717542e-01, 9.99985521e-01,\n",
       "       1.16566216e-02, 1.98325348e-02, 6.82617159e-02, 9.99999994e-01,\n",
       "       9.99999754e-01, 5.14912325e-01, 1.00000000e+00, 1.00000000e+00,\n",
       "       9.99999087e-01, 1.00000000e+00, 9.99176882e-01, 1.00000000e+00,\n",
       "       9.99999886e-01, 9.99966787e-01, 3.13796236e-02, 9.87814016e-01,\n",
       "       2.68376993e-02, 7.73352317e-01, 4.52280394e-03, 3.56400956e-01,\n",
       "       9.99999702e-01, 1.78688489e-01, 9.65705330e-01, 1.00000000e+00,\n",
       "       1.65613996e-01, 5.85413977e-04, 1.00000000e+00, 9.99633820e-01,\n",
       "       9.99999987e-01, 9.99998858e-01, 9.99997889e-01, 1.82561011e-01,\n",
       "       9.94482422e-01, 7.52667445e-03, 8.72703566e-01, 9.45578149e-01,\n",
       "       1.00000000e+00, 2.78118383e-02, 9.63313146e-02, 7.46193172e-01,\n",
       "       1.00000000e+00, 1.00000000e+00, 9.33864951e-01, 1.00000000e+00,\n",
       "       4.31818091e-01, 8.70280320e-01, 1.00000000e+00, 1.00000000e+00,\n",
       "       9.81501700e-01, 9.99999999e-01, 9.99998339e-01, 9.45578149e-01,\n",
       "       2.47060150e-04, 8.27031542e-01, 4.74717376e-01, 1.41344429e-04,\n",
       "       2.16578944e-01, 9.99952932e-01, 9.99999999e-01, 9.80236250e-01,\n",
       "       3.56400956e-01, 4.89003077e-01, 9.99999985e-01, 9.99999975e-01,\n",
       "       9.96382498e-01, 5.67248126e-01, 3.67326346e-01, 9.96082672e-01,\n",
       "       4.89003077e-01, 3.73619322e-01, 9.15877572e-05, 1.51447317e-04,\n",
       "       9.76324897e-01, 9.57127546e-01, 9.98573078e-01, 5.96725641e-02,\n",
       "       9.99996475e-01, 2.35814614e-01, 1.16724060e-03, 9.99436814e-01,\n",
       "       9.21606437e-01, 6.67421575e-02, 9.99572979e-01, 2.61593733e-04,\n",
       "       6.05974616e-01, 8.78286923e-03, 9.81501700e-01, 1.00000000e+00,\n",
       "       1.36985009e-01, 9.97438966e-01, 9.99998529e-01, 9.99546077e-01,\n",
       "       1.00000000e+00, 9.99999999e-01, 9.99389351e-01, 9.95403657e-01,\n",
       "       1.00000000e+00, 9.99999141e-01, 1.00000000e+00, 9.75495277e-01])"
      ]
     },
     "execution_count": 37,
     "metadata": {},
     "output_type": "execute_result"
    }
   ],
   "source": [
    "# flood probability\n",
    "logreg.predict_proba(OH_X_valid)[:,0]"
   ]
  },
  {
   "cell_type": "code",
   "execution_count": 38,
   "metadata": {},
   "outputs": [
    {
     "data": {
      "text/plain": [
       "array([9.96277211e-001, 9.82440264e-001, 9.80167465e-001, 9.99878351e-001,\n",
       "       3.83117012e-007, 6.10648880e-004, 1.24659666e-003, 2.14462912e-005,\n",
       "       6.11527239e-001, 1.64776115e-001, 5.57308230e-005, 5.58494254e-002,\n",
       "       2.49533683e-005, 1.60525712e-010, 7.12048393e-001, 9.99939027e-001,\n",
       "       6.96097186e-002, 1.62064509e-005, 3.60587552e-014, 5.23172492e-004,\n",
       "       5.31290776e-007, 1.23920991e-007, 9.99738036e-001, 1.88998608e-003,\n",
       "       2.03869682e-001, 7.70887233e-002, 2.46158175e-007, 1.66608369e-001,\n",
       "       1.82110302e-006, 1.51745653e-016, 1.10874349e-003, 2.35414904e-004,\n",
       "       7.12048393e-001, 6.58812332e-010, 2.37982330e-002, 9.40327436e-001,\n",
       "       9.99757560e-001, 6.23739272e-010, 9.63552316e-001, 9.98449450e-001,\n",
       "       9.99301135e-001, 3.73054554e-005, 2.98329773e-007, 2.05085165e-005,\n",
       "       6.03280263e-003, 1.46315194e-004, 7.64815626e-001, 4.74150071e-004,\n",
       "       1.49826057e-007, 3.13853442e-001, 4.36535882e-011, 9.93633839e-001,\n",
       "       9.95900543e-001, 1.61301990e-004, 1.46547387e-009, 1.16056703e-008,\n",
       "       3.23992286e-005, 9.98010712e-001, 8.66560346e-002, 1.21363394e-012,\n",
       "       6.35682440e-003, 1.07981603e-002, 1.30649962e-008, 1.78544009e-008,\n",
       "       2.17300256e-007, 1.78726063e-002, 6.26380678e-001, 7.76021686e-013,\n",
       "       1.93545139e-013, 6.58812332e-010, 3.45248819e-010, 3.70215636e-001,\n",
       "       1.82470667e-015, 2.03728618e-002, 6.51172725e-008, 1.99408131e-007,\n",
       "       8.14364503e-001, 9.94124156e-001, 5.44218508e-002, 1.06717537e-001,\n",
       "       1.64525829e-009, 1.09498261e-025, 2.06313223e-001, 9.33997078e-001,\n",
       "       9.70884847e-001, 1.51232678e-005, 8.34412669e-010, 1.89170696e-011,\n",
       "       9.99935111e-001, 6.91965507e-001, 9.97745240e-001, 1.42100010e-006,\n",
       "       2.04307654e-006, 1.21859841e-002, 5.85154002e-010, 9.99935111e-001,\n",
       "       3.48828507e-002, 4.60864732e-009, 4.16002646e-004, 6.23160264e-014,\n",
       "       2.55421129e-005, 8.32403588e-001, 1.47010484e-007, 6.28293259e-019,\n",
       "       2.71383156e-002, 1.18030100e-009, 4.59634313e-003, 3.12197063e-003,\n",
       "       1.45697387e-008, 9.59388371e-006, 9.90308295e-001, 9.82256282e-001,\n",
       "       4.36548456e-007, 3.73358641e-014, 2.63751568e-005, 1.26969060e-001,\n",
       "       9.28455596e-008, 5.06060832e-001, 5.18438910e-005, 2.65947237e-012,\n",
       "       2.58419598e-008, 2.23384504e-001, 2.63751568e-005, 1.82470667e-015,\n",
       "       2.59426431e-003, 9.97297823e-001, 9.98463452e-001, 1.33907955e-009,\n",
       "       9.92344451e-001, 9.96462401e-001, 1.66050198e-006, 1.89863828e-019,\n",
       "       6.50991598e-002, 8.63014991e-001, 8.86205972e-005, 2.47046676e-003,\n",
       "       9.45161411e-009, 1.09498261e-025, 6.43969062e-004, 1.08971334e-010,\n",
       "       1.33846643e-009, 1.09112321e-018, 1.10691548e-008, 2.49533683e-005,\n",
       "       3.03396176e-003, 9.83216350e-001, 1.49619648e-019, 1.47675897e-004,\n",
       "       3.80458165e-034, 2.01210312e-012, 7.46196627e-007, 6.15938554e-004,\n",
       "       1.49826057e-007, 4.28724536e-002, 9.99221354e-001, 8.33341928e-001,\n",
       "       7.32528191e-001, 9.66657899e-001, 5.24082381e-011, 2.01957086e-009,\n",
       "       5.80913262e-001, 9.99833339e-001, 4.41866690e-021, 8.34386004e-001,\n",
       "       1.85090953e-001, 9.59635442e-016, 1.02778149e-004, 3.70670669e-012,\n",
       "       3.65001447e-005, 8.46175681e-001, 2.12072996e-001, 2.45217583e-010,\n",
       "       8.88333826e-005, 9.39682308e-002, 6.03499108e-009, 5.58602650e-005,\n",
       "       2.85480254e-008, 8.66560346e-002, 9.83216350e-001, 9.57884501e-001,\n",
       "       4.39341989e-005, 9.59239237e-001, 5.85054794e-002, 6.49235960e-007,\n",
       "       2.12072996e-001, 5.80769776e-004, 9.96277211e-001, 1.66037680e-006,\n",
       "       8.46175681e-001, 9.15126371e-008, 1.93137659e-009, 9.06951345e-011,\n",
       "       9.87163112e-001, 9.81251240e-001, 6.14723257e-004, 1.03032763e-006,\n",
       "       2.63751568e-005, 1.29719680e-001, 2.23029564e-018, 9.99846758e-001,\n",
       "       9.99114262e-001, 6.00168262e-006, 1.66050198e-006, 8.63014991e-001,\n",
       "       4.98815964e-013, 1.62899708e-007, 8.72900416e-013, 8.70128998e-009,\n",
       "       9.97825994e-001, 9.57112021e-001, 2.21426585e-005, 8.33224619e-006,\n",
       "       2.61802731e-003, 4.33773909e-001, 9.99225345e-001, 1.49222552e-008,\n",
       "       3.32131098e-005, 8.60027509e-001, 2.51304873e-010, 8.98044327e-001,\n",
       "       9.78010970e-001, 4.59376504e-012, 9.72363211e-001, 9.84438469e-001,\n",
       "       1.21231691e-001, 5.79230343e-007, 1.35278207e-008, 9.43352828e-001,\n",
       "       1.93762694e-179, 1.26101574e-003, 7.27085309e-001, 1.59891187e-007,\n",
       "       8.31797662e-010, 2.66170970e-003, 8.47222689e-014, 1.31789864e-017,\n",
       "       1.05215603e-012, 5.12763961e-007, 5.58494254e-002, 1.32073577e-010,\n",
       "       9.99909170e-001, 9.93633839e-001, 9.31738284e-001, 9.97676978e-001,\n",
       "       1.15735808e-013, 4.36535882e-011, 9.98832759e-001, 9.99939027e-001,\n",
       "       3.28776863e-003, 9.97034081e-001, 9.99391246e-001, 2.28295224e-004,\n",
       "       8.25809728e-001, 2.64183137e-009, 9.99519435e-001, 1.85953019e-007,\n",
       "       5.83744312e-001, 1.57209503e-014, 6.63063171e-010, 9.96462401e-001,\n",
       "       7.12048393e-001, 3.88488799e-002, 9.99221354e-001, 1.46315194e-004,\n",
       "       9.93847234e-001, 4.63170634e-003, 4.60864732e-009, 6.05589140e-017,\n",
       "       2.63751568e-005, 1.10205599e-026, 9.99826838e-001, 8.52642858e-001,\n",
       "       1.00145697e-007, 2.17300256e-007, 4.27020973e-004, 2.19145828e-005,\n",
       "       5.89901617e-023, 2.17300256e-007, 2.06313223e-001, 3.19735171e-002,\n",
       "       1.75699931e-004, 1.21231691e-001, 6.32070271e-011, 9.99738036e-001,\n",
       "       2.42506608e-001, 1.53776687e-016, 1.07816134e-011, 9.40327436e-001,\n",
       "       9.99738036e-001, 9.99211806e-001, 4.41714130e-011, 4.96426027e-010,\n",
       "       3.82194970e-008, 1.82470667e-015, 8.33821628e-003, 3.22188371e-002,\n",
       "       9.97676978e-001, 9.15030111e-001, 2.60572077e-001, 4.60864732e-009,\n",
       "       9.37175988e-021, 5.59133498e-001, 9.31738284e-001, 1.26682181e-013,\n",
       "       9.93324300e-001, 2.89443815e-008, 9.99221354e-001, 7.98562821e-006,\n",
       "       3.20636474e-019, 8.52642858e-001, 2.59426431e-003, 1.45562126e-009,\n",
       "       6.77971680e-001, 1.10205599e-026, 9.91000477e-001, 3.32475882e-004,\n",
       "       3.68595026e-001, 9.95050694e-001, 1.05915015e-002, 9.99939027e-001,\n",
       "       6.10648880e-004, 9.88922750e-001, 9.90890890e-001, 9.99528559e-001,\n",
       "       9.08863166e-009, 2.46735935e-007, 3.87904835e-002, 9.07187455e-002,\n",
       "       2.63751568e-005, 9.95477196e-001, 9.99826838e-001, 9.98916529e-001,\n",
       "       2.31698832e-010, 2.52394032e-001, 9.76286390e-005, 8.34386004e-001,\n",
       "       8.83918226e-018, 2.15552861e-005, 3.18659345e-002, 3.45248819e-010,\n",
       "       3.89697435e-016, 2.69244616e-008, 9.99909178e-001, 2.33447854e-012,\n",
       "       9.74613847e-001, 9.98861435e-001, 9.59239237e-001, 2.21180128e-003,\n",
       "       8.90442831e-002, 5.79970860e-011, 5.75010893e-005, 9.67759050e-009,\n",
       "       8.04777847e-002, 3.20636474e-019, 2.44931853e-007, 4.95015347e-003,\n",
       "       3.68595026e-001, 4.28505627e-005, 9.97614501e-001, 2.26966613e-002,\n",
       "       2.82457805e-004, 3.30780028e-001, 6.28293259e-019, 2.72372524e-011,\n",
       "       1.66329839e-001, 3.99389770e-012, 3.22202098e-006, 4.30048554e-006,\n",
       "       6.57450185e-015, 5.84572372e-001, 9.51672824e-001, 3.65833235e-007,\n",
       "       2.54425133e-003, 2.39155290e-001, 6.65389652e-007, 3.45049196e-004,\n",
       "       5.66176996e-001, 7.33757079e-012, 4.37612764e-007, 9.92442965e-001,\n",
       "       9.40184963e-004, 3.50591200e-001, 6.06587677e-001, 9.44551827e-014,\n",
       "       6.19252427e-016, 9.91364838e-001, 3.50420450e-002, 6.77271319e-001,\n",
       "       1.23869037e-005, 1.45562126e-009, 9.91000477e-001, 4.71703519e-017,\n",
       "       8.33821628e-003, 9.98903469e-001, 3.48762977e-009, 2.23384504e-001,\n",
       "       8.17810226e-001, 9.40327436e-001, 9.34485131e-001, 9.91364838e-001,\n",
       "       5.69488121e-012, 9.79728476e-001, 3.67994653e-005, 3.90933599e-001,\n",
       "       6.61786122e-005, 5.78824420e-002, 8.27730328e-001, 1.76988818e-004,\n",
       "       4.63347620e-001, 4.13761121e-009, 9.95900543e-001, 9.99051541e-001,\n",
       "       8.31066336e-003, 9.37557391e-001, 1.16941611e-009, 6.72783136e-006,\n",
       "       2.58419598e-008, 9.15403510e-017, 9.77272650e-001, 1.03199965e-002,\n",
       "       7.83996593e-001, 6.15938554e-004, 9.44736238e-001, 9.28455596e-008,\n",
       "       5.25282624e-001, 2.85034707e-015, 2.16041694e-012, 8.02143951e-003,\n",
       "       2.46508716e-013, 1.93545139e-013, 6.47890489e-005, 4.13077704e-004,\n",
       "       9.97060359e-001, 4.51500954e-004, 1.05215603e-012, 9.93847234e-001,\n",
       "       1.15207654e-003, 6.00667734e-005, 9.99935111e-001, 4.59376504e-012,\n",
       "       1.33907955e-009, 9.13764592e-001, 9.96343572e-001, 9.96081058e-001,\n",
       "       7.25210171e-002, 9.50518879e-001, 9.98559216e-001, 9.99225345e-001,\n",
       "       1.39554761e-009, 4.31290925e-007, 5.73126256e-002, 9.95707260e-001,\n",
       "       1.19687162e-001, 9.58107410e-001, 8.59338596e-005, 4.20919355e-003,\n",
       "       9.54494678e-001, 9.99846758e-001, 2.44980330e-001, 2.23356773e-004,\n",
       "       4.57906891e-001, 9.93633839e-001, 2.78302405e-010, 3.91732843e-003,\n",
       "       9.91217131e-001, 8.04777847e-002, 8.02143951e-003, 9.97713768e-001,\n",
       "       3.68949824e-002, 9.97034081e-001, 9.91364838e-001, 1.64517786e-016,\n",
       "       1.39417637e-004, 1.03223248e-007, 9.40327436e-001, 4.31290925e-007,\n",
       "       8.16066553e-013, 7.61583163e-006, 9.99738036e-001, 2.17300256e-007,\n",
       "       9.44560444e-001, 4.17187092e-002, 9.59635442e-016, 9.94721457e-001,\n",
       "       2.89443815e-008, 2.51430110e-002, 1.19437326e-009, 1.35269996e-025,\n",
       "       4.50191592e-002, 9.33117911e-001, 8.54534354e-001, 6.48986327e-009,\n",
       "       6.03280263e-003, 4.36535882e-011, 2.45884655e-003, 3.12146638e-012,\n",
       "       9.98559216e-001, 1.44787508e-005, 9.06091025e-001, 1.64525829e-009,\n",
       "       2.06313223e-001, 9.96675839e-001, 6.72927386e-004, 1.68370614e-013,\n",
       "       9.97825994e-001, 2.66170970e-003, 9.40860209e-001, 5.18438910e-005,\n",
       "       8.78758436e-001, 3.79884322e-007, 3.32131098e-005, 5.23172492e-004,\n",
       "       1.62899708e-007, 9.31738284e-001, 9.99114262e-001, 9.83216350e-001,\n",
       "       1.51745653e-016, 1.38813156e-001, 9.99044210e-001, 3.49327552e-006,\n",
       "       3.19714780e-012, 9.85913246e-001, 9.70884847e-001, 2.03728618e-002,\n",
       "       6.47890489e-005, 9.59635442e-016, 1.55129294e-004, 2.69244616e-008,\n",
       "       1.44787508e-005, 9.99738406e-001, 4.70679264e-005, 3.65638779e-004,\n",
       "       3.91732843e-003, 1.26450176e-008, 8.83918226e-018, 3.82194970e-008,\n",
       "       4.47405698e-001, 1.65886457e-011, 4.74439161e-001, 2.33898347e-013,\n",
       "       2.23384504e-001, 6.00495077e-001, 1.76624448e-010, 1.26157547e-009,\n",
       "       3.37240471e-013, 4.05998360e-003, 2.97213527e-011, 4.98815964e-013,\n",
       "       2.82316100e-006, 7.14947474e-016, 4.15730264e-007, 2.57941418e-014,\n",
       "       1.87147977e-009, 1.07703571e-001, 2.57941418e-014, 9.98374099e-001,\n",
       "       3.78172518e-013, 1.47369451e-009, 1.11709121e-013, 9.48866260e-004,\n",
       "       1.93545139e-013, 7.55946132e-001, 2.45068790e-008, 6.23012787e-001,\n",
       "       2.36521149e-008, 1.93545139e-013, 3.71768843e-008, 5.40523247e-001,\n",
       "       3.70670669e-012, 8.55712411e-007, 7.32528191e-001, 9.96927439e-001,\n",
       "       9.97448560e-001, 3.49327552e-006, 9.81251240e-001, 1.82110302e-006,\n",
       "       4.13172775e-003, 4.08518175e-006, 1.26892308e-003, 7.16279490e-017,\n",
       "       1.38813156e-001, 1.53618972e-013, 6.52973997e-009, 9.99935111e-001,\n",
       "       9.48866260e-004, 2.11147884e-006, 1.46547387e-009, 1.38407163e-004,\n",
       "       5.59133498e-001, 1.91048069e-017, 3.93276903e-012, 9.90564144e-001,\n",
       "       5.49962557e-308, 9.98559216e-001, 2.87217871e-008, 5.90353528e-015,\n",
       "       9.99822409e-001, 2.06313223e-001, 2.10303778e-016, 1.02114909e-014,\n",
       "       9.99114262e-001, 9.93633839e-001, 8.02143951e-003, 6.58812332e-010,\n",
       "       4.31290925e-007, 2.15552861e-005, 1.03972779e-009, 1.14290876e-006,\n",
       "       4.06973519e-007, 4.13077704e-004, 2.75517158e-004, 2.66736441e-017,\n",
       "       8.30626229e-001, 8.02143951e-003, 1.32401040e-005, 9.99909178e-001,\n",
       "       2.03226801e-011, 9.78768430e-001, 7.33757079e-012, 1.82711477e-005,\n",
       "       7.69231926e-003, 3.63690384e-017, 7.42470655e-001, 8.21343535e-022,\n",
       "       9.99248242e-001, 2.67796619e-014, 1.40340274e-001, 4.93059958e-010,\n",
       "       5.10996923e-001, 9.07187455e-002, 2.85480254e-008, 2.58419598e-008,\n",
       "       1.27579946e-002, 5.90897589e-010, 1.57209503e-014, 6.24841462e-001,\n",
       "       1.21363394e-012, 2.03869682e-001, 9.31738284e-001, 2.04521207e-005,\n",
       "       8.33341928e-001, 9.96521386e-001, 1.40340274e-001, 2.06313223e-001,\n",
       "       2.03208390e-040, 2.03728618e-002, 9.62425848e-001, 4.71703519e-017,\n",
       "       5.51757826e-003, 9.99935111e-001, 1.59674932e-019, 1.10874349e-003,\n",
       "       6.58649846e-003, 1.66037680e-006, 3.63690384e-017, 2.45047227e-002,\n",
       "       3.32131098e-005, 9.99854312e-001, 3.07225787e-001, 6.53022730e-008,\n",
       "       4.31290925e-007, 4.33532212e-004, 3.21667489e-003, 1.14290876e-006,\n",
       "       2.69164798e-001, 2.82457805e-004, 1.24057297e-001, 8.83336842e-006,\n",
       "       1.69860032e-004, 1.02778149e-004, 4.13077704e-004, 9.62898749e-012,\n",
       "       5.83744312e-001, 9.40327436e-001, 2.81240791e-030, 9.55190061e-001,\n",
       "       1.49527825e-006, 9.94764790e-001, 2.64183137e-009, 2.97661330e-014,\n",
       "       4.33517274e-005, 1.36410304e-022, 1.15791508e-004, 8.33341928e-001,\n",
       "       5.59399192e-004, 9.99858656e-001, 3.07225787e-001, 5.90353528e-015,\n",
       "       2.14539315e-010, 9.97676978e-001, 1.66168509e-004, 2.46158175e-007,\n",
       "       1.74265607e-004, 2.63761304e-004, 9.77834422e-001, 9.73162301e-001,\n",
       "       9.96029146e-001, 9.59635442e-016, 6.37116655e-008, 1.89308648e-006,\n",
       "       9.97409483e-001, 9.87759901e-001, 1.02778149e-004, 9.92333691e-001,\n",
       "       1.57209503e-014, 1.02778149e-004, 1.99870624e-004, 2.28295224e-004,\n",
       "       9.94480489e-001, 5.63185590e-004, 2.98906422e-001, 1.82711477e-005,\n",
       "       9.99833339e-001, 9.99854312e-001, 2.31289907e-003, 4.57209546e-003,\n",
       "       2.28295224e-004, 4.63347620e-001, 9.99935111e-001, 1.56760155e-011,\n",
       "       7.37095238e-001, 1.55437432e-008, 3.07225787e-001, 1.03199965e-002,\n",
       "       9.96260995e-001, 8.39814847e-001, 8.72900416e-013, 1.46315194e-004,\n",
       "       6.46654876e-001, 8.79692369e-001, 1.24022629e-003, 2.63761304e-004,\n",
       "       1.38749246e-004, 9.31738284e-001, 2.82457805e-004, 1.44787508e-005,\n",
       "       9.88343378e-001, 9.80167465e-001, 9.31738284e-001, 5.86296032e-009,\n",
       "       2.46158175e-007, 4.85087675e-001, 2.31698832e-010, 2.57771706e-015,\n",
       "       9.13235369e-007, 2.20830823e-021, 8.23118109e-004, 1.02716459e-020,\n",
       "       1.13821478e-007, 3.32131098e-005, 9.68620376e-001, 1.21859841e-002,\n",
       "       9.73162301e-001, 2.26647683e-001, 9.95477196e-001, 6.43599044e-001,\n",
       "       2.98329773e-007, 8.21311511e-001, 3.42946704e-002, 4.44803116e-015,\n",
       "       8.34386004e-001, 9.99414586e-001, 2.14539315e-010, 3.66180367e-004,\n",
       "       1.30649962e-008, 1.14223928e-006, 2.11147884e-006, 8.17438989e-001,\n",
       "       5.51757826e-003, 9.92473326e-001, 1.27296434e-001, 5.44218508e-002,\n",
       "       3.87425815e-010, 9.72188162e-001, 9.03668685e-001, 2.53806828e-001,\n",
       "       1.93545139e-013, 1.04039041e-013, 6.61350490e-002, 3.45537703e-011,\n",
       "       5.68181909e-001, 1.29719680e-001, 2.23029564e-018, 1.08971334e-010,\n",
       "       1.84982999e-002, 1.42213439e-009, 1.66050198e-006, 5.44218508e-002,\n",
       "       9.99752940e-001, 1.72968458e-001, 5.25282624e-001, 9.99858656e-001,\n",
       "       7.83421056e-001, 4.70679264e-005, 7.26246518e-010, 1.97637496e-002,\n",
       "       6.43599044e-001, 5.10996923e-001, 1.45697387e-008, 2.45068790e-008,\n",
       "       3.61750246e-003, 4.32751874e-001, 6.32673654e-001, 3.91732843e-003,\n",
       "       5.10996923e-001, 6.26380678e-001, 9.99908412e-001, 9.99848553e-001,\n",
       "       2.36751027e-002, 4.28724536e-002, 1.42692154e-003, 9.40327436e-001,\n",
       "       3.52504200e-006, 7.64185386e-001, 9.98832759e-001, 5.63185590e-004,\n",
       "       7.83935631e-002, 9.33257843e-001, 4.27020973e-004, 9.99738406e-001,\n",
       "       3.94025384e-001, 9.91217131e-001, 1.84982999e-002, 2.65947237e-012,\n",
       "       8.63014991e-001, 2.56103408e-003, 1.47119553e-006, 4.53923217e-004,\n",
       "       8.32349384e-012, 1.39554761e-009, 6.10648880e-004, 4.59634313e-003,\n",
       "       1.10205599e-026, 8.59428660e-007, 2.57941418e-014, 2.45047227e-002])"
      ]
     },
     "execution_count": 38,
     "metadata": {},
     "output_type": "execute_result"
    }
   ],
   "source": [
    "# no flood probability\n",
    "logreg.predict_proba(OH_X_valid)[:,1]"
   ]
  },
  {
   "cell_type": "markdown",
   "metadata": {},
   "source": [
    "## 6. Model Evaluation"
   ]
  },
  {
   "cell_type": "code",
   "execution_count": 39,
   "metadata": {},
   "outputs": [
    {
     "name": "stdout",
     "output_type": "stream",
     "text": [
      "Model accuracy score: 0.9880\n"
     ]
    }
   ],
   "source": [
    "# model accuracy checking\n",
    "from sklearn.metrics import accuracy_score\n",
    "\n",
    "print('Model accuracy score: {0:0.4f}'. format(accuracy_score(y_valid, y_pred_test)))"
   ]
  },
  {
   "cell_type": "code",
   "execution_count": 40,
   "metadata": {},
   "outputs": [
    {
     "name": "stdout",
     "output_type": "stream",
     "text": [
      "Training-set accuracy score: 0.9928\n"
     ]
    }
   ],
   "source": [
    "# compare train and test set accuracy\n",
    "y_pred_train = logreg.predict(OH_X_train)\n",
    "print('Training-set accuracy score: {0:0.4f}'. format(accuracy_score(y_train, y_pred_train)))"
   ]
  },
  {
   "cell_type": "code",
   "execution_count": 41,
   "metadata": {},
   "outputs": [
    {
     "name": "stdout",
     "output_type": "stream",
     "text": [
      "Training set score: 0.9928\n",
      "Test set score: 0.9880\n"
     ]
    }
   ],
   "source": [
    "# print the scores on training and test set\n",
    "print('Training set score: {:.4f}'.format(logreg.score(OH_X_train, y_train)))\n",
    "print('Test set score: {:.4f}'.format(logreg.score(OH_X_valid, y_valid)))"
   ]
  },
  {
   "cell_type": "markdown",
   "metadata": {},
   "source": [
    "The training set and test set score are quite comparable so no question of overfitting. \n",
    "\n",
    "### Notes for interpretation:\n",
    "1. Training score: How the model fit in the training data. If model fits so well in a data with lots of variance -> overfitting. This will result in poor test score. The mode curved a lot to fit the training data and generalized very poorly\n",
    "2. Test score: Real life scenario. Higher the better.\n",
    "3. High training score and low test score is over-fitting, both low is under-fitting. \n",
    "    - Technical term: Low bias and high variance is over-fitting and high variance and high bias is under-fitting\n",
    "    - Under-fit model will have high training and high testing error; over-fit model will have very low training error but high testing error\n",
    "\n",
    "References\n",
    "- https://datascience.stackexchange.com/questions/70054/interpretation-for-test-score-training-score-and-validation-score-in-machine-l"
   ]
  },
  {
   "cell_type": "code",
   "execution_count": 42,
   "metadata": {},
   "outputs": [
    {
     "data": {
      "text/plain": [
       "flood_risk\n",
       "0    577\n",
       "1    259\n",
       "Name: count, dtype: int64"
      ]
     },
     "execution_count": 42,
     "metadata": {},
     "output_type": "execute_result"
    }
   ],
   "source": [
    "# check class distribution in test set\n",
    "y_valid.value_counts()"
   ]
  },
  {
   "cell_type": "code",
   "execution_count": 95,
   "metadata": {},
   "outputs": [
    {
     "data": {
      "text/plain": [
       "array([[575,   2],\n",
       "       [  8, 251]], dtype=int64)"
      ]
     },
     "execution_count": 95,
     "metadata": {},
     "output_type": "execute_result"
    }
   ],
   "source": [
    "# confusion matrix\n",
    "from sklearn.metrics import confusion_matrix, ConfusionMatrixDisplay\n",
    "\n",
    "cm = confusion_matrix(y_valid, y_pred_test)\n",
    "cm"
   ]
  },
  {
   "cell_type": "code",
   "execution_count": 98,
   "metadata": {},
   "outputs": [
    {
     "data": {
      "text/plain": [
       "<sklearn.metrics._plot.confusion_matrix.ConfusionMatrixDisplay at 0x12771658790>"
      ]
     },
     "execution_count": 98,
     "metadata": {},
     "output_type": "execute_result"
    },
    {
     "data": {
      "image/png": "[encoded data removed]",
      "text/plain": [
       "<Figure size 640x480 with 2 Axes>"
      ]
     },
     "metadata": {},
     "output_type": "display_data"
    }
   ],
   "source": [
    "# visualize confusion matrix with seaborn heatmap\n",
    "disp = ConfusionMatrixDisplay(confusion_matrix=cm)\n",
    "disp.plot()"
   ]
  },
  {
   "cell_type": "code",
   "execution_count": 45,
   "metadata": {},
   "outputs": [
    {
     "name": "stdout",
     "output_type": "stream",
     "text": [
      "Accuracy:  0.9880382775119617\n",
      "Classification error : 0.0120\n",
      "Precision : 0.9921\n",
      "Recall or Sensitivity : 0.9691\n"
     ]
    }
   ],
   "source": [
    "tp = 251 # true positive\n",
    "tn = 575 # true negative\n",
    "fn = 8 # false negative\n",
    "fp = 2 # false positive\n",
    "\n",
    "accuracy = (tp + tn) / (tp + tn + fp + fn)\n",
    "print(\"Accuracy: \", accuracy)\n",
    "\n",
    "classification_error = (fp + fn) / float(tp + tn + fp + fn)\n",
    "print('Classification error : {0:0.4f}'.format(classification_error))\n",
    "\n",
    "precision = tp / float(tp + fp)\n",
    "print('Precision : {0:0.4f}'.format(precision))\n",
    "\n",
    "recall = tp / float(tp + fn)\n",
    "print('Recall or Sensitivity : {0:0.4f}'.format(recall))"
   ]
  },
  {
   "cell_type": "markdown",
   "metadata": {},
   "source": [
    "- Precision can be defined as the percentage of correctly predicted positive outcomes out of all the predicted positive outcomes. It can be given as the ratio of true positives (TP) to the sum of true and false positives (TP + FP). Precision identifies the proportion of correctly predicted positive outcome. It is more concerned with the positive class than the negative class.\n",
    "\n",
    "- Recall can be defined as the percentage of correctly predicted positive outcomes out of all the actual positive outcomes. It can be given as the ratio of true positives (TP) to the sum of true positives and false negatives (TP + FN). Recall is also called Sensitivity."
   ]
  },
  {
   "cell_type": "code",
   "execution_count": 47,
   "metadata": {},
   "outputs": [
    {
     "name": "stdout",
     "output_type": "stream",
     "text": [
      "              precision    recall  f1-score   support\n",
      "\n",
      "           0       0.99      1.00      0.99       577\n",
      "           1       0.99      0.97      0.98       259\n",
      "\n",
      "    accuracy                           0.99       836\n",
      "   macro avg       0.99      0.98      0.99       836\n",
      "weighted avg       0.99      0.99      0.99       836\n",
      "\n"
     ]
    }
   ],
   "source": [
    "from sklearn.metrics import classification_report\n",
    "print(classification_report(y_valid, y_pred_test))"
   ]
  },
  {
   "cell_type": "markdown",
   "metadata": {},
   "source": [
    "- `f1-score` is the weighted harmonic mean of precision and recall. The best possible f1-score would be 1.0 and the worst would be 0.0. `f1-score` is the harmonic mean of precision and recall. So, f1-score is always lower than accuracy measures as they embed precision and recall into their computation. The weighted average of f1-score should be used to compare classifier models, not global accuracy.\n",
    "\n",
    "- Support is the actual number of occurrences of the class in our dataset."
   ]
  },
  {
   "cell_type": "markdown",
   "metadata": {},
   "source": [
    "## 7. Adjusting threshold level"
   ]
  },
  {
   "cell_type": "code",
   "execution_count": 48,
   "metadata": {},
   "outputs": [
    {
     "data": {
      "text/plain": [
       "array([[3.72278883e-03, 9.96277211e-01],\n",
       "       [1.75597356e-02, 9.82440264e-01],\n",
       "       [1.98325348e-02, 9.80167465e-01],\n",
       "       [1.21648924e-04, 9.99878351e-01],\n",
       "       [9.99999617e-01, 3.83117012e-07],\n",
       "       [9.99389351e-01, 6.10648880e-04],\n",
       "       [9.98753403e-01, 1.24659666e-03],\n",
       "       [9.99978554e-01, 2.14462912e-05],\n",
       "       [3.88472761e-01, 6.11527239e-01],\n",
       "       [8.35223885e-01, 1.64776115e-01]])"
      ]
     },
     "execution_count": 48,
     "metadata": {},
     "output_type": "execute_result"
    }
   ],
   "source": [
    "# print first 10 predicted probabilities of 0 and 1 (two classes)\n",
    "y_pred_prob = logreg.predict_proba(OH_X_valid)[0:10]\n",
    "y_pred_prob"
   ]
  },
  {
   "cell_type": "code",
   "execution_count": 49,
   "metadata": {},
   "outputs": [
    {
     "data": {
      "text/html": [
       "<div>\n",
       "<style scoped>\n",
       "    .dataframe tbody tr th:only-of-type {\n",
       "        vertical-align: middle;\n",
       "    }\n",
       "\n",
       "    .dataframe tbody tr th {\n",
       "        vertical-align: top;\n",
       "    }\n",
       "\n",
       "    .dataframe thead th {\n",
       "        text-align: right;\n",
       "    }\n",
       "</style>\n",
       "<table border=\"1\" class=\"dataframe\">\n",
       "  <thead>\n",
       "    <tr style=\"text-align: right;\">\n",
       "      <th></th>\n",
       "      <th>Prob of - No Flood</th>\n",
       "      <th>Prob of - Flood</th>\n",
       "    </tr>\n",
       "  </thead>\n",
       "  <tbody>\n",
       "    <tr>\n",
       "      <th>0</th>\n",
       "      <td>0.003723</td>\n",
       "      <td>9.962772e-01</td>\n",
       "    </tr>\n",
       "    <tr>\n",
       "      <th>1</th>\n",
       "      <td>0.017560</td>\n",
       "      <td>9.824403e-01</td>\n",
       "    </tr>\n",
       "    <tr>\n",
       "      <th>2</th>\n",
       "      <td>0.019833</td>\n",
       "      <td>9.801675e-01</td>\n",
       "    </tr>\n",
       "    <tr>\n",
       "      <th>3</th>\n",
       "      <td>0.000122</td>\n",
       "      <td>9.998784e-01</td>\n",
       "    </tr>\n",
       "    <tr>\n",
       "      <th>4</th>\n",
       "      <td>1.000000</td>\n",
       "      <td>3.831170e-07</td>\n",
       "    </tr>\n",
       "    <tr>\n",
       "      <th>5</th>\n",
       "      <td>0.999389</td>\n",
       "      <td>6.106489e-04</td>\n",
       "    </tr>\n",
       "    <tr>\n",
       "      <th>6</th>\n",
       "      <td>0.998753</td>\n",
       "      <td>1.246597e-03</td>\n",
       "    </tr>\n",
       "    <tr>\n",
       "      <th>7</th>\n",
       "      <td>0.999979</td>\n",
       "      <td>2.144629e-05</td>\n",
       "    </tr>\n",
       "    <tr>\n",
       "      <th>8</th>\n",
       "      <td>0.388473</td>\n",
       "      <td>6.115272e-01</td>\n",
       "    </tr>\n",
       "    <tr>\n",
       "      <th>9</th>\n",
       "      <td>0.835224</td>\n",
       "      <td>1.647761e-01</td>\n",
       "    </tr>\n",
       "  </tbody>\n",
       "</table>\n",
       "</div>"
      ],
      "text/plain": [
       "   Prob of - No Flood  Prob of - Flood\n",
       "0            0.003723     9.962772e-01\n",
       "1            0.017560     9.824403e-01\n",
       "2            0.019833     9.801675e-01\n",
       "3            0.000122     9.998784e-01\n",
       "4            1.000000     3.831170e-07\n",
       "5            0.999389     6.106489e-04\n",
       "6            0.998753     1.246597e-03\n",
       "7            0.999979     2.144629e-05\n",
       "8            0.388473     6.115272e-01\n",
       "9            0.835224     1.647761e-01"
      ]
     },
     "execution_count": 49,
     "metadata": {},
     "output_type": "execute_result"
    }
   ],
   "source": [
    "y_pred_prob_df = pd.DataFrame(data=y_pred_prob, columns=['Prob of - No Flood', 'Prob of - Flood'])\n",
    "\n",
    "y_pred_prob_df"
   ]
  },
  {
   "cell_type": "code",
   "execution_count": 54,
   "metadata": {},
   "outputs": [
    {
     "data": {
      "text/plain": [
       "array([9.96277211e-01, 9.82440264e-01, 9.80167465e-01, 9.99878351e-01,\n",
       "       3.83117012e-07, 6.10648880e-04, 1.24659666e-03, 2.14462912e-05,\n",
       "       6.11527239e-01, 1.64776115e-01])"
      ]
     },
     "execution_count": 54,
     "metadata": {},
     "output_type": "execute_result"
    }
   ],
   "source": [
    "y_pred1 = logreg.predict_proba(OH_X_valid)[:, 1] # store probabilities of class 1\n",
    "\n",
    "logreg.predict_proba(OH_X_valid)[0:10, 1]"
   ]
  },
  {
   "cell_type": "code",
   "execution_count": 62,
   "metadata": {},
   "outputs": [
    {
     "data": {
      "image/png": "[encoded data removed]",
      "text/plain": [
       "<Figure size 640x480 with 1 Axes>"
      ]
     },
     "metadata": {},
     "output_type": "display_data"
    }
   ],
   "source": [
    "# plot histogram of predicted probabilities\n",
    "\n",
    "# adjust the font size \n",
    "plt.rcParams['font.size'] = 12\n",
    "\n",
    "# plot histogram with 10 bins\n",
    "plt.hist(y_pred1, bins = 10)\n",
    "\n",
    "# set the title of predicted probabilities\n",
    "plt.title('Histogram of predicted probabilities of flood')\n",
    "\n",
    "# set the x-axis limit\n",
    "plt.xlim(0,1)\n",
    "\n",
    "# set the title\n",
    "plt.xlabel('Predicted probabilities of flood')\n",
    "plt.ylabel('Frequency')\n",
    "\n",
    "plt.savefig('images/histogram_pred_prob.png')"
   ]
  },
  {
   "cell_type": "markdown",
   "metadata": {},
   "source": [
    "- The histogram skewed to the right and majority of the observations predict no flood risk. "
   ]
  },
  {
   "cell_type": "code",
   "execution_count": 111,
   "metadata": {},
   "outputs": [
    {
     "data": {
      "text/html": [
       "<div>\n",
       "<style scoped>\n",
       "    .dataframe tbody tr th:only-of-type {\n",
       "        vertical-align: middle;\n",
       "    }\n",
       "\n",
       "    .dataframe tbody tr th {\n",
       "        vertical-align: top;\n",
       "    }\n",
       "\n",
       "    .dataframe thead th {\n",
       "        text-align: right;\n",
       "    }\n",
       "</style>\n",
       "<table border=\"1\" class=\"dataframe\">\n",
       "  <thead>\n",
       "    <tr style=\"text-align: right;\">\n",
       "      <th></th>\n",
       "      <th>threshold</th>\n",
       "      <th>tn</th>\n",
       "      <th>fp</th>\n",
       "      <th>fn</th>\n",
       "      <th>tp</th>\n",
       "      <th>accuracy</th>\n",
       "      <th>specificity</th>\n",
       "      <th>sensitivity</th>\n",
       "    </tr>\n",
       "  </thead>\n",
       "  <tbody>\n",
       "    <tr>\n",
       "      <th>0</th>\n",
       "      <td>0.1</td>\n",
       "      <td>524</td>\n",
       "      <td>53</td>\n",
       "      <td>0</td>\n",
       "      <td>259</td>\n",
       "      <td>0.936603</td>\n",
       "      <td>0.908146</td>\n",
       "      <td>1.000000</td>\n",
       "    </tr>\n",
       "    <tr>\n",
       "      <th>1</th>\n",
       "      <td>0.2</td>\n",
       "      <td>543</td>\n",
       "      <td>34</td>\n",
       "      <td>0</td>\n",
       "      <td>259</td>\n",
       "      <td>0.959330</td>\n",
       "      <td>0.941075</td>\n",
       "      <td>1.000000</td>\n",
       "    </tr>\n",
       "    <tr>\n",
       "      <th>2</th>\n",
       "      <td>0.3</td>\n",
       "      <td>564</td>\n",
       "      <td>13</td>\n",
       "      <td>0</td>\n",
       "      <td>259</td>\n",
       "      <td>0.984450</td>\n",
       "      <td>0.977470</td>\n",
       "      <td>1.000000</td>\n",
       "    </tr>\n",
       "    <tr>\n",
       "      <th>3</th>\n",
       "      <td>0.4</td>\n",
       "      <td>572</td>\n",
       "      <td>5</td>\n",
       "      <td>3</td>\n",
       "      <td>256</td>\n",
       "      <td>0.990431</td>\n",
       "      <td>0.991334</td>\n",
       "      <td>0.988417</td>\n",
       "    </tr>\n",
       "    <tr>\n",
       "      <th>4</th>\n",
       "      <td>0.5</td>\n",
       "      <td>575</td>\n",
       "      <td>2</td>\n",
       "      <td>8</td>\n",
       "      <td>251</td>\n",
       "      <td>0.988038</td>\n",
       "      <td>0.996534</td>\n",
       "      <td>0.969112</td>\n",
       "    </tr>\n",
       "  </tbody>\n",
       "</table>\n",
       "</div>"
      ],
      "text/plain": [
       "   threshold   tn  fp  fn   tp  accuracy  specificity  sensitivity\n",
       "0        0.1  524  53   0  259  0.936603     0.908146     1.000000\n",
       "1        0.2  543  34   0  259  0.959330     0.941075     1.000000\n",
       "2        0.3  564  13   0  259  0.984450     0.977470     1.000000\n",
       "3        0.4  572   5   3  256  0.990431     0.991334     0.988417\n",
       "4        0.5  575   2   8  251  0.988038     0.996534     0.969112"
      ]
     },
     "execution_count": 111,
     "metadata": {},
     "output_type": "execute_result"
    }
   ],
   "source": [
    "# adjusting threshold for classification\n",
    "tn = [None]*5\n",
    "fp = [None]*5\n",
    "fn = [None]*5\n",
    "tp = [None]*5\n",
    "acc_score = [None]*5\n",
    "specificity = [None]*5\n",
    "sensitivity = [None]*5\n",
    "\n",
    "for i in range(0,5):\n",
    "    test1 = (logreg.predict_proba(OH_X_valid)[:,1] >= (i+1)/10).astype(int)\n",
    "    cm1 = confusion_matrix(y_valid, test1)\n",
    "    tn[i] = cm1[0][0]\n",
    "    fp[i] = cm1[0][1]\n",
    "    fn[i] = cm1[1][0]\n",
    "    tp[i] = cm1[1][1]\n",
    "    acc_score[i] = accuracy_score(y_valid, test1)\n",
    "    specificity[i] = tn[i] / (tn[i] + fp[i]) # tell the true negative rate\n",
    "    sensitivity[i] = tp[i] / float(tp[i] + fn[i])\n",
    "    \n",
    "data_temp = pd.DataFrame(\n",
    "    {'threshold': [0.1, 0.2, 0.3, 0.4, 0.5],\n",
    "        'tn': tn,\n",
    "        'fp': fp,\n",
    "        'fn': fn,\n",
    "        'tp': tp,\n",
    "        'accuracy': acc_score,\n",
    "        'specificity': specificity,\n",
    "        'sensitivity': sensitivity\n",
    "    })\n",
    "\n",
    "data_temp\n",
    "    \n",
    " "
   ]
  },
  {
   "cell_type": "markdown",
   "metadata": {},
   "source": [
    "- The default threshold is 0.5 and by adjusting it, the sensitivity and specificity will change\n",
    "- Sensitivity and specificity have an inverse relationship\n",
    "- From the table, we can see increasing threshold increase the accuracy, but accuracy decreases slightly from 0.4 to 0.5"
   ]
  },
  {
   "cell_type": "markdown",
   "metadata": {},
   "source": [
    "## 8. ROC - AUC\n",
    "1. Stands for receiver operating characteristic curve. It shows the performance of classification model at various classification threshold levels. "
   ]
  },
  {
   "cell_type": "code",
   "execution_count": 91,
   "metadata": {},
   "outputs": [
    {
     "data": {
      "image/png": "[encoded data removed]",
      "text/plain": [
       "<Figure size 640x480 with 1 Axes>"
      ]
     },
     "metadata": {},
     "output_type": "display_data"
    },
    {
     "data": {
      "text/plain": [
       "<Figure size 640x480 with 0 Axes>"
      ]
     },
     "metadata": {},
     "output_type": "display_data"
    }
   ],
   "source": [
    "from sklearn.metrics import roc_auc_score\n",
    "from sklearn.metrics import roc_curve\n",
    "logit_roc_auc = roc_auc_score(y_valid, logreg.predict(OH_X_valid))\n",
    "fpr, tpr, thresholds = roc_curve(y_valid, logreg.predict_proba(OH_X_valid)[:,1])\n",
    "plt.figure()\n",
    "plt.plot(fpr, tpr, label='Logistic Regression (area = %0.2f)' % logit_roc_auc)\n",
    "plt.plot([0, 1], [0, 1],'r--')\n",
    "plt.xlim([0.0, 1.0])\n",
    "plt.ylim([0.0, 1.05])\n",
    "plt.xlabel('False Positive Rate')\n",
    "plt.ylabel('True Positive Rate')\n",
    "plt.title('Receiver operating characteristic')\n",
    "plt.legend(loc=\"lower right\")\n",
    "plt.show()\n",
    "\n",
    "plt.savefig('images/Log_ROC.png')"
   ]
  },
  {
   "cell_type": "code",
   "execution_count": 157,
   "metadata": {},
   "outputs": [
    {
     "name": "stdout",
     "output_type": "stream",
     "text": [
      "ROC AUC : 0.9997\n"
     ]
    }
   ],
   "source": [
    "from sklearn.metrics import roc_auc_score\n",
    "\n",
    "ROC_AUC = roc_auc_score(y_test, y_pred1)\n",
    "\n",
    "print('ROC AUC : {:.4f}'.format(ROC_AUC))"
   ]
  }
 ],
 "metadata": {
  "kernelspec": {
   "display_name": "Python 3",
   "language": "python",
   "name": "python3"
  },
  "language_info": {
   "codemirror_mode": {
    "name": "ipython",
    "version": 3
   },
   "file_extension": ".py",
   "mimetype": "text/x-python",
   "name": "python",
   "nbconvert_exporter": "python",
   "pygments_lexer": "ipython3",
   "version": "3.11.4"
  },
  "orig_nbformat": 4
 },
 "nbformat": 4,
 "nbformat_minor": 2
}
