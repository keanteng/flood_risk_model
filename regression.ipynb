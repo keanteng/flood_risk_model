{
 "cells": [
  {
   "cell_type": "markdown",
   "metadata": {},
   "source": [
    "# Flood Risk Modelling Using Logistic Regression\n",
    "\n",
    "### A. Assumptions\n",
    "- Response variable is binary\n",
    "- Independent variables have little or no multicollinearity\n",
    "- No extreme outliers\n",
    "- Linear relationship between predictor and log-odds of response variable\n",
    "- Large sample sizes\n",
    "\n",
    "### B. Workflow\n",
    "- Importing packages\n",
    "- Loading and cleaning the data\n",
    "- Exploratory data analysis\n",
    "- Model fitting\n",
    "- Model prediction\n",
    "- Model evaluation"
   ]
  },
  {
   "cell_type": "markdown",
   "metadata": {},
   "source": [
    "## 1. Importing Libraries"
   ]
  },
  {
   "cell_type": "code",
   "execution_count": 86,
   "metadata": {},
   "outputs": [],
   "source": [
    "# importing libraries\n",
    "import pandas as pd\n",
    "import matplotlib.pyplot as plt\n",
    "from sklearn.linear_model import LogisticRegression\n",
    "from sklearn.model_selection import train_test_split\n",
    "import seaborn as sns\n",
    "from sklearn.preprocessing import OneHotEncoder"
   ]
  },
  {
   "cell_type": "markdown",
   "metadata": {},
   "source": [
    "## 2. Loading Data"
   ]
  },
  {
   "cell_type": "code",
   "execution_count": 123,
   "metadata": {},
   "outputs": [
    {
     "data": {
      "text/html": [
       "<div>\n",
       "<style scoped>\n",
       "    .dataframe tbody tr th:only-of-type {\n",
       "        vertical-align: middle;\n",
       "    }\n",
       "\n",
       "    .dataframe tbody tr th {\n",
       "        vertical-align: top;\n",
       "    }\n",
       "\n",
       "    .dataframe thead th {\n",
       "        text-align: right;\n",
       "    }\n",
       "</style>\n",
       "<table border=\"1\" class=\"dataframe\">\n",
       "  <thead>\n",
       "    <tr style=\"text-align: right;\">\n",
       "      <th></th>\n",
       "      <th>distance</th>\n",
       "      <th>city</th>\n",
       "      <th>state</th>\n",
       "      <th>zip</th>\n",
       "      <th>flood_risk</th>\n",
       "    </tr>\n",
       "  </thead>\n",
       "  <tbody>\n",
       "    <tr>\n",
       "      <th>0</th>\n",
       "      <td>0.000000</td>\n",
       "      <td>Kuala Lumpur</td>\n",
       "      <td>Kuala Lumpur</td>\n",
       "      <td>50050</td>\n",
       "      <td>1</td>\n",
       "    </tr>\n",
       "    <tr>\n",
       "      <th>1</th>\n",
       "      <td>1267.271558</td>\n",
       "      <td>Johor Bahru</td>\n",
       "      <td>Johor</td>\n",
       "      <td>80400</td>\n",
       "      <td>0</td>\n",
       "    </tr>\n",
       "  </tbody>\n",
       "</table>\n",
       "</div>"
      ],
      "text/plain": [
       "      distance          city         state    zip  flood_risk\n",
       "0     0.000000  Kuala Lumpur  Kuala Lumpur  50050           1\n",
       "1  1267.271558   Johor Bahru         Johor  80400           0"
      ]
     },
     "execution_count": 123,
     "metadata": {},
     "output_type": "execute_result"
    }
   ],
   "source": [
    "# load data\n",
    "data = pd.read_csv('data/predictor.csv')\n",
    "data.head(2)"
   ]
  },
  {
   "cell_type": "markdown",
   "metadata": {},
   "source": [
    "## 3. EDA"
   ]
  },
  {
   "cell_type": "code",
   "execution_count": 88,
   "metadata": {},
   "outputs": [
    {
     "data": {
      "text/plain": [
       "flood_risk\n",
       "0    2887\n",
       "1    1292\n",
       "Name: count, dtype: int64"
      ]
     },
     "execution_count": 88,
     "metadata": {},
     "output_type": "execute_result"
    }
   ],
   "source": [
    "data['flood_risk'].value_counts()"
   ]
  },
  {
   "cell_type": "code",
   "execution_count": 89,
   "metadata": {},
   "outputs": [
    {
     "data": {
      "image/png": "[encoded data removed]",
      "text/plain": [
       "<Figure size 640x480 with 1 Axes>"
      ]
     },
     "metadata": {},
     "output_type": "display_data"
    }
   ],
   "source": [
    "sns.countplot(x = 'flood_risk', data = data, palette='hls')\n",
    "plt.show()"
   ]
  },
  {
   "cell_type": "code",
   "execution_count": 90,
   "metadata": {},
   "outputs": [
    {
     "name": "stdout",
     "output_type": "stream",
     "text": [
      "Percentage of non flood point: 69.08351280210576 %\n",
      "Percentage of flood point: 30.91648719789423 %\n"
     ]
    }
   ],
   "source": [
    "total = data['flood_risk'].value_counts()[0] + data['flood_risk'].value_counts()[1]\n",
    "n1 = data['flood_risk'].value_counts()[0]\n",
    "n2 = data['flood_risk'].value_counts()[1]\n",
    "r1 = n1/total*100\n",
    "r2 = n2/total*100\n",
    "\n",
    "print(\"Percentage of non flood point: {} %\".format(r1))\n",
    "print(\"Percentage of flood point: {} %\".format(r2))"
   ]
  },
  {
   "cell_type": "markdown",
   "metadata": {},
   "source": [
    "## 4. Data Cleaning"
   ]
  },
  {
   "cell_type": "code",
   "execution_count": 124,
   "metadata": {},
   "outputs": [
    {
     "name": "stdout",
     "output_type": "stream",
     "text": [
      "['Kuala Lumpur' 'Johor Bahru' 'Muar' 'Puchong' 'Petaling Jaya' 'Klang'\n",
      " 'Subang Jaya' 'Cheras' 'Butterworth' 'Batu Caves' 'Seri Kembangan' 'Ipoh'\n",
      " 'Tasek Gelugor' 'Kuching' 'Kajang' 'Kota Kinabalu' 'Kuantan' 'Seremban'\n",
      " 'Kuala Terengganu' 'Ampang' 'Kapit' 'Taman Peringgit Jaya' 'Miri'\n",
      " 'Sepang' 'Kulai' 'Padang Lalang' 'Bandar Baru Bangi' 'Png' 'Alor Setar'\n",
      " 'Sandakan' 'Bukit Mertajam' 'Mlk' 'Melaka' 'Shah Alam' 'Lumut'\n",
      " 'Sungai Petani' 'Labis' 'Pangkor' 'Kuala Lipis' 'Kluang'\n",
      " 'Wilayah Persekutuan' 'Port Dickson' 'Beaufort' 'Segamat' 'Kemaman'\n",
      " 'Cukai' 'Ulu Tiram' 'Kulim' 'Georgetown' 'Skudai' 'Taiping' 'Bentong'\n",
      " 'Bandar Melaka' 'Limbang' 'Perai' 'Jalan Kuching' 'Bayan Lepas'\n",
      " 'Kota Bharu' 'Jalan Selat' 'Parit Buntar' 'Medan Mutiara' 'Penang'\n",
      " 'Selayang Baru' 'Tapah' 'Kuala Kangsar' 'Sibu' 'Sungai Buloh' 'W'\n",
      " 'Kota Tinggi' 'Temerloh' 'Teluk Intan' 'Lintang Angsana'\n",
      " 'Jalan Hang Tuah' 'Kubang Semang' 'Jalan Pauh Indah' 'Kepala Batas'\n",
      " 'Pahang' 'Persiaran Janggus' 'Langkawi' 'Malaysia' 'Papar' 'Kerteh'\n",
      " 'Jitra' 'Mentakab' 'Jalan Bandar Hilir' 'Senai' 'Kampung Valdor'\n",
      " 'Port Klang' 'Wangsa Maju' 'Tawau' 'Penaga' 'Kampung Besar' 'Lunas'\n",
      " 'Mersing' 'Petaling' 'Jalan Sungai Rambai' 'Prk']\n",
      "['Kuala Lumpur' 'Johor' 'Selangor' 'Penang' 'Perak' 'Sarawak' 'Sabah'\n",
      " 'Pahang' 'Negeri Sembilan' 'Terengganu' 'Melaka' 'Kedah' 'Kelantan'\n",
      " 'Labuan']\n"
     ]
    }
   ],
   "source": [
    "# check for unique values in city and state columns\n",
    "print(data['city'].unique())\n",
    "print(data['state'].unique())"
   ]
  },
  {
   "cell_type": "markdown",
   "metadata": {},
   "source": [
    "We can see that is the state column, some states are repeated. Also, some regions are being labelled as state. \n",
    "We will drop the city column but cleaned up the state column."
   ]
  },
  {
   "cell_type": "code",
   "execution_count": 125,
   "metadata": {},
   "outputs": [
    {
     "data": {
      "text/plain": [
       "array(['Kuala Lumpur', 'Johor Bahru', 'Muar', 'Puchong', 'Petaling Jaya',\n",
       "       'Klang', 'Subang Jaya', 'Cheras', 'Butterworth', 'Batu Caves',\n",
       "       'Seri Kembangan', 'Ipoh', 'Tasek Gelugor', 'Kuching', 'Kajang',\n",
       "       'Kota Kinabalu', 'Kuantan', 'Seremban', 'Kuala Terengganu',\n",
       "       'Ampang', 'Kapit', 'Taman Peringgit Jaya', 'Miri', 'Sepang',\n",
       "       'Kulai', 'Padang Lalang', 'Bandar Baru Bangi', 'Png', 'Alor Setar',\n",
       "       'Sandakan', 'Bukit Mertajam', 'Mlk', 'Melaka', 'Shah Alam',\n",
       "       'Lumut', 'Sungai Petani', 'Labis', 'Pangkor', 'Kuala Lipis',\n",
       "       'Kluang', 'Wilayah Persekutuan', 'Port Dickson', 'Beaufort',\n",
       "       'Segamat', 'Kemaman', 'Cukai', 'Ulu Tiram', 'Kulim', 'Georgetown',\n",
       "       'Skudai', 'Taiping', 'Bentong', 'Bandar Melaka', 'Limbang',\n",
       "       'Perai', 'Jalan Kuching', 'Bayan Lepas', 'Kota Bharu',\n",
       "       'Jalan Selat', 'Parit Buntar', 'Medan Mutiara', 'Penang',\n",
       "       'Selayang Baru', 'Tapah', 'Kuala Kangsar', 'Sibu', 'Sungai Buloh',\n",
       "       'W', 'Kota Tinggi', 'Temerloh', 'Teluk Intan', 'Lintang Angsana',\n",
       "       'Jalan Hang Tuah', 'Kubang Semang', 'Jalan Pauh Indah',\n",
       "       'Kepala Batas', 'Pahang', 'Persiaran Janggus', 'Langkawi',\n",
       "       'Malaysia', 'Papar', 'Kerteh', 'Jitra', 'Mentakab',\n",
       "       'Jalan Bandar Hilir', 'Senai', 'Kampung Valdor', 'Port Klang',\n",
       "       'Wangsa Maju', 'Tawau', 'Penaga', 'Kampung Besar', 'Lunas',\n",
       "       'Mersing', 'Petaling', 'Jalan Sungai Rambai', 'Prk'], dtype=object)"
      ]
     },
     "execution_count": 125,
     "metadata": {},
     "output_type": "execute_result"
    }
   ],
   "source": [
    "# remove the 'City: ' from the city column\n",
    "# this is due to some error in the data collection process\n",
    "new1 = [None]*len(data)\n",
    "for i in range(0, len(data)):\n",
    "    new1[i] = data['city'][i].replace('City:  ', '')\n",
    "    \n",
    "data['city'] = new1\n",
    "data['city'].unique()"
   ]
  },
  {
   "cell_type": "code",
   "execution_count": 93,
   "metadata": {},
   "outputs": [
    {
     "name": "stdout",
     "output_type": "stream",
     "text": [
      "['Kuala Lumpur' 'Johor' 'Selangor' 'Penang' 'Perak' 'Sarawak' 'Sabah'\n",
      " 'Pahang' 'Negeri Sembilan' 'Terengganu' 'Melaka' 'Kedah' 'Kelantan'\n",
      " 'Labuan']\n"
     ]
    }
   ],
   "source": [
    "# renaming certain states in the state column\n",
    "def replaceString(string1, string2, data, length):\n",
    "    new = [None]*len(data)\n",
    "    for i in range(0, len(data)):\n",
    "        new[i] = data['state'][i].replace(string1, string2)\n",
    "    data['state'] = new\n",
    "    return data\n",
    "\n",
    "replaceString(\"Seberang Perai Utara\", \"Penang\",data, len(data))\n",
    "replaceString('Bukit Mertajam Penang', 'Penang',data, len(data))\n",
    "replaceString('Malacca', 'Melaka',data, len(data))\n",
    "replaceString('Peringgit Jaya', 'Melaka',data, len(data))\n",
    "replaceString('Wilayah Persekutuan', 'Kuala Lumpur',data, len(data))\n",
    "replaceString('Persekutuan', 'Kuala Lumpur',data, len(data))\n",
    "replaceString('Taman Tunku', 'Kuala Lumpur',data, len(data))\n",
    "replaceString('Taman Selat', 'Penang',data, len(data))\n",
    "replaceString('Sungai Nibong', 'Penang',data, len(data))\n",
    "replaceString('Bandar Baru', 'Selangor',data, len(data))\n",
    "replaceString('Bandar Melaka Malacca', 'Melaka',data, len(data))\n",
    "replaceString('Bandar Melaka Melaka', 'Melaka',data, len(data))\n",
    "replaceString('Taman Pauh Indah', 'Penang',data, len(data))\n",
    "replaceString('Taman Mutiara Penang', 'Penang',data, len(data))\n",
    "replaceString('Bandar Hilir', 'Melaka',data, len(data))\n",
    "replaceString('Sungai Bakap', 'Penang',data, len(data))\n",
    "replaceString('Taiping', 'Perak',data, len(data))\n",
    "replaceString('Selangor Darul Ehsan', 'Selangor',data, len(data))\n",
    "replaceString('Berapit', 'Penang',data, len(data))\n",
    "replaceString('Bukit Mertajam', 'Penang',data, len(data))\n",
    "replaceString('Pulau Pinang', 'Penang',data, len(data))\n",
    "replaceString('Malaysia', 'Pahang',data, len(data))\n",
    "replaceString('Johor Bahru', 'Johor',data, len(data))\n",
    "\n",
    "print(data['state'].unique())\n"
   ]
  },
  {
   "cell_type": "code",
   "execution_count": 126,
   "metadata": {},
   "outputs": [
    {
     "data": {
      "text/plain": [
       "state\n",
       "Kuala Lumpur       1312\n",
       "Selangor           1119\n",
       "Johor               690\n",
       "Perak               410\n",
       "Sarawak             194\n",
       "Negeri Sembilan     127\n",
       "Penang              116\n",
       "Pahang               49\n",
       "Melaka               41\n",
       "Kedah                38\n",
       "Sabah                33\n",
       "Terengganu           29\n",
       "Kelantan             19\n",
       "Labuan                2\n",
       "Name: count, dtype: int64"
      ]
     },
     "execution_count": 126,
     "metadata": {},
     "output_type": "execute_result"
    }
   ],
   "source": [
    "data['state'].value_counts()"
   ]
  },
  {
   "cell_type": "code",
   "execution_count": 94,
   "metadata": {},
   "outputs": [],
   "source": [
    "data.to_csv('data/predictor.csv', index=False)"
   ]
  },
  {
   "cell_type": "markdown",
   "metadata": {},
   "source": [
    "We are now left with only 14 states (no data from the state of Perlis)"
   ]
  },
  {
   "cell_type": "markdown",
   "metadata": {},
   "source": [
    "## 5. Model Fitting\n",
    "We will perform a train-test split on our data set. The model used require more than one column of independent variable.\n",
    "Thus, we apply one hot encoding to the state data. "
   ]
  },
  {
   "cell_type": "code",
   "execution_count": 95,
   "metadata": {},
   "outputs": [
    {
     "data": {
      "text/plain": [
       "((3343, 2), (836, 2), (3343,), (836,))"
      ]
     },
     "execution_count": 95,
     "metadata": {},
     "output_type": "execute_result"
    }
   ],
   "source": [
    "# train test split\n",
    "X = data[['distance','state']]\n",
    "\n",
    "y = data['flood_risk']\n",
    "\n",
    "X_train, X_valid, y_train, y_valid = train_test_split(X, y, test_size = 0.2, random_state = 0)\n",
    "\n",
    "X_train.shape, X_valid.shape, y_train.shape, y_valid.shape"
   ]
  },
  {
   "cell_type": "code",
   "execution_count": 96,
   "metadata": {},
   "outputs": [],
   "source": [
    "# Apply one-hot encoder to each column with categorical data\n",
    "OH_encoder = OneHotEncoder(handle_unknown='ignore', sparse_output=False) # ori: spare = False\n",
    "\n",
    "# Get list of categorical variables\n",
    "s = (X_train.dtypes == 'object')\n",
    "object_cols = list(s[s].index)\n",
    "\n",
    "OH_cols_train = pd.DataFrame(OH_encoder.fit_transform(X_train[object_cols]))\n",
    "OH_cols_valid = pd.DataFrame(OH_encoder.transform(X_valid[object_cols]))\n",
    "\n",
    "# One-hot encoding removed index; put it back\n",
    "OH_cols_train.index = X_train.index\n",
    "OH_cols_valid.index = X_valid.index\n",
    "\n",
    "# Remove categorical columns (will replace with one-hot encoding)\n",
    "num_X_train = X_train.drop(object_cols, axis=1)\n",
    "num_X_valid = X_valid.drop(object_cols, axis=1)\n",
    "\n",
    "# Add one-hot encoded columns to numerical features\n",
    "OH_X_train = pd.concat([num_X_train, OH_cols_train], axis=1)\n",
    "OH_X_valid = pd.concat([num_X_valid, OH_cols_valid], axis=1)"
   ]
  },
  {
   "cell_type": "code",
   "execution_count": 97,
   "metadata": {},
   "outputs": [
    {
     "data": {
      "text/html": [
       "<div>\n",
       "<style scoped>\n",
       "    .dataframe tbody tr th:only-of-type {\n",
       "        vertical-align: middle;\n",
       "    }\n",
       "\n",
       "    .dataframe tbody tr th {\n",
       "        vertical-align: top;\n",
       "    }\n",
       "\n",
       "    .dataframe thead th {\n",
       "        text-align: right;\n",
       "    }\n",
       "</style>\n",
       "<table border=\"1\" class=\"dataframe\">\n",
       "  <thead>\n",
       "    <tr style=\"text-align: right;\">\n",
       "      <th></th>\n",
       "      <th>distance</th>\n",
       "      <th>Kuala Lumpur</th>\n",
       "      <th>Johor</th>\n",
       "      <th>Selangor</th>\n",
       "      <th>Penang</th>\n",
       "      <th>Perak</th>\n",
       "      <th>Sarawak</th>\n",
       "      <th>Sabah</th>\n",
       "      <th>Pahang</th>\n",
       "      <th>Negeri Sembilan</th>\n",
       "      <th>Terengganu</th>\n",
       "      <th>Melaka</th>\n",
       "      <th>Kedah</th>\n",
       "      <th>Kelantan</th>\n",
       "      <th>Labuan</th>\n",
       "    </tr>\n",
       "  </thead>\n",
       "  <tbody>\n",
       "    <tr>\n",
       "      <th>1515</th>\n",
       "      <td>406.429619</td>\n",
       "      <td>0.0</td>\n",
       "      <td>0.0</td>\n",
       "      <td>0.0</td>\n",
       "      <td>0.0</td>\n",
       "      <td>0.0</td>\n",
       "      <td>0.0</td>\n",
       "      <td>0.0</td>\n",
       "      <td>0.0</td>\n",
       "      <td>0.0</td>\n",
       "      <td>0.0</td>\n",
       "      <td>1.0</td>\n",
       "      <td>0.0</td>\n",
       "      <td>0.0</td>\n",
       "      <td>0.0</td>\n",
       "    </tr>\n",
       "    <tr>\n",
       "      <th>2433</th>\n",
       "      <td>1277.058713</td>\n",
       "      <td>0.0</td>\n",
       "      <td>0.0</td>\n",
       "      <td>0.0</td>\n",
       "      <td>1.0</td>\n",
       "      <td>0.0</td>\n",
       "      <td>0.0</td>\n",
       "      <td>0.0</td>\n",
       "      <td>0.0</td>\n",
       "      <td>0.0</td>\n",
       "      <td>0.0</td>\n",
       "      <td>0.0</td>\n",
       "      <td>0.0</td>\n",
       "      <td>0.0</td>\n",
       "      <td>0.0</td>\n",
       "    </tr>\n",
       "    <tr>\n",
       "      <th>2558</th>\n",
       "      <td>779.839293</td>\n",
       "      <td>0.0</td>\n",
       "      <td>0.0</td>\n",
       "      <td>0.0</td>\n",
       "      <td>1.0</td>\n",
       "      <td>0.0</td>\n",
       "      <td>0.0</td>\n",
       "      <td>0.0</td>\n",
       "      <td>0.0</td>\n",
       "      <td>0.0</td>\n",
       "      <td>0.0</td>\n",
       "      <td>0.0</td>\n",
       "      <td>0.0</td>\n",
       "      <td>0.0</td>\n",
       "      <td>0.0</td>\n",
       "    </tr>\n",
       "    <tr>\n",
       "      <th>3617</th>\n",
       "      <td>314.436809</td>\n",
       "      <td>0.0</td>\n",
       "      <td>0.0</td>\n",
       "      <td>0.0</td>\n",
       "      <td>0.0</td>\n",
       "      <td>0.0</td>\n",
       "      <td>0.0</td>\n",
       "      <td>1.0</td>\n",
       "      <td>0.0</td>\n",
       "      <td>0.0</td>\n",
       "      <td>0.0</td>\n",
       "      <td>0.0</td>\n",
       "      <td>0.0</td>\n",
       "      <td>0.0</td>\n",
       "      <td>0.0</td>\n",
       "    </tr>\n",
       "    <tr>\n",
       "      <th>1742</th>\n",
       "      <td>573.489954</td>\n",
       "      <td>0.0</td>\n",
       "      <td>0.0</td>\n",
       "      <td>0.0</td>\n",
       "      <td>1.0</td>\n",
       "      <td>0.0</td>\n",
       "      <td>0.0</td>\n",
       "      <td>0.0</td>\n",
       "      <td>0.0</td>\n",
       "      <td>0.0</td>\n",
       "      <td>0.0</td>\n",
       "      <td>0.0</td>\n",
       "      <td>0.0</td>\n",
       "      <td>0.0</td>\n",
       "      <td>0.0</td>\n",
       "    </tr>\n",
       "  </tbody>\n",
       "</table>\n",
       "</div>"
      ],
      "text/plain": [
       "         distance  Kuala Lumpur  Johor  Selangor  Penang  Perak  Sarawak  \\\n",
       "1515   406.429619           0.0    0.0       0.0     0.0    0.0      0.0   \n",
       "2433  1277.058713           0.0    0.0       0.0     1.0    0.0      0.0   \n",
       "2558   779.839293           0.0    0.0       0.0     1.0    0.0      0.0   \n",
       "3617   314.436809           0.0    0.0       0.0     0.0    0.0      0.0   \n",
       "1742   573.489954           0.0    0.0       0.0     1.0    0.0      0.0   \n",
       "\n",
       "      Sabah  Pahang  Negeri Sembilan  Terengganu  Melaka  Kedah  Kelantan  \\\n",
       "1515    0.0     0.0              0.0         0.0     1.0    0.0       0.0   \n",
       "2433    0.0     0.0              0.0         0.0     0.0    0.0       0.0   \n",
       "2558    0.0     0.0              0.0         0.0     0.0    0.0       0.0   \n",
       "3617    1.0     0.0              0.0         0.0     0.0    0.0       0.0   \n",
       "1742    0.0     0.0              0.0         0.0     0.0    0.0       0.0   \n",
       "\n",
       "      Labuan  \n",
       "1515     0.0  \n",
       "2433     0.0  \n",
       "2558     0.0  \n",
       "3617     0.0  \n",
       "1742     0.0  "
      ]
     },
     "execution_count": 97,
     "metadata": {},
     "output_type": "execute_result"
    }
   ],
   "source": [
    "# one hot encoding will rename column as number, we will rename back to original name\n",
    "OH_X_train.columns = ['distance', 'Kuala Lumpur', 'Johor', 'Selangor', 'Penang', 'Perak', 'Sarawak', 'Sabah',\n",
    " 'Pahang', 'Negeri Sembilan', 'Terengganu', 'Melaka', 'Kedah', 'Kelantan',\n",
    " 'Labuan']\n",
    "\n",
    "OH_X_train.head()"
   ]
  },
  {
   "cell_type": "code",
   "execution_count": 98,
   "metadata": {},
   "outputs": [
    {
     "data": {
      "text/html": [
       "<div>\n",
       "<style scoped>\n",
       "    .dataframe tbody tr th:only-of-type {\n",
       "        vertical-align: middle;\n",
       "    }\n",
       "\n",
       "    .dataframe tbody tr th {\n",
       "        vertical-align: top;\n",
       "    }\n",
       "\n",
       "    .dataframe thead th {\n",
       "        text-align: right;\n",
       "    }\n",
       "</style>\n",
       "<table border=\"1\" class=\"dataframe\">\n",
       "  <thead>\n",
       "    <tr style=\"text-align: right;\">\n",
       "      <th></th>\n",
       "      <th>distance</th>\n",
       "      <th>Kuala Lumpur</th>\n",
       "      <th>Johor</th>\n",
       "      <th>Selangor</th>\n",
       "      <th>Penang</th>\n",
       "      <th>Perak</th>\n",
       "      <th>Sarawak</th>\n",
       "      <th>Sabah</th>\n",
       "      <th>Pahang</th>\n",
       "      <th>Negeri Sembilan</th>\n",
       "      <th>Terengganu</th>\n",
       "      <th>Melaka</th>\n",
       "      <th>Kedah</th>\n",
       "      <th>Kelantan</th>\n",
       "      <th>Labuan</th>\n",
       "    </tr>\n",
       "  </thead>\n",
       "  <tbody>\n",
       "    <tr>\n",
       "      <th>3004</th>\n",
       "      <td>217.281156</td>\n",
       "      <td>0.0</td>\n",
       "      <td>0.0</td>\n",
       "      <td>0.0</td>\n",
       "      <td>1.0</td>\n",
       "      <td>0.0</td>\n",
       "      <td>0.0</td>\n",
       "      <td>0.0</td>\n",
       "      <td>0.0</td>\n",
       "      <td>0.0</td>\n",
       "      <td>0.0</td>\n",
       "      <td>0.0</td>\n",
       "      <td>0.0</td>\n",
       "      <td>0.0</td>\n",
       "      <td>0.0</td>\n",
       "    </tr>\n",
       "    <tr>\n",
       "      <th>888</th>\n",
       "      <td>244.799012</td>\n",
       "      <td>1.0</td>\n",
       "      <td>0.0</td>\n",
       "      <td>0.0</td>\n",
       "      <td>0.0</td>\n",
       "      <td>0.0</td>\n",
       "      <td>0.0</td>\n",
       "      <td>0.0</td>\n",
       "      <td>0.0</td>\n",
       "      <td>0.0</td>\n",
       "      <td>0.0</td>\n",
       "      <td>0.0</td>\n",
       "      <td>0.0</td>\n",
       "      <td>0.0</td>\n",
       "      <td>0.0</td>\n",
       "    </tr>\n",
       "    <tr>\n",
       "      <th>2717</th>\n",
       "      <td>254.861137</td>\n",
       "      <td>0.0</td>\n",
       "      <td>0.0</td>\n",
       "      <td>0.0</td>\n",
       "      <td>0.0</td>\n",
       "      <td>0.0</td>\n",
       "      <td>0.0</td>\n",
       "      <td>1.0</td>\n",
       "      <td>0.0</td>\n",
       "      <td>0.0</td>\n",
       "      <td>0.0</td>\n",
       "      <td>0.0</td>\n",
       "      <td>0.0</td>\n",
       "      <td>0.0</td>\n",
       "      <td>0.0</td>\n",
       "    </tr>\n",
       "    <tr>\n",
       "      <th>3016</th>\n",
       "      <td>36.470273</td>\n",
       "      <td>0.0</td>\n",
       "      <td>0.0</td>\n",
       "      <td>0.0</td>\n",
       "      <td>1.0</td>\n",
       "      <td>0.0</td>\n",
       "      <td>0.0</td>\n",
       "      <td>0.0</td>\n",
       "      <td>0.0</td>\n",
       "      <td>0.0</td>\n",
       "      <td>0.0</td>\n",
       "      <td>0.0</td>\n",
       "      <td>0.0</td>\n",
       "      <td>0.0</td>\n",
       "      <td>0.0</td>\n",
       "    </tr>\n",
       "    <tr>\n",
       "      <th>2432</th>\n",
       "      <td>1271.408095</td>\n",
       "      <td>0.0</td>\n",
       "      <td>0.0</td>\n",
       "      <td>0.0</td>\n",
       "      <td>0.0</td>\n",
       "      <td>0.0</td>\n",
       "      <td>0.0</td>\n",
       "      <td>0.0</td>\n",
       "      <td>0.0</td>\n",
       "      <td>0.0</td>\n",
       "      <td>0.0</td>\n",
       "      <td>0.0</td>\n",
       "      <td>0.0</td>\n",
       "      <td>1.0</td>\n",
       "      <td>0.0</td>\n",
       "    </tr>\n",
       "  </tbody>\n",
       "</table>\n",
       "</div>"
      ],
      "text/plain": [
       "         distance  Kuala Lumpur  Johor  Selangor  Penang  Perak  Sarawak  \\\n",
       "3004   217.281156           0.0    0.0       0.0     1.0    0.0      0.0   \n",
       "888    244.799012           1.0    0.0       0.0     0.0    0.0      0.0   \n",
       "2717   254.861137           0.0    0.0       0.0     0.0    0.0      0.0   \n",
       "3016    36.470273           0.0    0.0       0.0     1.0    0.0      0.0   \n",
       "2432  1271.408095           0.0    0.0       0.0     0.0    0.0      0.0   \n",
       "\n",
       "      Sabah  Pahang  Negeri Sembilan  Terengganu  Melaka  Kedah  Kelantan  \\\n",
       "3004    0.0     0.0              0.0         0.0     0.0    0.0       0.0   \n",
       "888     0.0     0.0              0.0         0.0     0.0    0.0       0.0   \n",
       "2717    1.0     0.0              0.0         0.0     0.0    0.0       0.0   \n",
       "3016    0.0     0.0              0.0         0.0     0.0    0.0       0.0   \n",
       "2432    0.0     0.0              0.0         0.0     0.0    0.0       1.0   \n",
       "\n",
       "      Labuan  \n",
       "3004     0.0  \n",
       "888      0.0  \n",
       "2717     0.0  \n",
       "3016     0.0  \n",
       "2432     0.0  "
      ]
     },
     "execution_count": 98,
     "metadata": {},
     "output_type": "execute_result"
    }
   ],
   "source": [
    "OH_X_valid.columns = ['distance', 'Kuala Lumpur', 'Johor', 'Selangor', 'Penang', 'Perak', 'Sarawak', 'Sabah',\n",
    " 'Pahang', 'Negeri Sembilan', 'Terengganu', 'Melaka', 'Kedah', 'Kelantan',\n",
    " 'Labuan']\n",
    "\n",
    "OH_X_valid.head()"
   ]
  },
  {
   "cell_type": "code",
   "execution_count": 99,
   "metadata": {},
   "outputs": [
    {
     "name": "stdout",
     "output_type": "stream",
     "text": [
      "<class 'pandas.core.frame.DataFrame'>\n",
      "Index: 836 entries, 3004 to 3172\n",
      "Data columns (total 15 columns):\n",
      " #   Column           Non-Null Count  Dtype  \n",
      "---  ------           --------------  -----  \n",
      " 0   distance         836 non-null    float64\n",
      " 1   Kuala Lumpur     836 non-null    float64\n",
      " 2   Johor            836 non-null    float64\n",
      " 3   Selangor         836 non-null    float64\n",
      " 4   Penang           836 non-null    float64\n",
      " 5   Perak            836 non-null    float64\n",
      " 6   Sarawak          836 non-null    float64\n",
      " 7   Sabah            836 non-null    float64\n",
      " 8   Pahang           836 non-null    float64\n",
      " 9   Negeri Sembilan  836 non-null    float64\n",
      " 10  Terengganu       836 non-null    float64\n",
      " 11  Melaka           836 non-null    float64\n",
      " 12  Kedah            836 non-null    float64\n",
      " 13  Kelantan         836 non-null    float64\n",
      " 14  Labuan           836 non-null    float64\n",
      "dtypes: float64(15)\n",
      "memory usage: 104.5 KB\n"
     ]
    }
   ],
   "source": [
    "# get some information about the data that will use for fitting the model\n",
    "OH_X_valid.info()"
   ]
  },
  {
   "cell_type": "code",
   "execution_count": 100,
   "metadata": {},
   "outputs": [
    {
     "data": {
      "text/html": [
       "<style>#sk-container-id-5 {color: black;}#sk-container-id-5 pre{padding: 0;}#sk-container-id-5 div.sk-toggleable {background-color: white;}#sk-container-id-5 label.sk-toggleable__label {cursor: pointer;display: block;width: 100%;margin-bottom: 0;padding: 0.3em;box-sizing: border-box;text-align: center;}#sk-container-id-5 label.sk-toggleable__label-arrow:before {content: \"▸\";float: left;margin-right: 0.25em;color: #696969;}#sk-container-id-5 label.sk-toggleable__label-arrow:hover:before {color: black;}#sk-container-id-5 div.sk-estimator:hover label.sk-toggleable__label-arrow:before {color: black;}#sk-container-id-5 div.sk-toggleable__content {max-height: 0;max-width: 0;overflow: hidden;text-align: left;background-color: #f0f8ff;}#sk-container-id-5 div.sk-toggleable__content pre {margin: 0.2em;color: black;border-radius: 0.25em;background-color: #f0f8ff;}#sk-container-id-5 input.sk-toggleable__control:checked~div.sk-toggleable__content {max-height: 200px;max-width: 100%;overflow: auto;}#sk-container-id-5 input.sk-toggleable__control:checked~label.sk-toggleable__label-arrow:before {content: \"▾\";}#sk-container-id-5 div.sk-estimator input.sk-toggleable__control:checked~label.sk-toggleable__label {background-color: #d4ebff;}#sk-container-id-5 div.sk-label input.sk-toggleable__control:checked~label.sk-toggleable__label {background-color: #d4ebff;}#sk-container-id-5 input.sk-hidden--visually {border: 0;clip: rect(1px 1px 1px 1px);clip: rect(1px, 1px, 1px, 1px);height: 1px;margin: -1px;overflow: hidden;padding: 0;position: absolute;width: 1px;}#sk-container-id-5 div.sk-estimator {font-family: monospace;background-color: #f0f8ff;border: 1px dotted black;border-radius: 0.25em;box-sizing: border-box;margin-bottom: 0.5em;}#sk-container-id-5 div.sk-estimator:hover {background-color: #d4ebff;}#sk-container-id-5 div.sk-parallel-item::after {content: \"\";width: 100%;border-bottom: 1px solid gray;flex-grow: 1;}#sk-container-id-5 div.sk-label:hover label.sk-toggleable__label {background-color: #d4ebff;}#sk-container-id-5 div.sk-serial::before {content: \"\";position: absolute;border-left: 1px solid gray;box-sizing: border-box;top: 0;bottom: 0;left: 50%;z-index: 0;}#sk-container-id-5 div.sk-serial {display: flex;flex-direction: column;align-items: center;background-color: white;padding-right: 0.2em;padding-left: 0.2em;position: relative;}#sk-container-id-5 div.sk-item {position: relative;z-index: 1;}#sk-container-id-5 div.sk-parallel {display: flex;align-items: stretch;justify-content: center;background-color: white;position: relative;}#sk-container-id-5 div.sk-item::before, #sk-container-id-5 div.sk-parallel-item::before {content: \"\";position: absolute;border-left: 1px solid gray;box-sizing: border-box;top: 0;bottom: 0;left: 50%;z-index: -1;}#sk-container-id-5 div.sk-parallel-item {display: flex;flex-direction: column;z-index: 1;position: relative;background-color: white;}#sk-container-id-5 div.sk-parallel-item:first-child::after {align-self: flex-end;width: 50%;}#sk-container-id-5 div.sk-parallel-item:last-child::after {align-self: flex-start;width: 50%;}#sk-container-id-5 div.sk-parallel-item:only-child::after {width: 0;}#sk-container-id-5 div.sk-dashed-wrapped {border: 1px dashed gray;margin: 0 0.4em 0.5em 0.4em;box-sizing: border-box;padding-bottom: 0.4em;background-color: white;}#sk-container-id-5 div.sk-label label {font-family: monospace;font-weight: bold;display: inline-block;line-height: 1.2em;}#sk-container-id-5 div.sk-label-container {text-align: center;}#sk-container-id-5 div.sk-container {/* jupyter's `normalize.less` sets `[hidden] { display: none; }` but bootstrap.min.css set `[hidden] { display: none !important; }` so we also need the `!important` here to be able to override the default hidden behavior on the sphinx rendered scikit-learn.org. See: https://github.com/scikit-learn/scikit-learn/issues/21755 */display: inline-block !important;position: relative;}#sk-container-id-5 div.sk-text-repr-fallback {display: none;}</style><div id=\"sk-container-id-5\" class=\"sk-top-container\"><div class=\"sk-text-repr-fallback\"><pre>LogisticRegression(random_state=0, solver=&#x27;liblinear&#x27;)</pre><b>In a Jupyter environment, please rerun this cell to show the HTML representation or trust the notebook. <br />On GitHub, the HTML representation is unable to render, please try loading this page with nbviewer.org.</b></div><div class=\"sk-container\" hidden><div class=\"sk-item\"><div class=\"sk-estimator sk-toggleable\"><input class=\"sk-toggleable__control sk-hidden--visually\" id=\"sk-estimator-id-9\" type=\"checkbox\" checked><label for=\"sk-estimator-id-9\" class=\"sk-toggleable__label sk-toggleable__label-arrow\">LogisticRegression</label><div class=\"sk-toggleable__content\"><pre>LogisticRegression(random_state=0, solver=&#x27;liblinear&#x27;)</pre></div></div></div></div></div>"
      ],
      "text/plain": [
       "LogisticRegression(random_state=0, solver='liblinear')"
      ]
     },
     "execution_count": 100,
     "metadata": {},
     "output_type": "execute_result"
    }
   ],
   "source": [
    "# model training\n",
    "# instantiate the model, we will use liblinear since this is only a small dataset and other methods results in convergence issue\n",
    "logreg = LogisticRegression(solver='liblinear', random_state=0)\n",
    "\n",
    "# fit the model\n",
    "logreg.fit(OH_X_train, y_train)"
   ]
  },
  {
   "cell_type": "code",
   "execution_count": 101,
   "metadata": {},
   "outputs": [
    {
     "name": "stdout",
     "output_type": "stream",
     "text": [
      "Model coefficient:  [[-1.89407693e-02  4.77941620e-01  1.22460645e-01  1.37677540e-03\n",
      "   1.52185371e+00  5.30927351e-02  9.10748035e-01  5.44494671e-01\n",
      "   8.31631218e-01  6.50728294e-01  2.67305790e-01  1.99053696e-01\n",
      "   1.45960340e+00  1.12335137e+00  1.95290287e-02]]\n",
      "Model intercept:  [8.18317099]\n"
     ]
    }
   ],
   "source": [
    "# get model coefficient and intercept\n",
    "print(\"Model coefficient: \", logreg.coef_)\n",
    "print(\"Model intercept: \", logreg.intercept_)"
   ]
  },
  {
   "cell_type": "code",
   "execution_count": 102,
   "metadata": {},
   "outputs": [
    {
     "data": {
      "text/plain": [
       "array([1, 1, 1, 1, 0, 0, 0, 0, 1, 0], dtype=int64)"
      ]
     },
     "execution_count": 102,
     "metadata": {},
     "output_type": "execute_result"
    }
   ],
   "source": [
    "y_pred_test = logreg.predict(OH_X_valid)\n",
    "y_pred_test[0:10]"
   ]
  },
  {
   "cell_type": "code",
   "execution_count": 103,
   "metadata": {},
   "outputs": [
    {
     "data": {
      "text/plain": [
       "array([9.96277211e-01, 9.82440264e-01, 9.80167465e-01, 9.99878351e-01,\n",
       "       3.83117012e-07, 6.10648880e-04, 1.24659666e-03, 2.14462912e-05,\n",
       "       6.11527239e-01, 1.64776115e-01])"
      ]
     },
     "execution_count": 103,
     "metadata": {},
     "output_type": "execute_result"
    }
   ],
   "source": [
    "# flood probability\n",
    "logreg.predict_proba(OH_X_valid)[0:10,1]"
   ]
  },
  {
   "cell_type": "code",
   "execution_count": 104,
   "metadata": {},
   "outputs": [
    {
     "data": {
      "text/plain": [
       "array([9.96277211e-01, 9.82440264e-01, 9.80167465e-01, 9.99878351e-01,\n",
       "       3.83117012e-07, 6.10648880e-04, 1.24659666e-03, 2.14462912e-05,\n",
       "       6.11527239e-01, 1.64776115e-01])"
      ]
     },
     "execution_count": 104,
     "metadata": {},
     "output_type": "execute_result"
    }
   ],
   "source": [
    "# no flood probability\n",
    "logreg.predict_proba(OH_X_valid)[0:10,1]"
   ]
  },
  {
   "cell_type": "markdown",
   "metadata": {},
   "source": [
    "## 6. Model Evaluation"
   ]
  },
  {
   "cell_type": "code",
   "execution_count": 105,
   "metadata": {},
   "outputs": [
    {
     "name": "stdout",
     "output_type": "stream",
     "text": [
      "Model accuracy score: 0.9880\n"
     ]
    }
   ],
   "source": [
    "# model accuracy checking\n",
    "from sklearn.metrics import accuracy_score\n",
    "\n",
    "print('Model accuracy score: {0:0.4f}'. format(accuracy_score(y_valid, y_pred_test)))"
   ]
  },
  {
   "cell_type": "code",
   "execution_count": 106,
   "metadata": {},
   "outputs": [
    {
     "name": "stdout",
     "output_type": "stream",
     "text": [
      "Training-set accuracy score: 0.9928\n"
     ]
    }
   ],
   "source": [
    "# compare train and test set accuracy\n",
    "y_pred_train = logreg.predict(OH_X_train)\n",
    "print('Training-set accuracy score: {0:0.4f}'. format(accuracy_score(y_train, y_pred_train)))"
   ]
  },
  {
   "cell_type": "code",
   "execution_count": 107,
   "metadata": {},
   "outputs": [
    {
     "name": "stdout",
     "output_type": "stream",
     "text": [
      "Training set score: 0.9928\n",
      "Test set score: 0.9880\n"
     ]
    }
   ],
   "source": [
    "# print the scores on training and test set\n",
    "print('Training set score: {:.4f}'.format(logreg.score(OH_X_train, y_train)))\n",
    "print('Test set score: {:.4f}'.format(logreg.score(OH_X_valid, y_valid)))"
   ]
  },
  {
   "cell_type": "markdown",
   "metadata": {},
   "source": [
    "The training set and test set score are quite comparable so no question of overfitting. \n",
    "\n",
    "### Notes for interpretation:\n",
    "1. Training score: How the model fit in the training data. If model fits so well in a data with lots of variance -> overfitting. This will result in poor test score. The mode curved a lot to fit the training data and generalized very poorly\n",
    "2. Test score: Real life scenario. Higher the better.\n",
    "3. High training score and low test score is over-fitting, both low is under-fitting. \n",
    "    - Technical term: Low bias and high variance is over-fitting and high variance and high bias is under-fitting\n",
    "    - Under-fit model will have high training and high testing error; over-fit model will have very low training error but high testing error\n",
    "\n",
    "References\n",
    "- https://datascience.stackexchange.com/questions/70054/interpretation-for-test-score-training-score-and-validation-score-in-machine-l"
   ]
  },
  {
   "cell_type": "code",
   "execution_count": 108,
   "metadata": {},
   "outputs": [
    {
     "data": {
      "text/plain": [
       "flood_risk\n",
       "0    577\n",
       "1    259\n",
       "Name: count, dtype: int64"
      ]
     },
     "execution_count": 108,
     "metadata": {},
     "output_type": "execute_result"
    }
   ],
   "source": [
    "# check class distribution in test set\n",
    "y_valid.value_counts()"
   ]
  },
  {
   "cell_type": "code",
   "execution_count": 109,
   "metadata": {},
   "outputs": [
    {
     "data": {
      "text/plain": [
       "array([[575,   2],\n",
       "       [  8, 251]], dtype=int64)"
      ]
     },
     "execution_count": 109,
     "metadata": {},
     "output_type": "execute_result"
    }
   ],
   "source": [
    "# confusion matrix\n",
    "from sklearn.metrics import confusion_matrix, ConfusionMatrixDisplay\n",
    "\n",
    "cm = confusion_matrix(y_valid, y_pred_test)\n",
    "cm"
   ]
  },
  {
   "cell_type": "code",
   "execution_count": 110,
   "metadata": {},
   "outputs": [
    {
     "data": {
      "text/plain": [
       "<sklearn.metrics._plot.confusion_matrix.ConfusionMatrixDisplay at 0x2014d206750>"
      ]
     },
     "execution_count": 110,
     "metadata": {},
     "output_type": "execute_result"
    },
    {
     "data": {
      "image/png": "[encoded data removed]",
      "text/plain": [
       "<Figure size 640x480 with 2 Axes>"
      ]
     },
     "metadata": {},
     "output_type": "display_data"
    }
   ],
   "source": [
    "# visualize confusion matrix with seaborn heatmap\n",
    "disp = ConfusionMatrixDisplay(confusion_matrix=cm)\n",
    "disp.plot()"
   ]
  },
  {
   "cell_type": "code",
   "execution_count": 111,
   "metadata": {},
   "outputs": [
    {
     "name": "stdout",
     "output_type": "stream",
     "text": [
      "Accuracy:  0.9880382775119617\n",
      "Classification error : 0.0120\n",
      "Precision : 0.9921\n",
      "Recall or Sensitivity : 0.9691\n"
     ]
    }
   ],
   "source": [
    "tp = 251 # true positive\n",
    "tn = 575 # true negative\n",
    "fn = 8 # false negative\n",
    "fp = 2 # false positive\n",
    "\n",
    "accuracy = (tp + tn) / (tp + tn + fp + fn)\n",
    "print(\"Accuracy: \", accuracy)\n",
    "\n",
    "classification_error = (fp + fn) / float(tp + tn + fp + fn)\n",
    "print('Classification error : {0:0.4f}'.format(classification_error))\n",
    "\n",
    "precision = tp / float(tp + fp)\n",
    "print('Precision : {0:0.4f}'.format(precision))\n",
    "\n",
    "recall = tp / float(tp + fn)\n",
    "print('Recall or Sensitivity : {0:0.4f}'.format(recall))"
   ]
  },
  {
   "cell_type": "markdown",
   "metadata": {},
   "source": [
    "- Precision can be defined as the percentage of correctly predicted positive outcomes out of all the predicted positive outcomes. It can be given as the ratio of true positives (TP) to the sum of true and false positives (TP + FP). Precision identifies the proportion of correctly predicted positive outcome. It is more concerned with the positive class than the negative class.\n",
    "\n",
    "- Recall can be defined as the percentage of correctly predicted positive outcomes out of all the actual positive outcomes. It can be given as the ratio of true positives (TP) to the sum of true positives and false negatives (TP + FN). Recall is also called Sensitivity."
   ]
  },
  {
   "cell_type": "code",
   "execution_count": 112,
   "metadata": {},
   "outputs": [
    {
     "name": "stdout",
     "output_type": "stream",
     "text": [
      "              precision    recall  f1-score   support\n",
      "\n",
      "           0       0.99      1.00      0.99       577\n",
      "           1       0.99      0.97      0.98       259\n",
      "\n",
      "    accuracy                           0.99       836\n",
      "   macro avg       0.99      0.98      0.99       836\n",
      "weighted avg       0.99      0.99      0.99       836\n",
      "\n"
     ]
    }
   ],
   "source": [
    "from sklearn.metrics import classification_report\n",
    "print(classification_report(y_valid, y_pred_test))"
   ]
  },
  {
   "cell_type": "markdown",
   "metadata": {},
   "source": [
    "- `f1-score` is the weighted harmonic mean of precision and recall. The best possible f1-score would be 1.0 and the worst would be 0.0. `f1-score` is the harmonic mean of precision and recall. So, f1-score is always lower than accuracy measures as they embed precision and recall into their computation. The weighted average of f1-score should be used to compare classifier models, not global accuracy.\n",
    "\n",
    "- Support is the actual number of occurrences of the class in our dataset."
   ]
  },
  {
   "cell_type": "markdown",
   "metadata": {},
   "source": [
    "## 7. Adjusting threshold level"
   ]
  },
  {
   "cell_type": "code",
   "execution_count": 113,
   "metadata": {},
   "outputs": [
    {
     "data": {
      "text/plain": [
       "array([[3.72278883e-03, 9.96277211e-01],\n",
       "       [1.75597356e-02, 9.82440264e-01],\n",
       "       [1.98325348e-02, 9.80167465e-01],\n",
       "       [1.21648924e-04, 9.99878351e-01],\n",
       "       [9.99999617e-01, 3.83117012e-07],\n",
       "       [9.99389351e-01, 6.10648880e-04],\n",
       "       [9.98753403e-01, 1.24659666e-03],\n",
       "       [9.99978554e-01, 2.14462912e-05],\n",
       "       [3.88472761e-01, 6.11527239e-01],\n",
       "       [8.35223885e-01, 1.64776115e-01]])"
      ]
     },
     "execution_count": 113,
     "metadata": {},
     "output_type": "execute_result"
    }
   ],
   "source": [
    "# print first 10 predicted probabilities of 0 and 1 (two classes)\n",
    "y_pred_prob = logreg.predict_proba(OH_X_valid)[0:10]\n",
    "y_pred_prob"
   ]
  },
  {
   "cell_type": "code",
   "execution_count": 114,
   "metadata": {},
   "outputs": [
    {
     "data": {
      "text/html": [
       "<div>\n",
       "<style scoped>\n",
       "    .dataframe tbody tr th:only-of-type {\n",
       "        vertical-align: middle;\n",
       "    }\n",
       "\n",
       "    .dataframe tbody tr th {\n",
       "        vertical-align: top;\n",
       "    }\n",
       "\n",
       "    .dataframe thead th {\n",
       "        text-align: right;\n",
       "    }\n",
       "</style>\n",
       "<table border=\"1\" class=\"dataframe\">\n",
       "  <thead>\n",
       "    <tr style=\"text-align: right;\">\n",
       "      <th></th>\n",
       "      <th>Prob of - No Flood</th>\n",
       "      <th>Prob of - Flood</th>\n",
       "    </tr>\n",
       "  </thead>\n",
       "  <tbody>\n",
       "    <tr>\n",
       "      <th>0</th>\n",
       "      <td>0.003723</td>\n",
       "      <td>9.962772e-01</td>\n",
       "    </tr>\n",
       "    <tr>\n",
       "      <th>1</th>\n",
       "      <td>0.017560</td>\n",
       "      <td>9.824403e-01</td>\n",
       "    </tr>\n",
       "    <tr>\n",
       "      <th>2</th>\n",
       "      <td>0.019833</td>\n",
       "      <td>9.801675e-01</td>\n",
       "    </tr>\n",
       "    <tr>\n",
       "      <th>3</th>\n",
       "      <td>0.000122</td>\n",
       "      <td>9.998784e-01</td>\n",
       "    </tr>\n",
       "    <tr>\n",
       "      <th>4</th>\n",
       "      <td>1.000000</td>\n",
       "      <td>3.831170e-07</td>\n",
       "    </tr>\n",
       "    <tr>\n",
       "      <th>5</th>\n",
       "      <td>0.999389</td>\n",
       "      <td>6.106489e-04</td>\n",
       "    </tr>\n",
       "    <tr>\n",
       "      <th>6</th>\n",
       "      <td>0.998753</td>\n",
       "      <td>1.246597e-03</td>\n",
       "    </tr>\n",
       "    <tr>\n",
       "      <th>7</th>\n",
       "      <td>0.999979</td>\n",
       "      <td>2.144629e-05</td>\n",
       "    </tr>\n",
       "    <tr>\n",
       "      <th>8</th>\n",
       "      <td>0.388473</td>\n",
       "      <td>6.115272e-01</td>\n",
       "    </tr>\n",
       "    <tr>\n",
       "      <th>9</th>\n",
       "      <td>0.835224</td>\n",
       "      <td>1.647761e-01</td>\n",
       "    </tr>\n",
       "  </tbody>\n",
       "</table>\n",
       "</div>"
      ],
      "text/plain": [
       "   Prob of - No Flood  Prob of - Flood\n",
       "0            0.003723     9.962772e-01\n",
       "1            0.017560     9.824403e-01\n",
       "2            0.019833     9.801675e-01\n",
       "3            0.000122     9.998784e-01\n",
       "4            1.000000     3.831170e-07\n",
       "5            0.999389     6.106489e-04\n",
       "6            0.998753     1.246597e-03\n",
       "7            0.999979     2.144629e-05\n",
       "8            0.388473     6.115272e-01\n",
       "9            0.835224     1.647761e-01"
      ]
     },
     "execution_count": 114,
     "metadata": {},
     "output_type": "execute_result"
    }
   ],
   "source": [
    "y_pred_prob_df = pd.DataFrame(data=y_pred_prob, columns=['Prob of - No Flood', 'Prob of - Flood'])\n",
    "\n",
    "y_pred_prob_df"
   ]
  },
  {
   "cell_type": "code",
   "execution_count": 115,
   "metadata": {},
   "outputs": [
    {
     "data": {
      "text/plain": [
       "array([9.96277211e-01, 9.82440264e-01, 9.80167465e-01, 9.99878351e-01,\n",
       "       3.83117012e-07, 6.10648880e-04, 1.24659666e-03, 2.14462912e-05,\n",
       "       6.11527239e-01, 1.64776115e-01])"
      ]
     },
     "execution_count": 115,
     "metadata": {},
     "output_type": "execute_result"
    }
   ],
   "source": [
    "y_pred1 = logreg.predict_proba(OH_X_valid)[:, 1] # store probabilities of class 1\n",
    "\n",
    "logreg.predict_proba(OH_X_valid)[0:10, 1]"
   ]
  },
  {
   "cell_type": "code",
   "execution_count": 116,
   "metadata": {},
   "outputs": [
    {
     "data": {
      "image/png": "[encoded data removed]",
      "text/plain": [
       "<Figure size 640x480 with 1 Axes>"
      ]
     },
     "metadata": {},
     "output_type": "display_data"
    }
   ],
   "source": [
    "# plot histogram of predicted probabilities\n",
    "\n",
    "# adjust the font size \n",
    "plt.rcParams['font.size'] = 12\n",
    "\n",
    "# plot histogram with 10 bins\n",
    "plt.hist(y_pred1, bins = 10)\n",
    "\n",
    "# set the title of predicted probabilities\n",
    "plt.title('Histogram of predicted probabilities of flood')\n",
    "\n",
    "# set the x-axis limit\n",
    "plt.xlim(0,1)\n",
    "\n",
    "# set the title\n",
    "plt.xlabel('Predicted probabilities of flood')\n",
    "plt.ylabel('Frequency')\n",
    "\n",
    "plt.savefig('images/histogram_pred_prob.png')"
   ]
  },
  {
   "cell_type": "markdown",
   "metadata": {},
   "source": [
    "- The histogram skewed to the right and majority of the observations predict no flood risk. "
   ]
  },
  {
   "cell_type": "code",
   "execution_count": 117,
   "metadata": {},
   "outputs": [
    {
     "data": {
      "text/html": [
       "<div>\n",
       "<style scoped>\n",
       "    .dataframe tbody tr th:only-of-type {\n",
       "        vertical-align: middle;\n",
       "    }\n",
       "\n",
       "    .dataframe tbody tr th {\n",
       "        vertical-align: top;\n",
       "    }\n",
       "\n",
       "    .dataframe thead th {\n",
       "        text-align: right;\n",
       "    }\n",
       "</style>\n",
       "<table border=\"1\" class=\"dataframe\">\n",
       "  <thead>\n",
       "    <tr style=\"text-align: right;\">\n",
       "      <th></th>\n",
       "      <th>threshold</th>\n",
       "      <th>tn</th>\n",
       "      <th>fp</th>\n",
       "      <th>fn</th>\n",
       "      <th>tp</th>\n",
       "      <th>accuracy</th>\n",
       "      <th>specificity</th>\n",
       "      <th>sensitivity</th>\n",
       "    </tr>\n",
       "  </thead>\n",
       "  <tbody>\n",
       "    <tr>\n",
       "      <th>0</th>\n",
       "      <td>0.1</td>\n",
       "      <td>524</td>\n",
       "      <td>53</td>\n",
       "      <td>0</td>\n",
       "      <td>259</td>\n",
       "      <td>0.936603</td>\n",
       "      <td>0.908146</td>\n",
       "      <td>1.000000</td>\n",
       "    </tr>\n",
       "    <tr>\n",
       "      <th>1</th>\n",
       "      <td>0.2</td>\n",
       "      <td>543</td>\n",
       "      <td>34</td>\n",
       "      <td>0</td>\n",
       "      <td>259</td>\n",
       "      <td>0.959330</td>\n",
       "      <td>0.941075</td>\n",
       "      <td>1.000000</td>\n",
       "    </tr>\n",
       "    <tr>\n",
       "      <th>2</th>\n",
       "      <td>0.3</td>\n",
       "      <td>564</td>\n",
       "      <td>13</td>\n",
       "      <td>0</td>\n",
       "      <td>259</td>\n",
       "      <td>0.984450</td>\n",
       "      <td>0.977470</td>\n",
       "      <td>1.000000</td>\n",
       "    </tr>\n",
       "    <tr>\n",
       "      <th>3</th>\n",
       "      <td>0.4</td>\n",
       "      <td>572</td>\n",
       "      <td>5</td>\n",
       "      <td>3</td>\n",
       "      <td>256</td>\n",
       "      <td>0.990431</td>\n",
       "      <td>0.991334</td>\n",
       "      <td>0.988417</td>\n",
       "    </tr>\n",
       "    <tr>\n",
       "      <th>4</th>\n",
       "      <td>0.5</td>\n",
       "      <td>575</td>\n",
       "      <td>2</td>\n",
       "      <td>8</td>\n",
       "      <td>251</td>\n",
       "      <td>0.988038</td>\n",
       "      <td>0.996534</td>\n",
       "      <td>0.969112</td>\n",
       "    </tr>\n",
       "  </tbody>\n",
       "</table>\n",
       "</div>"
      ],
      "text/plain": [
       "   threshold   tn  fp  fn   tp  accuracy  specificity  sensitivity\n",
       "0        0.1  524  53   0  259  0.936603     0.908146     1.000000\n",
       "1        0.2  543  34   0  259  0.959330     0.941075     1.000000\n",
       "2        0.3  564  13   0  259  0.984450     0.977470     1.000000\n",
       "3        0.4  572   5   3  256  0.990431     0.991334     0.988417\n",
       "4        0.5  575   2   8  251  0.988038     0.996534     0.969112"
      ]
     },
     "execution_count": 117,
     "metadata": {},
     "output_type": "execute_result"
    }
   ],
   "source": [
    "# adjusting threshold for classification\n",
    "tn = [None]*5\n",
    "fp = [None]*5\n",
    "fn = [None]*5\n",
    "tp = [None]*5\n",
    "acc_score = [None]*5\n",
    "specificity = [None]*5\n",
    "sensitivity = [None]*5\n",
    "\n",
    "for i in range(0,5):\n",
    "    test1 = (logreg.predict_proba(OH_X_valid)[:,1] >= (i+1)/10).astype(int)\n",
    "    cm1 = confusion_matrix(y_valid, test1)\n",
    "    tn[i] = cm1[0][0]\n",
    "    fp[i] = cm1[0][1]\n",
    "    fn[i] = cm1[1][0]\n",
    "    tp[i] = cm1[1][1]\n",
    "    acc_score[i] = accuracy_score(y_valid, test1)\n",
    "    specificity[i] = tn[i] / (tn[i] + fp[i]) # tell the true negative rate\n",
    "    sensitivity[i] = tp[i] / float(tp[i] + fn[i])\n",
    "    \n",
    "data_temp = pd.DataFrame(\n",
    "    {'threshold': [0.1, 0.2, 0.3, 0.4, 0.5],\n",
    "        'tn': tn,\n",
    "        'fp': fp,\n",
    "        'fn': fn,\n",
    "        'tp': tp,\n",
    "        'accuracy': acc_score,\n",
    "        'specificity': specificity,\n",
    "        'sensitivity': sensitivity\n",
    "    })\n",
    "\n",
    "data_temp\n",
    "    \n",
    " "
   ]
  },
  {
   "cell_type": "markdown",
   "metadata": {},
   "source": [
    "- The default threshold is 0.5 and by adjusting it, the sensitivity and specificity will change\n",
    "- Sensitivity and specificity have an inverse relationship\n",
    "- From the table, we can see increasing threshold increase the accuracy, but accuracy decreases slightly from 0.4 to 0.5"
   ]
  },
  {
   "cell_type": "markdown",
   "metadata": {},
   "source": [
    "## 8. ROC - AUC\n",
    "1. Stands for receiver operating characteristic curve. It shows the performance of classification model at various classification threshold levels. \n",
    "2. The curve also shows the performance of a classification model at various classification threshold levels."
   ]
  },
  {
   "cell_type": "code",
   "execution_count": 118,
   "metadata": {},
   "outputs": [
    {
     "data": {
      "image/png": "[encoded data removed]",
      "text/plain": [
       "<Figure size 640x480 with 1 Axes>"
      ]
     },
     "metadata": {},
     "output_type": "display_data"
    },
    {
     "data": {
      "text/plain": [
       "<Figure size 640x480 with 0 Axes>"
      ]
     },
     "metadata": {},
     "output_type": "display_data"
    }
   ],
   "source": [
    "from sklearn.metrics import roc_auc_score\n",
    "from sklearn.metrics import roc_curve\n",
    "logit_roc_auc = roc_auc_score(y_valid, logreg.predict(OH_X_valid))\n",
    "fpr, tpr, thresholds = roc_curve(y_valid, logreg.predict_proba(OH_X_valid)[:,1])\n",
    "plt.figure()\n",
    "plt.plot(fpr, tpr, label='Logistic Regression (area = %0.2f)' % logit_roc_auc)\n",
    "plt.plot([0, 1], [0, 1],'r--')\n",
    "plt.xlim([0.0, 1.0])\n",
    "plt.ylim([0.0, 1.05])\n",
    "plt.xlabel('False Positive Rate')\n",
    "plt.ylabel('True Positive Rate')\n",
    "plt.title('Receiver operating characteristic')\n",
    "plt.legend(loc=\"lower right\")\n",
    "plt.show()\n",
    "\n",
    "plt.savefig('images/Log_ROC.png')"
   ]
  },
  {
   "cell_type": "markdown",
   "metadata": {},
   "source": [
    "- Stands for receiver operating characteristic - area under curve\n",
    "- To compare classifier performance\n",
    "- Perfect classifier will have AOC equal to 1 whereas a random classifier will have a ROC AUC equal to 0.5\n",
    "- The higher the number, the better the classifier\n",
    "- Since our model ROC-AUC approximate to 1, we can conclude that our classifier does a good job in predicting whether a location has a flood risk or no flood risk."
   ]
  },
  {
   "cell_type": "code",
   "execution_count": 119,
   "metadata": {},
   "outputs": [
    {
     "name": "stdout",
     "output_type": "stream",
     "text": [
      "ROC AUC : 0.9997\n"
     ]
    }
   ],
   "source": [
    "from sklearn.metrics import roc_auc_score\n",
    "\n",
    "ROC_AUC = roc_auc_score(y_valid, y_pred1)\n",
    "print('ROC AUC : {:.4f}'.format(ROC_AUC))"
   ]
  },
  {
   "cell_type": "markdown",
   "metadata": {},
   "source": [
    "## 9. k-Fold Cross Validation"
   ]
  },
  {
   "cell_type": "code",
   "execution_count": 120,
   "metadata": {},
   "outputs": [
    {
     "name": "stdout",
     "output_type": "stream",
     "text": [
      "Cross-validation scores:[0.9955157  0.98804185 1.         0.98353293 0.99850299]\n",
      "Average cross-validation score: 0.9931\n"
     ]
    }
   ],
   "source": [
    "# Applying 5-Fold Cross Validation\n",
    "\n",
    "from sklearn.model_selection import cross_val_score\n",
    "scores = cross_val_score(logreg, OH_X_train, y_train, cv = 5, scoring='accuracy')\n",
    "print('Cross-validation scores:{}'.format(scores))\n",
    "print('Average cross-validation score: {:.4f}'.format(scores.mean()))"
   ]
  },
  {
   "cell_type": "markdown",
   "metadata": {},
   "source": [
    "Original model score is 0.988, cross validation improve slightly the performance of the model"
   ]
  },
  {
   "cell_type": "markdown",
   "metadata": {},
   "source": [
    "## 10. Hyperparameter Optimization using GridSearch CV"
   ]
  },
  {
   "cell_type": "code",
   "execution_count": 121,
   "metadata": {},
   "outputs": [
    {
     "name": "stderr",
     "output_type": "stream",
     "text": [
      "c:\\Users\\Khor Kean Teng\\AppData\\Local\\Programs\\Python\\Python311\\Lib\\site-packages\\sklearn\\svm\\_base.py:1242: ConvergenceWarning: Liblinear failed to converge, increase the number of iterations.\n",
      "  warnings.warn(\n",
      "c:\\Users\\Khor Kean Teng\\AppData\\Local\\Programs\\Python\\Python311\\Lib\\site-packages\\sklearn\\svm\\_base.py:1242: ConvergenceWarning: Liblinear failed to converge, increase the number of iterations.\n",
      "  warnings.warn(\n"
     ]
    },
    {
     "data": {
      "text/html": [
       "<style>#sk-container-id-6 {color: black;}#sk-container-id-6 pre{padding: 0;}#sk-container-id-6 div.sk-toggleable {background-color: white;}#sk-container-id-6 label.sk-toggleable__label {cursor: pointer;display: block;width: 100%;margin-bottom: 0;padding: 0.3em;box-sizing: border-box;text-align: center;}#sk-container-id-6 label.sk-toggleable__label-arrow:before {content: \"▸\";float: left;margin-right: 0.25em;color: #696969;}#sk-container-id-6 label.sk-toggleable__label-arrow:hover:before {color: black;}#sk-container-id-6 div.sk-estimator:hover label.sk-toggleable__label-arrow:before {color: black;}#sk-container-id-6 div.sk-toggleable__content {max-height: 0;max-width: 0;overflow: hidden;text-align: left;background-color: #f0f8ff;}#sk-container-id-6 div.sk-toggleable__content pre {margin: 0.2em;color: black;border-radius: 0.25em;background-color: #f0f8ff;}#sk-container-id-6 input.sk-toggleable__control:checked~div.sk-toggleable__content {max-height: 200px;max-width: 100%;overflow: auto;}#sk-container-id-6 input.sk-toggleable__control:checked~label.sk-toggleable__label-arrow:before {content: \"▾\";}#sk-container-id-6 div.sk-estimator input.sk-toggleable__control:checked~label.sk-toggleable__label {background-color: #d4ebff;}#sk-container-id-6 div.sk-label input.sk-toggleable__control:checked~label.sk-toggleable__label {background-color: #d4ebff;}#sk-container-id-6 input.sk-hidden--visually {border: 0;clip: rect(1px 1px 1px 1px);clip: rect(1px, 1px, 1px, 1px);height: 1px;margin: -1px;overflow: hidden;padding: 0;position: absolute;width: 1px;}#sk-container-id-6 div.sk-estimator {font-family: monospace;background-color: #f0f8ff;border: 1px dotted black;border-radius: 0.25em;box-sizing: border-box;margin-bottom: 0.5em;}#sk-container-id-6 div.sk-estimator:hover {background-color: #d4ebff;}#sk-container-id-6 div.sk-parallel-item::after {content: \"\";width: 100%;border-bottom: 1px solid gray;flex-grow: 1;}#sk-container-id-6 div.sk-label:hover label.sk-toggleable__label {background-color: #d4ebff;}#sk-container-id-6 div.sk-serial::before {content: \"\";position: absolute;border-left: 1px solid gray;box-sizing: border-box;top: 0;bottom: 0;left: 50%;z-index: 0;}#sk-container-id-6 div.sk-serial {display: flex;flex-direction: column;align-items: center;background-color: white;padding-right: 0.2em;padding-left: 0.2em;position: relative;}#sk-container-id-6 div.sk-item {position: relative;z-index: 1;}#sk-container-id-6 div.sk-parallel {display: flex;align-items: stretch;justify-content: center;background-color: white;position: relative;}#sk-container-id-6 div.sk-item::before, #sk-container-id-6 div.sk-parallel-item::before {content: \"\";position: absolute;border-left: 1px solid gray;box-sizing: border-box;top: 0;bottom: 0;left: 50%;z-index: -1;}#sk-container-id-6 div.sk-parallel-item {display: flex;flex-direction: column;z-index: 1;position: relative;background-color: white;}#sk-container-id-6 div.sk-parallel-item:first-child::after {align-self: flex-end;width: 50%;}#sk-container-id-6 div.sk-parallel-item:last-child::after {align-self: flex-start;width: 50%;}#sk-container-id-6 div.sk-parallel-item:only-child::after {width: 0;}#sk-container-id-6 div.sk-dashed-wrapped {border: 1px dashed gray;margin: 0 0.4em 0.5em 0.4em;box-sizing: border-box;padding-bottom: 0.4em;background-color: white;}#sk-container-id-6 div.sk-label label {font-family: monospace;font-weight: bold;display: inline-block;line-height: 1.2em;}#sk-container-id-6 div.sk-label-container {text-align: center;}#sk-container-id-6 div.sk-container {/* jupyter's `normalize.less` sets `[hidden] { display: none; }` but bootstrap.min.css set `[hidden] { display: none !important; }` so we also need the `!important` here to be able to override the default hidden behavior on the sphinx rendered scikit-learn.org. See: https://github.com/scikit-learn/scikit-learn/issues/21755 */display: inline-block !important;position: relative;}#sk-container-id-6 div.sk-text-repr-fallback {display: none;}</style><div id=\"sk-container-id-6\" class=\"sk-top-container\"><div class=\"sk-text-repr-fallback\"><pre>GridSearchCV(cv=5,\n",
       "             estimator=LogisticRegression(random_state=0, solver=&#x27;liblinear&#x27;),\n",
       "             param_grid=[{&#x27;penalty&#x27;: [&#x27;l1&#x27;, &#x27;l2&#x27;]}, {&#x27;C&#x27;: [1, 10, 100, 1000]}],\n",
       "             scoring=&#x27;accuracy&#x27;)</pre><b>In a Jupyter environment, please rerun this cell to show the HTML representation or trust the notebook. <br />On GitHub, the HTML representation is unable to render, please try loading this page with nbviewer.org.</b></div><div class=\"sk-container\" hidden><div class=\"sk-item sk-dashed-wrapped\"><div class=\"sk-label-container\"><div class=\"sk-label sk-toggleable\"><input class=\"sk-toggleable__control sk-hidden--visually\" id=\"sk-estimator-id-10\" type=\"checkbox\" ><label for=\"sk-estimator-id-10\" class=\"sk-toggleable__label sk-toggleable__label-arrow\">GridSearchCV</label><div class=\"sk-toggleable__content\"><pre>GridSearchCV(cv=5,\n",
       "             estimator=LogisticRegression(random_state=0, solver=&#x27;liblinear&#x27;),\n",
       "             param_grid=[{&#x27;penalty&#x27;: [&#x27;l1&#x27;, &#x27;l2&#x27;]}, {&#x27;C&#x27;: [1, 10, 100, 1000]}],\n",
       "             scoring=&#x27;accuracy&#x27;)</pre></div></div></div><div class=\"sk-parallel\"><div class=\"sk-parallel-item\"><div class=\"sk-item\"><div class=\"sk-label-container\"><div class=\"sk-label sk-toggleable\"><input class=\"sk-toggleable__control sk-hidden--visually\" id=\"sk-estimator-id-11\" type=\"checkbox\" ><label for=\"sk-estimator-id-11\" class=\"sk-toggleable__label sk-toggleable__label-arrow\">estimator: LogisticRegression</label><div class=\"sk-toggleable__content\"><pre>LogisticRegression(random_state=0, solver=&#x27;liblinear&#x27;)</pre></div></div></div><div class=\"sk-serial\"><div class=\"sk-item\"><div class=\"sk-estimator sk-toggleable\"><input class=\"sk-toggleable__control sk-hidden--visually\" id=\"sk-estimator-id-12\" type=\"checkbox\" ><label for=\"sk-estimator-id-12\" class=\"sk-toggleable__label sk-toggleable__label-arrow\">LogisticRegression</label><div class=\"sk-toggleable__content\"><pre>LogisticRegression(random_state=0, solver=&#x27;liblinear&#x27;)</pre></div></div></div></div></div></div></div></div></div></div>"
      ],
      "text/plain": [
       "GridSearchCV(cv=5,\n",
       "             estimator=LogisticRegression(random_state=0, solver='liblinear'),\n",
       "             param_grid=[{'penalty': ['l1', 'l2']}, {'C': [1, 10, 100, 1000]}],\n",
       "             scoring='accuracy')"
      ]
     },
     "execution_count": 121,
     "metadata": {},
     "output_type": "execute_result"
    }
   ],
   "source": [
    "from sklearn.model_selection import GridSearchCV\n",
    "\n",
    "parameters = [{'penalty':['l1','l2']}, \n",
    "              {'C':[1, 10, 100, 1000]}]\n",
    "\n",
    "grid_search = GridSearchCV(estimator = logreg,  \n",
    "                           param_grid = parameters,\n",
    "                           scoring = 'accuracy',\n",
    "                           cv = 5,\n",
    "                           verbose=0)\n",
    "\n",
    "grid_search.fit(OH_X_train, y_train)"
   ]
  },
  {
   "cell_type": "code",
   "execution_count": 122,
   "metadata": {},
   "outputs": [
    {
     "name": "stdout",
     "output_type": "stream",
     "text": [
      "GridSearch CV best score : 0.9988\n",
      "\n",
      "\n",
      "Parameters that give the best results : \n",
      "\n",
      " {'penalty': 'l1'}\n",
      "\n",
      "\n",
      "Estimator that was chosen by the search : \n",
      "\n",
      " LogisticRegression(penalty='l1', random_state=0, solver='liblinear')\n",
      "GridSearch CV score on test set: 0.9940\n"
     ]
    }
   ],
   "source": [
    "# examine the best model\n",
    "\n",
    "# best score achieved during the GridSearchCV\n",
    "print('GridSearch CV best score : {:.4f}\\n\\n'.format(grid_search.best_score_))\n",
    "\n",
    "# print parameters that give the best results\n",
    "print('Parameters that give the best results :','\\n\\n', (grid_search.best_params_))\n",
    "\n",
    "# print estimator that was chosen by the GridSearch\n",
    "print('\\n\\nEstimator that was chosen by the search :','\\n\\n', (grid_search.best_estimator_))\n",
    "\n",
    "# calculate GridSearch CV score on test set\n",
    "print('GridSearch CV score on test set: {0:0.4f}'.format(grid_search.score(OH_X_valid, y_valid)))"
   ]
  },
  {
   "cell_type": "markdown",
   "metadata": {},
   "source": [
    "- Better than model accuracy slightly\n",
    "- Improve slightly the performance of the model"
   ]
  },
  {
   "cell_type": "markdown",
   "metadata": {},
   "source": [
    "## 11. Conclusion\n",
    "1. The logistic regression model accuracy score stood at 0.988. The model does a very good job in predicting whether a location in Malaysia has or has no risk of flooding. \n",
    "2. From the validation set, we can see that there are several locations with flood risk and several with no flood risk\n",
    "3. There's no sign of overfitting of the model\n",
    "4. We have also checked that by changing the threshold we can improve the model's performance\n",
    "5. We also have a high ROC AUC which approx to 1. This means that this classifier does a very good job in flood risk prediction\n",
    "6. From the model confusion matrix, we can see that there are only a few false positives and false negatives\n",
    "7. We also found that cross validation as well as grid search cross validation tend to improve slightly the model performance."
   ]
  }
 ],
 "metadata": {
  "kernelspec": {
   "display_name": "Python 3",
   "language": "python",
   "name": "python3"
  },
  "language_info": {
   "codemirror_mode": {
    "name": "ipython",
    "version": 3
   },
   "file_extension": ".py",
   "mimetype": "text/x-python",
   "name": "python",
   "nbconvert_exporter": "python",
   "pygments_lexer": "ipython3",
   "version": "3.11.4"
  },
  "orig_nbformat": 4
 },
 "nbformat": 4,
 "nbformat_minor": 2
}
